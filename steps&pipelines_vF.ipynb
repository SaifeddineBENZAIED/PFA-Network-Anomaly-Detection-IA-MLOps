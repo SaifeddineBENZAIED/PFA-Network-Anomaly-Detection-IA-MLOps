{
  "nbformat": 4,
  "nbformat_minor": 0,
  "metadata": {
    "colab": {
      "provenance": [],
      "gpuType": "T4"
    },
    "kernelspec": {
      "name": "python3",
      "display_name": "Python 3"
    },
    "language_info": {
      "name": "python"
    },
    "accelerator": "GPU"
  },
  "cells": [
    {
      "cell_type": "code",
      "source": [
        "%pip install \"zenml[server]\"\n",
        "%pip install zenml\n",
        "!zenml integration install sklearn -y\n",
        "%pip install pyparsing\n",
        "import IPython"
      ],
      "metadata": {
        "colab": {
          "base_uri": "https://localhost:8080/"
        },
        "id": "ZL3X7JZT1luA",
        "outputId": "84e22ef1-70c8-4567-8309-8d4694f90e04"
      },
      "execution_count": 1,
      "outputs": [
        {
          "output_type": "stream",
          "name": "stdout",
          "text": [
            "Requirement already satisfied: zenml[server] in /usr/local/lib/python3.10/dist-packages (0.57.0)\n",
            "Requirement already satisfied: alembic<1.9.0,>=1.8.1 in /usr/local/lib/python3.10/dist-packages (from zenml[server]) (1.8.1)\n",
            "Requirement already satisfied: azure-mgmt-resource>=21.0.0 in /usr/local/lib/python3.10/dist-packages (from zenml[server]) (23.0.1)\n",
            "Requirement already satisfied: bcrypt==4.0.1 in /usr/local/lib/python3.10/dist-packages (from zenml[server]) (4.0.1)\n",
            "Requirement already satisfied: click<8.1.4,>=8.0.1 in /usr/local/lib/python3.10/dist-packages (from zenml[server]) (8.1.3)\n",
            "Requirement already satisfied: click-params<0.4.0,>=0.3.0 in /usr/local/lib/python3.10/dist-packages (from zenml[server]) (0.3.0)\n",
            "Requirement already satisfied: cloudpickle<3,>=2.0.0 in /usr/local/lib/python3.10/dist-packages (from zenml[server]) (2.2.1)\n",
            "Requirement already satisfied: distro<2.0.0,>=1.6.0 in /usr/lib/python3/dist-packages (from zenml[server]) (1.7.0)\n",
            "Requirement already satisfied: docker<6.2.0,>=6.1.0 in /usr/local/lib/python3.10/dist-packages (from zenml[server]) (6.1.3)\n",
            "Requirement already satisfied: gitpython<4.0.0,>=3.1.18 in /usr/local/lib/python3.10/dist-packages (from zenml[server]) (3.1.43)\n",
            "Requirement already satisfied: httplib2<0.20,>=0.19.1 in /usr/local/lib/python3.10/dist-packages (from zenml[server]) (0.19.1)\n",
            "Requirement already satisfied: pandas>=1.1.5 in /usr/local/lib/python3.10/dist-packages (from zenml[server]) (2.0.3)\n",
            "Requirement already satisfied: passlib[bcrypt]<1.8.0,>=1.7.4 in /usr/local/lib/python3.10/dist-packages (from zenml[server]) (1.7.4)\n",
            "Requirement already satisfied: psutil>=5.0.0 in /usr/local/lib/python3.10/dist-packages (from zenml[server]) (5.9.5)\n",
            "Requirement already satisfied: pydantic<1.11,>=1.9.0 in /usr/local/lib/python3.10/dist-packages (from zenml[server]) (1.10.15)\n",
            "Requirement already satisfied: pymysql<1.1.0,>=1.0.2 in /usr/local/lib/python3.10/dist-packages (from zenml[server]) (1.0.3)\n",
            "Requirement already satisfied: pyparsing<3,>=2.4.0 in /usr/local/lib/python3.10/dist-packages (from zenml[server]) (2.4.7)\n",
            "Requirement already satisfied: python-dateutil<3.0.0,>=2.8.1 in /usr/local/lib/python3.10/dist-packages (from zenml[server]) (2.8.2)\n",
            "Requirement already satisfied: pyyaml>=6.0.1 in /usr/local/lib/python3.10/dist-packages (from zenml[server]) (6.0.1)\n",
            "Requirement already satisfied: rich[jupyter]>=12.0.0 in /usr/local/lib/python3.10/dist-packages (from zenml[server]) (13.7.1)\n",
            "Requirement already satisfied: secure<0.4.0,>=0.3.0 in /usr/local/lib/python3.10/dist-packages (from zenml[server]) (0.3.0)\n",
            "Requirement already satisfied: sqlalchemy_utils==0.38.3 in /usr/local/lib/python3.10/dist-packages (from zenml[server]) (0.38.3)\n",
            "Requirement already satisfied: sqlmodel==0.0.8 in /usr/local/lib/python3.10/dist-packages (from zenml[server]) (0.0.8)\n",
            "Requirement already satisfied: Jinja2 in /usr/local/lib/python3.10/dist-packages (from zenml[server]) (3.1.3)\n",
            "Requirement already satisfied: fastapi<0.111,>=0.75 in /usr/local/lib/python3.10/dist-packages (from zenml[server]) (0.110.3)\n",
            "Requirement already satisfied: fastapi-utils<0.3.0,>=0.2.1 in /usr/local/lib/python3.10/dist-packages (from zenml[server]) (0.2.1)\n",
            "Requirement already satisfied: ipinfo>=4.4.3 in /usr/local/lib/python3.10/dist-packages (from zenml[server]) (5.0.1)\n",
            "Requirement already satisfied: orjson<3.11.0,>=3.10.0 in /usr/local/lib/python3.10/dist-packages (from zenml[server]) (3.10.3)\n",
            "Requirement already satisfied: pyjwt[crypto]==2.7.* in /usr/local/lib/python3.10/dist-packages (from zenml[server]) (2.7.0)\n",
            "Requirement already satisfied: python-multipart<0.1.0,>=0.0.9 in /usr/local/lib/python3.10/dist-packages (from zenml[server]) (0.0.9)\n",
            "Requirement already satisfied: uvicorn[standard]>=0.17.5 in /usr/local/lib/python3.10/dist-packages (from zenml[server]) (0.29.0)\n",
            "Requirement already satisfied: cryptography>=3.4.0 in /usr/local/lib/python3.10/dist-packages (from pyjwt[crypto]==2.7.*->zenml[server]) (42.0.5)\n",
            "Requirement already satisfied: SQLAlchemy>=1.3 in /usr/local/lib/python3.10/dist-packages (from sqlalchemy_utils==0.38.3->zenml[server]) (1.4.41)\n",
            "Requirement already satisfied: sqlalchemy2-stubs in /usr/local/lib/python3.10/dist-packages (from sqlmodel==0.0.8->zenml[server]) (0.0.2a38)\n",
            "Requirement already satisfied: Mako in /usr/local/lib/python3.10/dist-packages (from alembic<1.9.0,>=1.8.1->zenml[server]) (1.3.3)\n",
            "Requirement already satisfied: isodate<1.0.0,>=0.6.1 in /usr/local/lib/python3.10/dist-packages (from azure-mgmt-resource>=21.0.0->zenml[server]) (0.6.1)\n",
            "Requirement already satisfied: azure-common~=1.1 in /usr/local/lib/python3.10/dist-packages (from azure-mgmt-resource>=21.0.0->zenml[server]) (1.1.28)\n",
            "Requirement already satisfied: azure-mgmt-core<2.0.0,>=1.3.2 in /usr/local/lib/python3.10/dist-packages (from azure-mgmt-resource>=21.0.0->zenml[server]) (1.4.0)\n",
            "Requirement already satisfied: validators<0.19,>=0.18 in /usr/local/lib/python3.10/dist-packages (from click-params<0.4.0,>=0.3.0->zenml[server]) (0.18.2)\n",
            "Requirement already satisfied: packaging>=14.0 in /usr/local/lib/python3.10/dist-packages (from docker<6.2.0,>=6.1.0->zenml[server]) (24.0)\n",
            "Requirement already satisfied: requests>=2.26.0 in /usr/local/lib/python3.10/dist-packages (from docker<6.2.0,>=6.1.0->zenml[server]) (2.31.0)\n",
            "Requirement already satisfied: urllib3>=1.26.0 in /usr/local/lib/python3.10/dist-packages (from docker<6.2.0,>=6.1.0->zenml[server]) (2.0.7)\n",
            "Requirement already satisfied: websocket-client>=0.32.0 in /usr/local/lib/python3.10/dist-packages (from docker<6.2.0,>=6.1.0->zenml[server]) (1.8.0)\n",
            "Requirement already satisfied: starlette<0.38.0,>=0.37.2 in /usr/local/lib/python3.10/dist-packages (from fastapi<0.111,>=0.75->zenml[server]) (0.37.2)\n",
            "Requirement already satisfied: typing-extensions>=4.8.0 in /usr/local/lib/python3.10/dist-packages (from fastapi<0.111,>=0.75->zenml[server]) (4.11.0)\n",
            "Requirement already satisfied: gitdb<5,>=4.0.1 in /usr/local/lib/python3.10/dist-packages (from gitpython<4.0.0,>=3.1.18->zenml[server]) (4.0.11)\n",
            "Requirement already satisfied: cachetools in /usr/local/lib/python3.10/dist-packages (from ipinfo>=4.4.3->zenml[server]) (5.3.3)\n",
            "Requirement already satisfied: aiohttp<=4 in /usr/local/lib/python3.10/dist-packages (from ipinfo>=4.4.3->zenml[server]) (3.9.5)\n",
            "Requirement already satisfied: pytz>=2020.1 in /usr/local/lib/python3.10/dist-packages (from pandas>=1.1.5->zenml[server]) (2023.4)\n",
            "Requirement already satisfied: tzdata>=2022.1 in /usr/local/lib/python3.10/dist-packages (from pandas>=1.1.5->zenml[server]) (2024.1)\n",
            "Requirement already satisfied: numpy>=1.21.0 in /usr/local/lib/python3.10/dist-packages (from pandas>=1.1.5->zenml[server]) (1.25.2)\n",
            "Requirement already satisfied: six>=1.5 in /usr/local/lib/python3.10/dist-packages (from python-dateutil<3.0.0,>=2.8.1->zenml[server]) (1.16.0)\n",
            "Requirement already satisfied: markdown-it-py>=2.2.0 in /usr/local/lib/python3.10/dist-packages (from rich[jupyter]>=12.0.0->zenml[server]) (3.0.0)\n",
            "Requirement already satisfied: pygments<3.0.0,>=2.13.0 in /usr/local/lib/python3.10/dist-packages (from rich[jupyter]>=12.0.0->zenml[server]) (2.16.1)\n",
            "Requirement already satisfied: ipywidgets<9,>=7.5.1 in /usr/local/lib/python3.10/dist-packages (from rich[jupyter]>=12.0.0->zenml[server]) (7.7.1)\n",
            "Requirement already satisfied: h11>=0.8 in /usr/local/lib/python3.10/dist-packages (from uvicorn[standard]>=0.17.5->zenml[server]) (0.14.0)\n",
            "Requirement already satisfied: httptools>=0.5.0 in /usr/local/lib/python3.10/dist-packages (from uvicorn[standard]>=0.17.5->zenml[server]) (0.6.1)\n",
            "Requirement already satisfied: python-dotenv>=0.13 in /usr/local/lib/python3.10/dist-packages (from uvicorn[standard]>=0.17.5->zenml[server]) (1.0.1)\n",
            "Requirement already satisfied: uvloop!=0.15.0,!=0.15.1,>=0.14.0 in /usr/local/lib/python3.10/dist-packages (from uvicorn[standard]>=0.17.5->zenml[server]) (0.19.0)\n",
            "Requirement already satisfied: watchfiles>=0.13 in /usr/local/lib/python3.10/dist-packages (from uvicorn[standard]>=0.17.5->zenml[server]) (0.21.0)\n",
            "Requirement already satisfied: websockets>=10.4 in /usr/local/lib/python3.10/dist-packages (from uvicorn[standard]>=0.17.5->zenml[server]) (12.0)\n",
            "Requirement already satisfied: MarkupSafe>=2.0 in /usr/local/lib/python3.10/dist-packages (from Jinja2->zenml[server]) (2.1.5)\n",
            "Requirement already satisfied: aiosignal>=1.1.2 in /usr/local/lib/python3.10/dist-packages (from aiohttp<=4->ipinfo>=4.4.3->zenml[server]) (1.3.1)\n",
            "Requirement already satisfied: attrs>=17.3.0 in /usr/local/lib/python3.10/dist-packages (from aiohttp<=4->ipinfo>=4.4.3->zenml[server]) (23.2.0)\n",
            "Requirement already satisfied: frozenlist>=1.1.1 in /usr/local/lib/python3.10/dist-packages (from aiohttp<=4->ipinfo>=4.4.3->zenml[server]) (1.4.1)\n",
            "Requirement already satisfied: multidict<7.0,>=4.5 in /usr/local/lib/python3.10/dist-packages (from aiohttp<=4->ipinfo>=4.4.3->zenml[server]) (6.0.5)\n",
            "Requirement already satisfied: yarl<2.0,>=1.0 in /usr/local/lib/python3.10/dist-packages (from aiohttp<=4->ipinfo>=4.4.3->zenml[server]) (1.9.4)\n",
            "Requirement already satisfied: async-timeout<5.0,>=4.0 in /usr/local/lib/python3.10/dist-packages (from aiohttp<=4->ipinfo>=4.4.3->zenml[server]) (4.0.3)\n",
            "Requirement already satisfied: azure-core<2.0.0,>=1.26.2 in /usr/local/lib/python3.10/dist-packages (from azure-mgmt-core<2.0.0,>=1.3.2->azure-mgmt-resource>=21.0.0->zenml[server]) (1.30.1)\n",
            "Requirement already satisfied: cffi>=1.12 in /usr/local/lib/python3.10/dist-packages (from cryptography>=3.4.0->pyjwt[crypto]==2.7.*->zenml[server]) (1.16.0)\n",
            "Requirement already satisfied: smmap<6,>=3.0.1 in /usr/local/lib/python3.10/dist-packages (from gitdb<5,>=4.0.1->gitpython<4.0.0,>=3.1.18->zenml[server]) (5.0.1)\n",
            "Requirement already satisfied: ipykernel>=4.5.1 in /usr/local/lib/python3.10/dist-packages (from ipywidgets<9,>=7.5.1->rich[jupyter]>=12.0.0->zenml[server]) (5.5.6)\n",
            "Requirement already satisfied: ipython-genutils~=0.2.0 in /usr/local/lib/python3.10/dist-packages (from ipywidgets<9,>=7.5.1->rich[jupyter]>=12.0.0->zenml[server]) (0.2.0)\n",
            "Requirement already satisfied: traitlets>=4.3.1 in /usr/local/lib/python3.10/dist-packages (from ipywidgets<9,>=7.5.1->rich[jupyter]>=12.0.0->zenml[server]) (5.7.1)\n",
            "Requirement already satisfied: widgetsnbextension~=3.6.0 in /usr/local/lib/python3.10/dist-packages (from ipywidgets<9,>=7.5.1->rich[jupyter]>=12.0.0->zenml[server]) (3.6.6)\n",
            "Requirement already satisfied: ipython>=4.0.0 in /usr/local/lib/python3.10/dist-packages (from ipywidgets<9,>=7.5.1->rich[jupyter]>=12.0.0->zenml[server]) (7.34.0)\n",
            "Requirement already satisfied: jupyterlab-widgets>=1.0.0 in /usr/local/lib/python3.10/dist-packages (from ipywidgets<9,>=7.5.1->rich[jupyter]>=12.0.0->zenml[server]) (3.0.10)\n",
            "Requirement already satisfied: mdurl~=0.1 in /usr/local/lib/python3.10/dist-packages (from markdown-it-py>=2.2.0->rich[jupyter]>=12.0.0->zenml[server]) (0.1.2)\n",
            "Requirement already satisfied: charset-normalizer<4,>=2 in /usr/local/lib/python3.10/dist-packages (from requests>=2.26.0->docker<6.2.0,>=6.1.0->zenml[server]) (3.3.2)\n",
            "Requirement already satisfied: idna<4,>=2.5 in /usr/local/lib/python3.10/dist-packages (from requests>=2.26.0->docker<6.2.0,>=6.1.0->zenml[server]) (3.7)\n",
            "Requirement already satisfied: certifi>=2017.4.17 in /usr/local/lib/python3.10/dist-packages (from requests>=2.26.0->docker<6.2.0,>=6.1.0->zenml[server]) (2024.2.2)\n",
            "Requirement already satisfied: greenlet!=0.4.17 in /usr/local/lib/python3.10/dist-packages (from SQLAlchemy>=1.3->sqlalchemy_utils==0.38.3->zenml[server]) (3.0.3)\n",
            "Requirement already satisfied: anyio<5,>=3.4.0 in /usr/local/lib/python3.10/dist-packages (from starlette<0.38.0,>=0.37.2->fastapi<0.111,>=0.75->zenml[server]) (3.7.1)\n",
            "Requirement already satisfied: decorator>=3.4.0 in /usr/local/lib/python3.10/dist-packages (from validators<0.19,>=0.18->click-params<0.4.0,>=0.3.0->zenml[server]) (4.4.2)\n",
            "Requirement already satisfied: sniffio>=1.1 in /usr/local/lib/python3.10/dist-packages (from anyio<5,>=3.4.0->starlette<0.38.0,>=0.37.2->fastapi<0.111,>=0.75->zenml[server]) (1.3.1)\n",
            "Requirement already satisfied: exceptiongroup in /usr/local/lib/python3.10/dist-packages (from anyio<5,>=3.4.0->starlette<0.38.0,>=0.37.2->fastapi<0.111,>=0.75->zenml[server]) (1.2.1)\n",
            "Requirement already satisfied: pycparser in /usr/local/lib/python3.10/dist-packages (from cffi>=1.12->cryptography>=3.4.0->pyjwt[crypto]==2.7.*->zenml[server]) (2.22)\n",
            "Requirement already satisfied: jupyter-client in /usr/local/lib/python3.10/dist-packages (from ipykernel>=4.5.1->ipywidgets<9,>=7.5.1->rich[jupyter]>=12.0.0->zenml[server]) (6.1.12)\n",
            "Requirement already satisfied: tornado>=4.2 in /usr/local/lib/python3.10/dist-packages (from ipykernel>=4.5.1->ipywidgets<9,>=7.5.1->rich[jupyter]>=12.0.0->zenml[server]) (6.3.3)\n",
            "Requirement already satisfied: setuptools>=18.5 in /usr/local/lib/python3.10/dist-packages (from ipython>=4.0.0->ipywidgets<9,>=7.5.1->rich[jupyter]>=12.0.0->zenml[server]) (67.7.2)\n",
            "Requirement already satisfied: jedi>=0.16 in /usr/local/lib/python3.10/dist-packages (from ipython>=4.0.0->ipywidgets<9,>=7.5.1->rich[jupyter]>=12.0.0->zenml[server]) (0.19.1)\n",
            "Requirement already satisfied: pickleshare in /usr/local/lib/python3.10/dist-packages (from ipython>=4.0.0->ipywidgets<9,>=7.5.1->rich[jupyter]>=12.0.0->zenml[server]) (0.7.5)\n",
            "Requirement already satisfied: prompt-toolkit!=3.0.0,!=3.0.1,<3.1.0,>=2.0.0 in /usr/local/lib/python3.10/dist-packages (from ipython>=4.0.0->ipywidgets<9,>=7.5.1->rich[jupyter]>=12.0.0->zenml[server]) (3.0.43)\n",
            "Requirement already satisfied: backcall in /usr/local/lib/python3.10/dist-packages (from ipython>=4.0.0->ipywidgets<9,>=7.5.1->rich[jupyter]>=12.0.0->zenml[server]) (0.2.0)\n",
            "Requirement already satisfied: matplotlib-inline in /usr/local/lib/python3.10/dist-packages (from ipython>=4.0.0->ipywidgets<9,>=7.5.1->rich[jupyter]>=12.0.0->zenml[server]) (0.1.7)\n",
            "Requirement already satisfied: pexpect>4.3 in /usr/local/lib/python3.10/dist-packages (from ipython>=4.0.0->ipywidgets<9,>=7.5.1->rich[jupyter]>=12.0.0->zenml[server]) (4.9.0)\n",
            "Requirement already satisfied: notebook>=4.4.1 in /usr/local/lib/python3.10/dist-packages (from widgetsnbextension~=3.6.0->ipywidgets<9,>=7.5.1->rich[jupyter]>=12.0.0->zenml[server]) (6.5.5)\n",
            "Requirement already satisfied: parso<0.9.0,>=0.8.3 in /usr/local/lib/python3.10/dist-packages (from jedi>=0.16->ipython>=4.0.0->ipywidgets<9,>=7.5.1->rich[jupyter]>=12.0.0->zenml[server]) (0.8.4)\n",
            "Requirement already satisfied: pyzmq<25,>=17 in /usr/local/lib/python3.10/dist-packages (from notebook>=4.4.1->widgetsnbextension~=3.6.0->ipywidgets<9,>=7.5.1->rich[jupyter]>=12.0.0->zenml[server]) (24.0.1)\n",
            "Requirement already satisfied: argon2-cffi in /usr/local/lib/python3.10/dist-packages (from notebook>=4.4.1->widgetsnbextension~=3.6.0->ipywidgets<9,>=7.5.1->rich[jupyter]>=12.0.0->zenml[server]) (23.1.0)\n",
            "Requirement already satisfied: jupyter-core>=4.6.1 in /usr/local/lib/python3.10/dist-packages (from notebook>=4.4.1->widgetsnbextension~=3.6.0->ipywidgets<9,>=7.5.1->rich[jupyter]>=12.0.0->zenml[server]) (5.7.2)\n",
            "Requirement already satisfied: nbformat in /usr/local/lib/python3.10/dist-packages (from notebook>=4.4.1->widgetsnbextension~=3.6.0->ipywidgets<9,>=7.5.1->rich[jupyter]>=12.0.0->zenml[server]) (5.10.4)\n",
            "Requirement already satisfied: nbconvert>=5 in /usr/local/lib/python3.10/dist-packages (from notebook>=4.4.1->widgetsnbextension~=3.6.0->ipywidgets<9,>=7.5.1->rich[jupyter]>=12.0.0->zenml[server]) (6.5.4)\n",
            "Requirement already satisfied: nest-asyncio>=1.5 in /usr/local/lib/python3.10/dist-packages (from notebook>=4.4.1->widgetsnbextension~=3.6.0->ipywidgets<9,>=7.5.1->rich[jupyter]>=12.0.0->zenml[server]) (1.6.0)\n",
            "Requirement already satisfied: Send2Trash>=1.8.0 in /usr/local/lib/python3.10/dist-packages (from notebook>=4.4.1->widgetsnbextension~=3.6.0->ipywidgets<9,>=7.5.1->rich[jupyter]>=12.0.0->zenml[server]) (1.8.3)\n",
            "Requirement already satisfied: terminado>=0.8.3 in /usr/local/lib/python3.10/dist-packages (from notebook>=4.4.1->widgetsnbextension~=3.6.0->ipywidgets<9,>=7.5.1->rich[jupyter]>=12.0.0->zenml[server]) (0.18.1)\n",
            "Requirement already satisfied: prometheus-client in /usr/local/lib/python3.10/dist-packages (from notebook>=4.4.1->widgetsnbextension~=3.6.0->ipywidgets<9,>=7.5.1->rich[jupyter]>=12.0.0->zenml[server]) (0.20.0)\n",
            "Requirement already satisfied: nbclassic>=0.4.7 in /usr/local/lib/python3.10/dist-packages (from notebook>=4.4.1->widgetsnbextension~=3.6.0->ipywidgets<9,>=7.5.1->rich[jupyter]>=12.0.0->zenml[server]) (1.0.0)\n",
            "Requirement already satisfied: ptyprocess>=0.5 in /usr/local/lib/python3.10/dist-packages (from pexpect>4.3->ipython>=4.0.0->ipywidgets<9,>=7.5.1->rich[jupyter]>=12.0.0->zenml[server]) (0.7.0)\n",
            "Requirement already satisfied: wcwidth in /usr/local/lib/python3.10/dist-packages (from prompt-toolkit!=3.0.0,!=3.0.1,<3.1.0,>=2.0.0->ipython>=4.0.0->ipywidgets<9,>=7.5.1->rich[jupyter]>=12.0.0->zenml[server]) (0.2.13)\n",
            "Requirement already satisfied: platformdirs>=2.5 in /usr/local/lib/python3.10/dist-packages (from jupyter-core>=4.6.1->notebook>=4.4.1->widgetsnbextension~=3.6.0->ipywidgets<9,>=7.5.1->rich[jupyter]>=12.0.0->zenml[server]) (4.2.1)\n",
            "Requirement already satisfied: jupyter-server>=1.8 in /usr/local/lib/python3.10/dist-packages (from nbclassic>=0.4.7->notebook>=4.4.1->widgetsnbextension~=3.6.0->ipywidgets<9,>=7.5.1->rich[jupyter]>=12.0.0->zenml[server]) (1.24.0)\n",
            "Requirement already satisfied: notebook-shim>=0.2.3 in /usr/local/lib/python3.10/dist-packages (from nbclassic>=0.4.7->notebook>=4.4.1->widgetsnbextension~=3.6.0->ipywidgets<9,>=7.5.1->rich[jupyter]>=12.0.0->zenml[server]) (0.2.4)\n",
            "Requirement already satisfied: lxml in /usr/local/lib/python3.10/dist-packages (from nbconvert>=5->notebook>=4.4.1->widgetsnbextension~=3.6.0->ipywidgets<9,>=7.5.1->rich[jupyter]>=12.0.0->zenml[server]) (4.9.4)\n",
            "Requirement already satisfied: beautifulsoup4 in /usr/local/lib/python3.10/dist-packages (from nbconvert>=5->notebook>=4.4.1->widgetsnbextension~=3.6.0->ipywidgets<9,>=7.5.1->rich[jupyter]>=12.0.0->zenml[server]) (4.12.3)\n",
            "Requirement already satisfied: bleach in /usr/local/lib/python3.10/dist-packages (from nbconvert>=5->notebook>=4.4.1->widgetsnbextension~=3.6.0->ipywidgets<9,>=7.5.1->rich[jupyter]>=12.0.0->zenml[server]) (6.1.0)\n",
            "Requirement already satisfied: defusedxml in /usr/local/lib/python3.10/dist-packages (from nbconvert>=5->notebook>=4.4.1->widgetsnbextension~=3.6.0->ipywidgets<9,>=7.5.1->rich[jupyter]>=12.0.0->zenml[server]) (0.7.1)\n",
            "Requirement already satisfied: entrypoints>=0.2.2 in /usr/local/lib/python3.10/dist-packages (from nbconvert>=5->notebook>=4.4.1->widgetsnbextension~=3.6.0->ipywidgets<9,>=7.5.1->rich[jupyter]>=12.0.0->zenml[server]) (0.4)\n",
            "Requirement already satisfied: jupyterlab-pygments in /usr/local/lib/python3.10/dist-packages (from nbconvert>=5->notebook>=4.4.1->widgetsnbextension~=3.6.0->ipywidgets<9,>=7.5.1->rich[jupyter]>=12.0.0->zenml[server]) (0.3.0)\n",
            "Requirement already satisfied: mistune<2,>=0.8.1 in /usr/local/lib/python3.10/dist-packages (from nbconvert>=5->notebook>=4.4.1->widgetsnbextension~=3.6.0->ipywidgets<9,>=7.5.1->rich[jupyter]>=12.0.0->zenml[server]) (0.8.4)\n",
            "Requirement already satisfied: nbclient>=0.5.0 in /usr/local/lib/python3.10/dist-packages (from nbconvert>=5->notebook>=4.4.1->widgetsnbextension~=3.6.0->ipywidgets<9,>=7.5.1->rich[jupyter]>=12.0.0->zenml[server]) (0.10.0)\n",
            "Requirement already satisfied: pandocfilters>=1.4.1 in /usr/local/lib/python3.10/dist-packages (from nbconvert>=5->notebook>=4.4.1->widgetsnbextension~=3.6.0->ipywidgets<9,>=7.5.1->rich[jupyter]>=12.0.0->zenml[server]) (1.5.1)\n",
            "Requirement already satisfied: tinycss2 in /usr/local/lib/python3.10/dist-packages (from nbconvert>=5->notebook>=4.4.1->widgetsnbextension~=3.6.0->ipywidgets<9,>=7.5.1->rich[jupyter]>=12.0.0->zenml[server]) (1.3.0)\n",
            "Requirement already satisfied: fastjsonschema>=2.15 in /usr/local/lib/python3.10/dist-packages (from nbformat->notebook>=4.4.1->widgetsnbextension~=3.6.0->ipywidgets<9,>=7.5.1->rich[jupyter]>=12.0.0->zenml[server]) (2.19.1)\n",
            "Requirement already satisfied: jsonschema>=2.6 in /usr/local/lib/python3.10/dist-packages (from nbformat->notebook>=4.4.1->widgetsnbextension~=3.6.0->ipywidgets<9,>=7.5.1->rich[jupyter]>=12.0.0->zenml[server]) (4.19.2)\n",
            "Requirement already satisfied: argon2-cffi-bindings in /usr/local/lib/python3.10/dist-packages (from argon2-cffi->notebook>=4.4.1->widgetsnbextension~=3.6.0->ipywidgets<9,>=7.5.1->rich[jupyter]>=12.0.0->zenml[server]) (21.2.0)\n",
            "Requirement already satisfied: jsonschema-specifications>=2023.03.6 in /usr/local/lib/python3.10/dist-packages (from jsonschema>=2.6->nbformat->notebook>=4.4.1->widgetsnbextension~=3.6.0->ipywidgets<9,>=7.5.1->rich[jupyter]>=12.0.0->zenml[server]) (2023.12.1)\n",
            "Requirement already satisfied: referencing>=0.28.4 in /usr/local/lib/python3.10/dist-packages (from jsonschema>=2.6->nbformat->notebook>=4.4.1->widgetsnbextension~=3.6.0->ipywidgets<9,>=7.5.1->rich[jupyter]>=12.0.0->zenml[server]) (0.35.0)\n",
            "Requirement already satisfied: rpds-py>=0.7.1 in /usr/local/lib/python3.10/dist-packages (from jsonschema>=2.6->nbformat->notebook>=4.4.1->widgetsnbextension~=3.6.0->ipywidgets<9,>=7.5.1->rich[jupyter]>=12.0.0->zenml[server]) (0.18.0)\n",
            "Requirement already satisfied: soupsieve>1.2 in /usr/local/lib/python3.10/dist-packages (from beautifulsoup4->nbconvert>=5->notebook>=4.4.1->widgetsnbextension~=3.6.0->ipywidgets<9,>=7.5.1->rich[jupyter]>=12.0.0->zenml[server]) (2.5)\n",
            "Requirement already satisfied: webencodings in /usr/local/lib/python3.10/dist-packages (from bleach->nbconvert>=5->notebook>=4.4.1->widgetsnbextension~=3.6.0->ipywidgets<9,>=7.5.1->rich[jupyter]>=12.0.0->zenml[server]) (0.5.1)\n",
            "Requirement already satisfied: zenml in /usr/local/lib/python3.10/dist-packages (0.57.0)\n",
            "Requirement already satisfied: alembic<1.9.0,>=1.8.1 in /usr/local/lib/python3.10/dist-packages (from zenml) (1.8.1)\n",
            "Requirement already satisfied: azure-mgmt-resource>=21.0.0 in /usr/local/lib/python3.10/dist-packages (from zenml) (23.0.1)\n",
            "Requirement already satisfied: bcrypt==4.0.1 in /usr/local/lib/python3.10/dist-packages (from zenml) (4.0.1)\n",
            "Requirement already satisfied: click<8.1.4,>=8.0.1 in /usr/local/lib/python3.10/dist-packages (from zenml) (8.1.3)\n",
            "Requirement already satisfied: click-params<0.4.0,>=0.3.0 in /usr/local/lib/python3.10/dist-packages (from zenml) (0.3.0)\n",
            "Requirement already satisfied: cloudpickle<3,>=2.0.0 in /usr/local/lib/python3.10/dist-packages (from zenml) (2.2.1)\n",
            "Requirement already satisfied: distro<2.0.0,>=1.6.0 in /usr/lib/python3/dist-packages (from zenml) (1.7.0)\n",
            "Requirement already satisfied: docker<6.2.0,>=6.1.0 in /usr/local/lib/python3.10/dist-packages (from zenml) (6.1.3)\n",
            "Requirement already satisfied: gitpython<4.0.0,>=3.1.18 in /usr/local/lib/python3.10/dist-packages (from zenml) (3.1.43)\n",
            "Requirement already satisfied: httplib2<0.20,>=0.19.1 in /usr/local/lib/python3.10/dist-packages (from zenml) (0.19.1)\n",
            "Requirement already satisfied: pandas>=1.1.5 in /usr/local/lib/python3.10/dist-packages (from zenml) (2.0.3)\n",
            "Requirement already satisfied: passlib[bcrypt]<1.8.0,>=1.7.4 in /usr/local/lib/python3.10/dist-packages (from zenml) (1.7.4)\n",
            "Requirement already satisfied: psutil>=5.0.0 in /usr/local/lib/python3.10/dist-packages (from zenml) (5.9.5)\n",
            "Requirement already satisfied: pydantic<1.11,>=1.9.0 in /usr/local/lib/python3.10/dist-packages (from zenml) (1.10.15)\n",
            "Requirement already satisfied: pymysql<1.1.0,>=1.0.2 in /usr/local/lib/python3.10/dist-packages (from zenml) (1.0.3)\n",
            "Requirement already satisfied: pyparsing<3,>=2.4.0 in /usr/local/lib/python3.10/dist-packages (from zenml) (2.4.7)\n",
            "Requirement already satisfied: python-dateutil<3.0.0,>=2.8.1 in /usr/local/lib/python3.10/dist-packages (from zenml) (2.8.2)\n",
            "Requirement already satisfied: pyyaml>=6.0.1 in /usr/local/lib/python3.10/dist-packages (from zenml) (6.0.1)\n",
            "Requirement already satisfied: rich[jupyter]>=12.0.0 in /usr/local/lib/python3.10/dist-packages (from zenml) (13.7.1)\n",
            "Requirement already satisfied: secure<0.4.0,>=0.3.0 in /usr/local/lib/python3.10/dist-packages (from zenml) (0.3.0)\n",
            "Requirement already satisfied: sqlalchemy_utils==0.38.3 in /usr/local/lib/python3.10/dist-packages (from zenml) (0.38.3)\n",
            "Requirement already satisfied: sqlmodel==0.0.8 in /usr/local/lib/python3.10/dist-packages (from zenml) (0.0.8)\n",
            "Requirement already satisfied: SQLAlchemy>=1.3 in /usr/local/lib/python3.10/dist-packages (from sqlalchemy_utils==0.38.3->zenml) (1.4.41)\n",
            "Requirement already satisfied: sqlalchemy2-stubs in /usr/local/lib/python3.10/dist-packages (from sqlmodel==0.0.8->zenml) (0.0.2a38)\n",
            "Requirement already satisfied: Mako in /usr/local/lib/python3.10/dist-packages (from alembic<1.9.0,>=1.8.1->zenml) (1.3.3)\n",
            "Requirement already satisfied: isodate<1.0.0,>=0.6.1 in /usr/local/lib/python3.10/dist-packages (from azure-mgmt-resource>=21.0.0->zenml) (0.6.1)\n",
            "Requirement already satisfied: azure-common~=1.1 in /usr/local/lib/python3.10/dist-packages (from azure-mgmt-resource>=21.0.0->zenml) (1.1.28)\n",
            "Requirement already satisfied: azure-mgmt-core<2.0.0,>=1.3.2 in /usr/local/lib/python3.10/dist-packages (from azure-mgmt-resource>=21.0.0->zenml) (1.4.0)\n",
            "Requirement already satisfied: validators<0.19,>=0.18 in /usr/local/lib/python3.10/dist-packages (from click-params<0.4.0,>=0.3.0->zenml) (0.18.2)\n",
            "Requirement already satisfied: packaging>=14.0 in /usr/local/lib/python3.10/dist-packages (from docker<6.2.0,>=6.1.0->zenml) (24.0)\n",
            "Requirement already satisfied: requests>=2.26.0 in /usr/local/lib/python3.10/dist-packages (from docker<6.2.0,>=6.1.0->zenml) (2.31.0)\n",
            "Requirement already satisfied: urllib3>=1.26.0 in /usr/local/lib/python3.10/dist-packages (from docker<6.2.0,>=6.1.0->zenml) (2.0.7)\n",
            "Requirement already satisfied: websocket-client>=0.32.0 in /usr/local/lib/python3.10/dist-packages (from docker<6.2.0,>=6.1.0->zenml) (1.8.0)\n",
            "Requirement already satisfied: gitdb<5,>=4.0.1 in /usr/local/lib/python3.10/dist-packages (from gitpython<4.0.0,>=3.1.18->zenml) (4.0.11)\n",
            "Requirement already satisfied: pytz>=2020.1 in /usr/local/lib/python3.10/dist-packages (from pandas>=1.1.5->zenml) (2023.4)\n",
            "Requirement already satisfied: tzdata>=2022.1 in /usr/local/lib/python3.10/dist-packages (from pandas>=1.1.5->zenml) (2024.1)\n",
            "Requirement already satisfied: numpy>=1.21.0 in /usr/local/lib/python3.10/dist-packages (from pandas>=1.1.5->zenml) (1.25.2)\n",
            "Requirement already satisfied: typing-extensions>=4.2.0 in /usr/local/lib/python3.10/dist-packages (from pydantic<1.11,>=1.9.0->zenml) (4.11.0)\n",
            "Requirement already satisfied: six>=1.5 in /usr/local/lib/python3.10/dist-packages (from python-dateutil<3.0.0,>=2.8.1->zenml) (1.16.0)\n",
            "Requirement already satisfied: markdown-it-py>=2.2.0 in /usr/local/lib/python3.10/dist-packages (from rich[jupyter]>=12.0.0->zenml) (3.0.0)\n",
            "Requirement already satisfied: pygments<3.0.0,>=2.13.0 in /usr/local/lib/python3.10/dist-packages (from rich[jupyter]>=12.0.0->zenml) (2.16.1)\n",
            "Requirement already satisfied: ipywidgets<9,>=7.5.1 in /usr/local/lib/python3.10/dist-packages (from rich[jupyter]>=12.0.0->zenml) (7.7.1)\n",
            "Requirement already satisfied: azure-core<2.0.0,>=1.26.2 in /usr/local/lib/python3.10/dist-packages (from azure-mgmt-core<2.0.0,>=1.3.2->azure-mgmt-resource>=21.0.0->zenml) (1.30.1)\n",
            "Requirement already satisfied: smmap<6,>=3.0.1 in /usr/local/lib/python3.10/dist-packages (from gitdb<5,>=4.0.1->gitpython<4.0.0,>=3.1.18->zenml) (5.0.1)\n",
            "Requirement already satisfied: ipykernel>=4.5.1 in /usr/local/lib/python3.10/dist-packages (from ipywidgets<9,>=7.5.1->rich[jupyter]>=12.0.0->zenml) (5.5.6)\n",
            "Requirement already satisfied: ipython-genutils~=0.2.0 in /usr/local/lib/python3.10/dist-packages (from ipywidgets<9,>=7.5.1->rich[jupyter]>=12.0.0->zenml) (0.2.0)\n",
            "Requirement already satisfied: traitlets>=4.3.1 in /usr/local/lib/python3.10/dist-packages (from ipywidgets<9,>=7.5.1->rich[jupyter]>=12.0.0->zenml) (5.7.1)\n",
            "Requirement already satisfied: widgetsnbextension~=3.6.0 in /usr/local/lib/python3.10/dist-packages (from ipywidgets<9,>=7.5.1->rich[jupyter]>=12.0.0->zenml) (3.6.6)\n",
            "Requirement already satisfied: ipython>=4.0.0 in /usr/local/lib/python3.10/dist-packages (from ipywidgets<9,>=7.5.1->rich[jupyter]>=12.0.0->zenml) (7.34.0)\n",
            "Requirement already satisfied: jupyterlab-widgets>=1.0.0 in /usr/local/lib/python3.10/dist-packages (from ipywidgets<9,>=7.5.1->rich[jupyter]>=12.0.0->zenml) (3.0.10)\n",
            "Requirement already satisfied: mdurl~=0.1 in /usr/local/lib/python3.10/dist-packages (from markdown-it-py>=2.2.0->rich[jupyter]>=12.0.0->zenml) (0.1.2)\n",
            "Requirement already satisfied: charset-normalizer<4,>=2 in /usr/local/lib/python3.10/dist-packages (from requests>=2.26.0->docker<6.2.0,>=6.1.0->zenml) (3.3.2)\n",
            "Requirement already satisfied: idna<4,>=2.5 in /usr/local/lib/python3.10/dist-packages (from requests>=2.26.0->docker<6.2.0,>=6.1.0->zenml) (3.7)\n",
            "Requirement already satisfied: certifi>=2017.4.17 in /usr/local/lib/python3.10/dist-packages (from requests>=2.26.0->docker<6.2.0,>=6.1.0->zenml) (2024.2.2)\n",
            "Requirement already satisfied: greenlet!=0.4.17 in /usr/local/lib/python3.10/dist-packages (from SQLAlchemy>=1.3->sqlalchemy_utils==0.38.3->zenml) (3.0.3)\n",
            "Requirement already satisfied: decorator>=3.4.0 in /usr/local/lib/python3.10/dist-packages (from validators<0.19,>=0.18->click-params<0.4.0,>=0.3.0->zenml) (4.4.2)\n",
            "Requirement already satisfied: MarkupSafe>=0.9.2 in /usr/local/lib/python3.10/dist-packages (from Mako->alembic<1.9.0,>=1.8.1->zenml) (2.1.5)\n",
            "Requirement already satisfied: jupyter-client in /usr/local/lib/python3.10/dist-packages (from ipykernel>=4.5.1->ipywidgets<9,>=7.5.1->rich[jupyter]>=12.0.0->zenml) (6.1.12)\n",
            "Requirement already satisfied: tornado>=4.2 in /usr/local/lib/python3.10/dist-packages (from ipykernel>=4.5.1->ipywidgets<9,>=7.5.1->rich[jupyter]>=12.0.0->zenml) (6.3.3)\n",
            "Requirement already satisfied: setuptools>=18.5 in /usr/local/lib/python3.10/dist-packages (from ipython>=4.0.0->ipywidgets<9,>=7.5.1->rich[jupyter]>=12.0.0->zenml) (67.7.2)\n",
            "Requirement already satisfied: jedi>=0.16 in /usr/local/lib/python3.10/dist-packages (from ipython>=4.0.0->ipywidgets<9,>=7.5.1->rich[jupyter]>=12.0.0->zenml) (0.19.1)\n",
            "Requirement already satisfied: pickleshare in /usr/local/lib/python3.10/dist-packages (from ipython>=4.0.0->ipywidgets<9,>=7.5.1->rich[jupyter]>=12.0.0->zenml) (0.7.5)\n",
            "Requirement already satisfied: prompt-toolkit!=3.0.0,!=3.0.1,<3.1.0,>=2.0.0 in /usr/local/lib/python3.10/dist-packages (from ipython>=4.0.0->ipywidgets<9,>=7.5.1->rich[jupyter]>=12.0.0->zenml) (3.0.43)\n",
            "Requirement already satisfied: backcall in /usr/local/lib/python3.10/dist-packages (from ipython>=4.0.0->ipywidgets<9,>=7.5.1->rich[jupyter]>=12.0.0->zenml) (0.2.0)\n",
            "Requirement already satisfied: matplotlib-inline in /usr/local/lib/python3.10/dist-packages (from ipython>=4.0.0->ipywidgets<9,>=7.5.1->rich[jupyter]>=12.0.0->zenml) (0.1.7)\n",
            "Requirement already satisfied: pexpect>4.3 in /usr/local/lib/python3.10/dist-packages (from ipython>=4.0.0->ipywidgets<9,>=7.5.1->rich[jupyter]>=12.0.0->zenml) (4.9.0)\n",
            "Requirement already satisfied: notebook>=4.4.1 in /usr/local/lib/python3.10/dist-packages (from widgetsnbextension~=3.6.0->ipywidgets<9,>=7.5.1->rich[jupyter]>=12.0.0->zenml) (6.5.5)\n",
            "Requirement already satisfied: parso<0.9.0,>=0.8.3 in /usr/local/lib/python3.10/dist-packages (from jedi>=0.16->ipython>=4.0.0->ipywidgets<9,>=7.5.1->rich[jupyter]>=12.0.0->zenml) (0.8.4)\n",
            "Requirement already satisfied: jinja2 in /usr/local/lib/python3.10/dist-packages (from notebook>=4.4.1->widgetsnbextension~=3.6.0->ipywidgets<9,>=7.5.1->rich[jupyter]>=12.0.0->zenml) (3.1.3)\n",
            "Requirement already satisfied: pyzmq<25,>=17 in /usr/local/lib/python3.10/dist-packages (from notebook>=4.4.1->widgetsnbextension~=3.6.0->ipywidgets<9,>=7.5.1->rich[jupyter]>=12.0.0->zenml) (24.0.1)\n",
            "Requirement already satisfied: argon2-cffi in /usr/local/lib/python3.10/dist-packages (from notebook>=4.4.1->widgetsnbextension~=3.6.0->ipywidgets<9,>=7.5.1->rich[jupyter]>=12.0.0->zenml) (23.1.0)\n",
            "Requirement already satisfied: jupyter-core>=4.6.1 in /usr/local/lib/python3.10/dist-packages (from notebook>=4.4.1->widgetsnbextension~=3.6.0->ipywidgets<9,>=7.5.1->rich[jupyter]>=12.0.0->zenml) (5.7.2)\n",
            "Requirement already satisfied: nbformat in /usr/local/lib/python3.10/dist-packages (from notebook>=4.4.1->widgetsnbextension~=3.6.0->ipywidgets<9,>=7.5.1->rich[jupyter]>=12.0.0->zenml) (5.10.4)\n",
            "Requirement already satisfied: nbconvert>=5 in /usr/local/lib/python3.10/dist-packages (from notebook>=4.4.1->widgetsnbextension~=3.6.0->ipywidgets<9,>=7.5.1->rich[jupyter]>=12.0.0->zenml) (6.5.4)\n",
            "Requirement already satisfied: nest-asyncio>=1.5 in /usr/local/lib/python3.10/dist-packages (from notebook>=4.4.1->widgetsnbextension~=3.6.0->ipywidgets<9,>=7.5.1->rich[jupyter]>=12.0.0->zenml) (1.6.0)\n",
            "Requirement already satisfied: Send2Trash>=1.8.0 in /usr/local/lib/python3.10/dist-packages (from notebook>=4.4.1->widgetsnbextension~=3.6.0->ipywidgets<9,>=7.5.1->rich[jupyter]>=12.0.0->zenml) (1.8.3)\n",
            "Requirement already satisfied: terminado>=0.8.3 in /usr/local/lib/python3.10/dist-packages (from notebook>=4.4.1->widgetsnbextension~=3.6.0->ipywidgets<9,>=7.5.1->rich[jupyter]>=12.0.0->zenml) (0.18.1)\n",
            "Requirement already satisfied: prometheus-client in /usr/local/lib/python3.10/dist-packages (from notebook>=4.4.1->widgetsnbextension~=3.6.0->ipywidgets<9,>=7.5.1->rich[jupyter]>=12.0.0->zenml) (0.20.0)\n",
            "Requirement already satisfied: nbclassic>=0.4.7 in /usr/local/lib/python3.10/dist-packages (from notebook>=4.4.1->widgetsnbextension~=3.6.0->ipywidgets<9,>=7.5.1->rich[jupyter]>=12.0.0->zenml) (1.0.0)\n",
            "Requirement already satisfied: ptyprocess>=0.5 in /usr/local/lib/python3.10/dist-packages (from pexpect>4.3->ipython>=4.0.0->ipywidgets<9,>=7.5.1->rich[jupyter]>=12.0.0->zenml) (0.7.0)\n",
            "Requirement already satisfied: wcwidth in /usr/local/lib/python3.10/dist-packages (from prompt-toolkit!=3.0.0,!=3.0.1,<3.1.0,>=2.0.0->ipython>=4.0.0->ipywidgets<9,>=7.5.1->rich[jupyter]>=12.0.0->zenml) (0.2.13)\n",
            "Requirement already satisfied: platformdirs>=2.5 in /usr/local/lib/python3.10/dist-packages (from jupyter-core>=4.6.1->notebook>=4.4.1->widgetsnbextension~=3.6.0->ipywidgets<9,>=7.5.1->rich[jupyter]>=12.0.0->zenml) (4.2.1)\n",
            "Requirement already satisfied: jupyter-server>=1.8 in /usr/local/lib/python3.10/dist-packages (from nbclassic>=0.4.7->notebook>=4.4.1->widgetsnbextension~=3.6.0->ipywidgets<9,>=7.5.1->rich[jupyter]>=12.0.0->zenml) (1.24.0)\n",
            "Requirement already satisfied: notebook-shim>=0.2.3 in /usr/local/lib/python3.10/dist-packages (from nbclassic>=0.4.7->notebook>=4.4.1->widgetsnbextension~=3.6.0->ipywidgets<9,>=7.5.1->rich[jupyter]>=12.0.0->zenml) (0.2.4)\n",
            "Requirement already satisfied: lxml in /usr/local/lib/python3.10/dist-packages (from nbconvert>=5->notebook>=4.4.1->widgetsnbextension~=3.6.0->ipywidgets<9,>=7.5.1->rich[jupyter]>=12.0.0->zenml) (4.9.4)\n",
            "Requirement already satisfied: beautifulsoup4 in /usr/local/lib/python3.10/dist-packages (from nbconvert>=5->notebook>=4.4.1->widgetsnbextension~=3.6.0->ipywidgets<9,>=7.5.1->rich[jupyter]>=12.0.0->zenml) (4.12.3)\n",
            "Requirement already satisfied: bleach in /usr/local/lib/python3.10/dist-packages (from nbconvert>=5->notebook>=4.4.1->widgetsnbextension~=3.6.0->ipywidgets<9,>=7.5.1->rich[jupyter]>=12.0.0->zenml) (6.1.0)\n",
            "Requirement already satisfied: defusedxml in /usr/local/lib/python3.10/dist-packages (from nbconvert>=5->notebook>=4.4.1->widgetsnbextension~=3.6.0->ipywidgets<9,>=7.5.1->rich[jupyter]>=12.0.0->zenml) (0.7.1)\n",
            "Requirement already satisfied: entrypoints>=0.2.2 in /usr/local/lib/python3.10/dist-packages (from nbconvert>=5->notebook>=4.4.1->widgetsnbextension~=3.6.0->ipywidgets<9,>=7.5.1->rich[jupyter]>=12.0.0->zenml) (0.4)\n",
            "Requirement already satisfied: jupyterlab-pygments in /usr/local/lib/python3.10/dist-packages (from nbconvert>=5->notebook>=4.4.1->widgetsnbextension~=3.6.0->ipywidgets<9,>=7.5.1->rich[jupyter]>=12.0.0->zenml) (0.3.0)\n",
            "Requirement already satisfied: mistune<2,>=0.8.1 in /usr/local/lib/python3.10/dist-packages (from nbconvert>=5->notebook>=4.4.1->widgetsnbextension~=3.6.0->ipywidgets<9,>=7.5.1->rich[jupyter]>=12.0.0->zenml) (0.8.4)\n",
            "Requirement already satisfied: nbclient>=0.5.0 in /usr/local/lib/python3.10/dist-packages (from nbconvert>=5->notebook>=4.4.1->widgetsnbextension~=3.6.0->ipywidgets<9,>=7.5.1->rich[jupyter]>=12.0.0->zenml) (0.10.0)\n",
            "Requirement already satisfied: pandocfilters>=1.4.1 in /usr/local/lib/python3.10/dist-packages (from nbconvert>=5->notebook>=4.4.1->widgetsnbextension~=3.6.0->ipywidgets<9,>=7.5.1->rich[jupyter]>=12.0.0->zenml) (1.5.1)\n",
            "Requirement already satisfied: tinycss2 in /usr/local/lib/python3.10/dist-packages (from nbconvert>=5->notebook>=4.4.1->widgetsnbextension~=3.6.0->ipywidgets<9,>=7.5.1->rich[jupyter]>=12.0.0->zenml) (1.3.0)\n",
            "Requirement already satisfied: fastjsonschema>=2.15 in /usr/local/lib/python3.10/dist-packages (from nbformat->notebook>=4.4.1->widgetsnbextension~=3.6.0->ipywidgets<9,>=7.5.1->rich[jupyter]>=12.0.0->zenml) (2.19.1)\n",
            "Requirement already satisfied: jsonschema>=2.6 in /usr/local/lib/python3.10/dist-packages (from nbformat->notebook>=4.4.1->widgetsnbextension~=3.6.0->ipywidgets<9,>=7.5.1->rich[jupyter]>=12.0.0->zenml) (4.19.2)\n",
            "Requirement already satisfied: argon2-cffi-bindings in /usr/local/lib/python3.10/dist-packages (from argon2-cffi->notebook>=4.4.1->widgetsnbextension~=3.6.0->ipywidgets<9,>=7.5.1->rich[jupyter]>=12.0.0->zenml) (21.2.0)\n",
            "Requirement already satisfied: attrs>=22.2.0 in /usr/local/lib/python3.10/dist-packages (from jsonschema>=2.6->nbformat->notebook>=4.4.1->widgetsnbextension~=3.6.0->ipywidgets<9,>=7.5.1->rich[jupyter]>=12.0.0->zenml) (23.2.0)\n",
            "Requirement already satisfied: jsonschema-specifications>=2023.03.6 in /usr/local/lib/python3.10/dist-packages (from jsonschema>=2.6->nbformat->notebook>=4.4.1->widgetsnbextension~=3.6.0->ipywidgets<9,>=7.5.1->rich[jupyter]>=12.0.0->zenml) (2023.12.1)\n",
            "Requirement already satisfied: referencing>=0.28.4 in /usr/local/lib/python3.10/dist-packages (from jsonschema>=2.6->nbformat->notebook>=4.4.1->widgetsnbextension~=3.6.0->ipywidgets<9,>=7.5.1->rich[jupyter]>=12.0.0->zenml) (0.35.0)\n",
            "Requirement already satisfied: rpds-py>=0.7.1 in /usr/local/lib/python3.10/dist-packages (from jsonschema>=2.6->nbformat->notebook>=4.4.1->widgetsnbextension~=3.6.0->ipywidgets<9,>=7.5.1->rich[jupyter]>=12.0.0->zenml) (0.18.0)\n",
            "Requirement already satisfied: anyio<4,>=3.1.0 in /usr/local/lib/python3.10/dist-packages (from jupyter-server>=1.8->nbclassic>=0.4.7->notebook>=4.4.1->widgetsnbextension~=3.6.0->ipywidgets<9,>=7.5.1->rich[jupyter]>=12.0.0->zenml) (3.7.1)\n",
            "Requirement already satisfied: cffi>=1.0.1 in /usr/local/lib/python3.10/dist-packages (from argon2-cffi-bindings->argon2-cffi->notebook>=4.4.1->widgetsnbextension~=3.6.0->ipywidgets<9,>=7.5.1->rich[jupyter]>=12.0.0->zenml) (1.16.0)\n",
            "Requirement already satisfied: soupsieve>1.2 in /usr/local/lib/python3.10/dist-packages (from beautifulsoup4->nbconvert>=5->notebook>=4.4.1->widgetsnbextension~=3.6.0->ipywidgets<9,>=7.5.1->rich[jupyter]>=12.0.0->zenml) (2.5)\n",
            "Requirement already satisfied: webencodings in /usr/local/lib/python3.10/dist-packages (from bleach->nbconvert>=5->notebook>=4.4.1->widgetsnbextension~=3.6.0->ipywidgets<9,>=7.5.1->rich[jupyter]>=12.0.0->zenml) (0.5.1)\n",
            "Requirement already satisfied: sniffio>=1.1 in /usr/local/lib/python3.10/dist-packages (from anyio<4,>=3.1.0->jupyter-server>=1.8->nbclassic>=0.4.7->notebook>=4.4.1->widgetsnbextension~=3.6.0->ipywidgets<9,>=7.5.1->rich[jupyter]>=12.0.0->zenml) (1.3.1)\n",
            "Requirement already satisfied: exceptiongroup in /usr/local/lib/python3.10/dist-packages (from anyio<4,>=3.1.0->jupyter-server>=1.8->nbclassic>=0.4.7->notebook>=4.4.1->widgetsnbextension~=3.6.0->ipywidgets<9,>=7.5.1->rich[jupyter]>=12.0.0->zenml) (1.2.1)\n",
            "Requirement already satisfied: pycparser in /usr/local/lib/python3.10/dist-packages (from cffi>=1.0.1->argon2-cffi-bindings->argon2-cffi->notebook>=4.4.1->widgetsnbextension~=3.6.0->ipywidgets<9,>=7.5.1->rich[jupyter]>=12.0.0->zenml) (2.22)\n",
            "\u001b[1;35mNumExpr defaulting to 2 threads.\u001b[0m\n",
            "\u001b[2K\u001b[32m⠧\u001b[0m Installing integrations...\n",
            "\u001b[1A\u001b[2KRequirement already satisfied: pyparsing in /usr/local/lib/python3.10/dist-packages (2.4.7)\n"
          ]
        }
      ]
    },
    {
      "cell_type": "code",
      "source": [
        "NGROK_TOKEN = \"2g1Z76FuOM79vB5oCcSIvV2jeuO_3C314Zh9jEVFnBj5928km\"\n",
        "from zenml.environment import Environment\n",
        "\n",
        "if Environment.in_google_colab():\n",
        "  !pip install pyngrok\n",
        "  !ngrok authtoken {NGROK_TOKEN}\n",
        "\n",
        "!rm -rf .zen\n",
        "!zenml init"
      ],
      "metadata": {
        "colab": {
          "base_uri": "https://localhost:8080/"
        },
        "id": "Y40h0-Vq2u1A",
        "outputId": "a104f830-b968-47ba-a779-73e735e97e74"
      },
      "execution_count": 21,
      "outputs": [
        {
          "output_type": "stream",
          "name": "stdout",
          "text": [
            "Requirement already satisfied: pyngrok in /usr/local/lib/python3.10/dist-packages (7.1.6)\n",
            "Requirement already satisfied: PyYAML>=5.1 in /usr/local/lib/python3.10/dist-packages (from pyngrok) (6.0.1)\n",
            "Authtoken saved to configuration file: /root/.config/ngrok/ngrok.yml\n",
            "\u001b[1;35mNumExpr defaulting to 2 threads.\u001b[0m\n",
            "\u001b[?25l\u001b[32m⠋\u001b[0m Initializing ZenML repository at /content.\n",
            "\u001b[2K\u001b[1A\u001b[2K\u001b[32m⠙\u001b[0m Initializing ZenML repository at /content.\n",
            "\u001b[2K\u001b[1A\u001b[2K\u001b[32m⠹\u001b[0m Initializing ZenML repository at /content.\n",
            "\u001b[2K\u001b[1A\u001b[2K\u001b[32m⠸\u001b[0m Initializing ZenML repository at /content.\n",
            "\u001b[2K\u001b[1A\u001b[2K\u001b[32m⠼\u001b[0m Initializing ZenML repository at /content.\n",
            "\u001b[1;35mSetting the repo active workspace to 'default'.\u001b[0m\n",
            "\u001b[33mSetting the repo active stack to default.\u001b[0m\n",
            "\u001b[2K\u001b[1A\u001b[2K\u001b[2;36mZenML repository initialized at \u001b[0m\u001b[2;35m/\u001b[0m\u001b[2;95mcontent.\u001b[0m\n",
            "\u001b[2;32m⠼\u001b[0m\u001b[2;36m Initializing ZenML repository at /content.\u001b[0m\n",
            "\u001b[2K\u001b[1A\u001b[2K\u001b[32m⠼\u001b[0m Initializing ZenML repository at /content.\n",
            "\n",
            "\u001b[1A\u001b[2K\u001b[1A\u001b[2K\u001b[2;36mThe local active stack was initialized to \u001b[0m\u001b[2;32m'default'\u001b[0m\u001b[2;36m. This local configuration will only take effect \u001b[0m\n",
            "\u001b[2;36mwhen you're running ZenML from the initialized repository root, or from a subdirectory. For more \u001b[0m\n",
            "\u001b[2;36minformation on repositories and configurations, please visit \u001b[0m\n",
            "\u001b[2;4;94mhttps://docs.zenml.io/user-guide/starter-guide/understand-stacks.\u001b[0m\n"
          ]
        }
      ]
    },
    {
      "cell_type": "code",
      "source": [
        "from google.colab import drive\n",
        "drive.mount(\"/content/drive\")"
      ],
      "metadata": {
        "colab": {
          "base_uri": "https://localhost:8080/"
        },
        "id": "iHFiOSWc3GjI",
        "outputId": "8475f1b5-e2d3-4452-bab5-63071524fde1"
      },
      "execution_count": 3,
      "outputs": [
        {
          "output_type": "stream",
          "name": "stdout",
          "text": [
            "Drive already mounted at /content/drive; to attempt to forcibly remount, call drive.mount(\"/content/drive\", force_remount=True).\n"
          ]
        }
      ]
    },
    {
      "cell_type": "code",
      "source": [
        "from typing import Annotated, Optional, Tuple\n",
        "\n",
        "from zenml import get_step_context, pipeline, step\n",
        "from zenml.client import Client"
      ],
      "metadata": {
        "id": "PYuBr1Glw6u0"
      },
      "execution_count": 4,
      "outputs": []
    },
    {
      "cell_type": "code",
      "source": [
        "import pandas as pd\n",
        "import numpy as np\n",
        "from sklearn.preprocessing import LabelEncoder\n",
        "from sklearn.preprocessing import MinMaxScaler\n",
        "from sklearn.metrics import classification_report\n",
        "import tensorflow.keras as keras\n",
        "from typing import Tuple\n",
        "from sklearn.model_selection import train_test_split\n",
        "\n",
        "import logging\n",
        "import os\n",
        "\n",
        "import matplotlib.pyplot as plt\n",
        "\n",
        "from typing import Iterator"
      ],
      "metadata": {
        "id": "SGH06heH165X"
      },
      "execution_count": 5,
      "outputs": []
    },
    {
      "cell_type": "code",
      "source": [
        "directory_path = \"/content/drive/MyDrive/PFA_codes/DataSets/CICIDS2017/ProcessedDataset\"\n",
        "data_path = os.path.join(directory_path, \"MachineLearningCVE.csv\")"
      ],
      "metadata": {
        "id": "3vf-DuEN1WcU"
      },
      "execution_count": 6,
      "outputs": []
    },
    {
      "cell_type": "code",
      "source": [
        "\n",
        "@step\n",
        "def label_encoding_step(data_path: str) -> Annotated[LabelEncoder, \"le\"]:\n",
        "    import pandas as pd\n",
        "    from sklearn.preprocessing import LabelEncoder\n",
        "\n",
        "    labels = pd.read_csv(data_path, usecols=['Label'], skipinitialspace=True)\n",
        "\n",
        "    le = LabelEncoder()\n",
        "    le.fit(labels['Label'])\n",
        "    return le\n",
        "\n",
        "\n",
        "\n",
        "def process_data(df: pd.DataFrame, le: LabelEncoder) -> Annotated[pd.DataFrame, \"df\"]:\n",
        "\n",
        "    df['Label'] = le.transform(df['Label'])\n",
        "    df.replace([np.inf, -np.inf], np.nan, inplace=True)\n",
        "    df[df < 0] = np.nan\n",
        "    df.fillna(method='ffill', inplace=True)\n",
        "    df.fillna(method='bfill', inplace=True)\n",
        "\n",
        "    return df\n",
        "\n",
        "\n",
        "\n",
        "def split_data(df: pd.DataFrame) -> Tuple[Annotated[pd.DataFrame, \"x_train\"], Annotated[pd.DataFrame, \"x_test\"], Annotated[pd.DataFrame, \"y_train\"], Annotated[pd.DataFrame, \"y_test\"]]:\n",
        "\n",
        "    # Sampling the dataset\n",
        "    x = df.drop(columns=['Label'])\n",
        "    y = df[['Label']]\n",
        "\n",
        "    x_train, x_test, y_train, y_test = train_test_split(x, y, stratify=y, test_size=0.20, random_state=np.random.randint(10))\n",
        "\n",
        "    return x_train, x_test, y_train, y_test\n",
        "\n",
        "\n",
        "\n",
        "@step\n",
        "def preprocessing_all_step(le: LabelEncoder, data_path: str, chunksize=1000000) -> Tuple[Annotated[pd.DataFrame, \"x_train\"], Annotated[pd.DataFrame, \"x_test\"], Annotated[pd.DataFrame, \"y_train\"], Annotated[pd.DataFrame, \"y_test\"]]:\n",
        "    import pandas as pd\n",
        "\n",
        "    \"\"\"\n",
        "    Preprocess all files, handle class representation, split into train and test, and save.\n",
        "\n",
        "    Args:\n",
        "        le (LabelEncoder): The label encoder.\n",
        "        data_path (str): Path to the data file.\n",
        "        processed_dir_path (str): Directory path to save processed files.\n",
        "        chunksize (int): Size of chunks to process the data.\n",
        "\n",
        "    Returns:\n",
        "        None: Saves processed chunks directly to files.\n",
        "    \"\"\"\n",
        "    for chunk in pd.read_csv(data_path, skipinitialspace=True, chunksize=chunksize):\n",
        "        # Process the chunk\n",
        "        processed_chunk = process_data(chunk, le)\n",
        "\n",
        "        # Check if there is any class with only one instance\n",
        "        class_counts = processed_chunk['Label'].value_counts()\n",
        "        classes_with_single_instance = class_counts[class_counts == 1].index.tolist()\n",
        "\n",
        "        # Add another instance for each class with only one instance\n",
        "        for cls in classes_with_single_instance:\n",
        "            single_instance = processed_chunk[processed_chunk['Label'] == cls].iloc[0]\n",
        "            processed_chunk = pd.concat([processed_chunk, single_instance.to_frame().T], ignore_index=True)\n",
        "\n",
        "        # Split and save the processed chunk\n",
        "        x_train, x_test, y_train, y_test = split_data(processed_chunk)\n",
        "\n",
        "        return x_train, x_test, y_train, y_test\n",
        "\n",
        "\n",
        "\n",
        "def scale_data(x: np.ndarray) -> Annotated[np.ndarray, \"x_scaled\"]:\n",
        "    from sklearn.preprocessing import MinMaxScaler\n",
        "\n",
        "    scaler = MinMaxScaler()\n",
        "    x_scaled = scaler.fit_transform(x)\n",
        "    return x_scaled\n",
        "\n",
        "\n",
        "\n",
        "def reshape_data_for_cnn(x: np.ndarray) -> Annotated[np.ndarray, \"result\"]:\n",
        "    import numpy as np\n",
        "\n",
        "    result = np.zeros((x.shape[0], 81))\n",
        "    result[:, :-3] = x\n",
        "    result = result.reshape((result.shape[0], 9, 9, 1))\n",
        "    return result\n",
        "\n",
        "\n",
        "\n",
        "@step\n",
        "def create_cnn_model_step() -> Annotated[keras.Model, \"model\"]:\n",
        "    import tensorflow.keras as keras\n",
        "\n",
        "    inputs = keras.layers.Input(shape=(9, 9, 1))\n",
        "    x = keras.layers.Conv2D(120, (2, 2), activation='relu', padding=\"same\")(inputs)\n",
        "    x = keras.layers.Conv2D(60, (3, 3), activation='relu', padding=\"same\")(x)\n",
        "    x = keras.layers.Conv2D(30, (4, 4), activation='relu', padding=\"same\")(x)\n",
        "    x = keras.layers.Flatten()(x)\n",
        "    outputs = keras.layers.Dense(15, activation='softmax')(x)\n",
        "    model = keras.Model(inputs=inputs, outputs=outputs)\n",
        "    model.compile(loss='sparse_categorical_crossentropy', optimizer='adam', metrics=['sparse_categorical_accuracy'])\n",
        "    return model\n",
        "\n",
        "\n",
        "\n",
        "@step\n",
        "def train_model_step(model: keras.Model, data_path: str, le: LabelEncoder, chunksize=1000000) -> Annotated[keras.callbacks.History, \"history\"]:\n",
        "    import tensorflow.keras as keras\n",
        "\n",
        "    x_train, x_test, y_train, y_test = preprocessing_all_step(le, data_path)\n",
        "\n",
        "    x_train = scale_data(x_train)\n",
        "    x_train = reshape_data_for_cnn(x_train)\n",
        "\n",
        "    history = model.fit(x_train, y_train, validation_split=0.1, epochs=125, batch_size=1024, verbose=1)\n",
        "    return history\n",
        "\n",
        "\n",
        "\n",
        "@step\n",
        "def plot_training_history_step(history: keras.callbacks.History) -> None:\n",
        "    import matplotlib.pyplot as plt\n",
        "\n",
        "    plt.plot(history.history['sparse_categorical_accuracy'])\n",
        "    plt.plot(history.history['val_sparse_categorical_accuracy'])\n",
        "    plt.title('model accuracy')\n",
        "    plt.ylabel('accuracy')\n",
        "    plt.xlabel('epoch')\n",
        "    plt.legend(['train', 'test'], loc='upper left')\n",
        "    plt.show()\n",
        "\n",
        "    plt.plot(history.history['loss'])\n",
        "    plt.plot(history.history['val_loss'])\n",
        "    plt.title('model loss')\n",
        "    plt.ylabel('loss')\n",
        "    plt.xlabel('epoch')\n",
        "    plt.legend(['train', 'test'], loc='upper left')\n",
        "    plt.show()\n",
        "\n",
        "\n",
        "\n",
        "@step\n",
        "def evaluate_model_step(model: keras.Model, data_path: str, le: LabelEncoder, chunksize=1000000) -> None:\n",
        "    import tensorflow.keras as keras\n",
        "    from sklearn.metrics import classification_report\n",
        "\n",
        "    x_train, x_test, y_train, y_test = preprocessing_all_step(le, data_path)\n",
        "\n",
        "    x_test = scale_data(x_test)\n",
        "    x_test = reshape_data_for_cnn(x_test)\n",
        "\n",
        "    score = model.evaluate(x_test, y_test, verbose=1)\n",
        "    y_pred = model.predict(x_test)\n",
        "    y_pred = np.argmax(y_pred, axis=1)\n",
        "    report = classification_report(y_test, y_pred)\n",
        "    print('Evaluation:\\n', report)\n",
        "\n",
        "\n"
      ],
      "metadata": {
        "id": "YKrPe8How7R7"
      },
      "execution_count": 7,
      "outputs": []
    },
    {
      "cell_type": "code",
      "source": [
        "from zenml import pipeline\n",
        "\n",
        "@pipeline\n",
        "def preprocessing_pipeline():\n",
        "  le = label_encoding_step(data_path)\n",
        "  df = preprocessing_all_step(le, data_path, after=[\"label_encoding_step\"])\n",
        "\n"
      ],
      "metadata": {
        "id": "i40rxeV2y6Me"
      },
      "execution_count": 11,
      "outputs": []
    },
    {
      "cell_type": "code",
      "source": [
        "from zenml import pipeline\n",
        "\n",
        "@pipeline\n",
        "def cnn_training_pipeline():\n",
        "    le = label_encoding_step(data_path)\n",
        "    model = create_cnn_model_step(after=[\"label_encoding_step\"])\n",
        "    history = train_model_step(model, data_path, le, after=[\"create_cnn_model_step\", \"label_encoding_step\"])\n",
        "    plot_training_history_step(history, after=[\"train_model_step\"])\n",
        "    evaluate_model_step(model, data_path, le, after=[\"plot_training_history_step\"])\n",
        "\n"
      ],
      "metadata": {
        "id": "8nKt0MUm28_D"
      },
      "execution_count": 12,
      "outputs": []
    },
    {
      "cell_type": "code",
      "source": [
        "# Configure and run the Preprocessing Pipeline\n",
        "preprocessing_pipeline = preprocessing_pipeline.with_options(enable_cache=False)\n",
        "preprocessing_pipeline()\n"
      ],
      "metadata": {
        "colab": {
          "base_uri": "https://localhost:8080/"
        },
        "id": "GbQ_j1-L28os",
        "outputId": "8ca2dac8-4972-4526-8b07-ccb04a2d74b4"
      },
      "execution_count": 13,
      "outputs": [
        {
          "output_type": "stream",
          "name": "stdout",
          "text": [
            "\u001b[1;35mInitiating a new run for the pipeline: \u001b[0m\u001b[1;36mpreprocessing_pipeline\u001b[1;35m.\u001b[0m\n",
            "\u001b[1;35mRegistered new version: \u001b[0m\u001b[1;36m(version 2)\u001b[1;35m.\u001b[0m\n",
            "\u001b[1;35mExecuting a new run.\u001b[0m\n",
            "\u001b[1;35mCaching is disabled by default for \u001b[0m\u001b[1;36mpreprocessing_pipeline\u001b[1;35m.\u001b[0m\n",
            "\u001b[1;35mUsing user: \u001b[0m\u001b[1;36mdefault\u001b[1;35m\u001b[0m\n",
            "\u001b[1;35mUsing stack: \u001b[0m\u001b[1;36mdefault\u001b[1;35m\u001b[0m\n",
            "\u001b[1;35m  artifact_store: \u001b[0m\u001b[1;36mdefault\u001b[1;35m\u001b[0m\n",
            "\u001b[1;35m  orchestrator: \u001b[0m\u001b[1;36mdefault\u001b[1;35m\u001b[0m\n",
            "\u001b[1;35mDashboard URL: http://127.0.0.1:8237/runs/70b94135-3e12-4c51-b88d-b02587a4ba01\u001b[0m\n",
            "\u001b[1;35mStep \u001b[0m\u001b[1;36mlabel_encoding_step\u001b[1;35m has started.\u001b[0m\n",
            "\u001b[1;35mStep \u001b[0m\u001b[1;36mlabel_encoding_step\u001b[1;35m has finished in \u001b[0m\u001b[1;36m9.259s\u001b[1;35m.\u001b[0m\n",
            "\u001b[1;35mStep \u001b[0m\u001b[1;36mpreprocessing_all_step\u001b[1;35m has started.\u001b[0m\n",
            "\u001b[1;35mStep \u001b[0m\u001b[1;36mpreprocessing_all_step\u001b[1;35m has finished in \u001b[0m\u001b[1;36m51.380s\u001b[1;35m.\u001b[0m\n",
            "\u001b[1;35mPipeline run has finished in \u001b[0m\u001b[1;36m1m0s\u001b[1;35m.\u001b[0m\n"
          ]
        },
        {
          "output_type": "execute_result",
          "data": {
            "text/plain": [
              "PipelineRunResponse(body=PipelineRunResponseBody(created=datetime.datetime(2024, 5, 5, 0, 47, 1, 391049), updated=datetime.datetime(2024, 5, 5, 0, 48, 2, 463066), user=UserResponse(body=UserResponseBody(created=datetime.datetime(2024, 5, 5, 0, 0, 24, 87472), updated=datetime.datetime(2024, 5, 5, 0, 0, 24, 87477), active=True, activation_token=None, full_name='', email_opted_in=None, is_service_account=False, is_admin=True), metadata=None, resources=None, id=UUID('93ce2d77-057e-4a7a-88ca-f0defc269d70'), permission_denied=False, name='default'), status=<ExecutionStatus.COMPLETED: 'completed'>, stack=StackResponse(body=StackResponseBody(created=datetime.datetime(2024, 5, 5, 0, 0, 23, 658631), updated=datetime.datetime(2024, 5, 5, 0, 0, 23, 658634), user=None), metadata=None, resources=None, id=UUID('97f71ef5-a4c1-4e3a-90cc-ef9432bdfb0b'), permission_denied=False, name='default'), pipeline=PipelineResponse(body=PipelineResponseBody(created=datetime.datetime(2024, 5, 5, 0, 47, 0, 751369), updated=datetime.datetime(2024, 5, 5, 0, 47, 0, 751371), user=UserResponse(body=UserResponseBody(created=datetime.datetime(2024, 5, 5, 0, 0, 24, 87472), updated=datetime.datetime(2024, 5, 5, 0, 0, 24, 87477), active=True, activation_token=None, full_name='', email_opted_in=None, is_service_account=False, is_admin=True), metadata=None, resources=None, id=UUID('93ce2d77-057e-4a7a-88ca-f0defc269d70'), permission_denied=False, name='default'), status=[<ExecutionStatus.COMPLETED: 'completed'>], version='2'), metadata=None, resources=None, id=UUID('98f32347-64e9-41c7-bbb7-64b536b58e96'), permission_denied=False, name='preprocessing_pipeline'), build=None, schedule=None, code_reference=None, deployment_id=UUID('66eabcc7-e9c9-4630-b698-40ce8dd7be25'), trigger_execution=None), metadata=PipelineRunResponseMetadata(workspace=WorkspaceResponse(body=WorkspaceResponseBody(created=datetime.datetime(2024, 5, 5, 0, 0, 23, 537700), updated=datetime.datetime(2024, 5, 5, 0, 0, 23, 537704)), metadata=None, resources=None, id=UUID('ec0dd92f-af58-43c6-bd17-81263c1034a6'), permission_denied=False, name='default'), run_metadata={}, steps={'label_encoding_step': StepRunResponse(body=StepRunResponseBody(created=datetime.datetime(2024, 5, 5, 0, 47, 1, 782433), updated=datetime.datetime(2024, 5, 5, 0, 47, 11, 31612), user=UserResponse(body=UserResponseBody(created=datetime.datetime(2024, 5, 5, 0, 0, 24, 87472), updated=datetime.datetime(2024, 5, 5, 0, 0, 24, 87477), active=True, activation_token=None, full_name='', email_opted_in=None, is_service_account=False, is_admin=True), metadata=None, resources=None, id=UUID('93ce2d77-057e-4a7a-88ca-f0defc269d70'), permission_denied=False, name='default'), status=<ExecutionStatus.COMPLETED: 'completed'>, inputs={}, outputs={'le': ArtifactVersionResponse(body=ArtifactVersionResponseBody(created=datetime.datetime(2024, 5, 5, 0, 47, 10, 933189), updated=datetime.datetime(2024, 5, 5, 0, 47, 10, 933192), user=UserResponse(body=UserResponseBody(created=datetime.datetime(2024, 5, 5, 0, 0, 24, 87472), updated=datetime.datetime(2024, 5, 5, 0, 0, 24, 87477), active=True, activation_token=None, full_name='', email_opted_in=None, is_service_account=False, is_admin=True), metadata=None, resources=None, id=UUID('93ce2d77-057e-4a7a-88ca-f0defc269d70'), permission_denied=False, name='default'), artifact=ArtifactResponse(body=ArtifactResponseBody(created=datetime.datetime(2024, 5, 5, 0, 1, 57, 108103), updated=datetime.datetime(2024, 5, 5, 0, 1, 57, 108105), tags=[], latest_version_name='4', latest_version_id=UUID('3f9cf829-403e-4959-a295-d43b85f3c609')), metadata=None, resources=None, id=UUID('2bde88cf-9609-4fe5-893c-fb441682ba4e'), permission_denied=False, name='le'), version='4', uri='/root/.config/zenml/local_stores/1170b6db-11aa-4fdb-b70c-cb87a29e2f1e/label_encoding_step/le/9f2a4eb0-97bf-4540-80b5-f1dc0ce04d84/6c33c2ac', type=<ArtifactType.MODEL: 'ModelArtifact'>, materializer=Source(module='zenml.integrations.sklearn.materializers.sklearn_materializer', attribute='SklearnMaterializer', type=<SourceType.INTERNAL: 'internal'>), data_type=Source(module='sklearn.preprocessing._label', attribute='LabelEncoder', type=<SourceType.DISTRIBUTION_PACKAGE: 'distribution_package'>, package_name='scikit-learn', version='1.2.2'), tags=[], producer_pipeline_run_id=UUID('70b94135-3e12-4c51-b88d-b02587a4ba01')), metadata=None, resources=None, id=UUID('3f9cf829-403e-4959-a295-d43b85f3c609'), permission_denied=False)}), metadata=None, resources=None, id=UUID('9f2a4eb0-97bf-4540-80b5-f1dc0ce04d84'), permission_denied=False, name='label_encoding_step'), 'preprocessing_all_step': StepRunResponse(body=StepRunResponseBody(created=datetime.datetime(2024, 5, 5, 0, 47, 11, 159059), updated=datetime.datetime(2024, 5, 5, 0, 48, 1, 990723), user=UserResponse(body=UserResponseBody(created=datetime.datetime(2024, 5, 5, 0, 0, 24, 87472), updated=datetime.datetime(2024, 5, 5, 0, 0, 24, 87477), active=True, activation_token=None, full_name='', email_opted_in=None, is_service_account=False, is_admin=True), metadata=None, resources=None, id=UUID('93ce2d77-057e-4a7a-88ca-f0defc269d70'), permission_denied=False, name='default'), status=<ExecutionStatus.COMPLETED: 'completed'>, inputs={'le': ArtifactVersionResponse(body=ArtifactVersionResponseBody(created=datetime.datetime(2024, 5, 5, 0, 47, 10, 933189), updated=datetime.datetime(2024, 5, 5, 0, 47, 10, 933192), user=UserResponse(body=UserResponseBody(created=datetime.datetime(2024, 5, 5, 0, 0, 24, 87472), updated=datetime.datetime(2024, 5, 5, 0, 0, 24, 87477), active=True, activation_token=None, full_name='', email_opted_in=None, is_service_account=False, is_admin=True), metadata=None, resources=None, id=UUID('93ce2d77-057e-4a7a-88ca-f0defc269d70'), permission_denied=False, name='default'), artifact=ArtifactResponse(body=ArtifactResponseBody(created=datetime.datetime(2024, 5, 5, 0, 1, 57, 108103), updated=datetime.datetime(2024, 5, 5, 0, 1, 57, 108105), tags=[], latest_version_name='4', latest_version_id=UUID('3f9cf829-403e-4959-a295-d43b85f3c609')), metadata=None, resources=None, id=UUID('2bde88cf-9609-4fe5-893c-fb441682ba4e'), permission_denied=False, name='le'), version='4', uri='/root/.config/zenml/local_stores/1170b6db-11aa-4fdb-b70c-cb87a29e2f1e/label_encoding_step/le/9f2a4eb0-97bf-4540-80b5-f1dc0ce04d84/6c33c2ac', type=<ArtifactType.MODEL: 'ModelArtifact'>, materializer=Source(module='zenml.integrations.sklearn.materializers.sklearn_materializer', attribute='SklearnMaterializer', type=<SourceType.INTERNAL: 'internal'>), data_type=Source(module='sklearn.preprocessing._label', attribute='LabelEncoder', type=<SourceType.DISTRIBUTION_PACKAGE: 'distribution_package'>, package_name='scikit-learn', version='1.2.2'), tags=[], producer_pipeline_run_id=UUID('70b94135-3e12-4c51-b88d-b02587a4ba01')), metadata=None, resources=None, id=UUID('3f9cf829-403e-4959-a295-d43b85f3c609'), permission_denied=False)}, outputs={'x_train': ArtifactVersionResponse(body=ArtifactVersionResponseBody(created=datetime.datetime(2024, 5, 5, 0, 47, 53, 816332), updated=datetime.datetime(2024, 5, 5, 0, 47, 53, 816334), user=UserResponse(body=UserResponseBody(created=datetime.datetime(2024, 5, 5, 0, 0, 24, 87472), updated=datetime.datetime(2024, 5, 5, 0, 0, 24, 87477), active=True, activation_token=None, full_name='', email_opted_in=None, is_service_account=False, is_admin=True), metadata=None, resources=None, id=UUID('93ce2d77-057e-4a7a-88ca-f0defc269d70'), permission_denied=False, name='default'), artifact=ArtifactResponse(body=ArtifactResponseBody(created=datetime.datetime(2024, 5, 5, 0, 2, 13, 102202), updated=datetime.datetime(2024, 5, 5, 0, 2, 13, 102207), tags=[], latest_version_name='3', latest_version_id=UUID('0cd238b7-e5e4-4017-9c2f-52c41a827949')), metadata=None, resources=None, id=UUID('8576f2f9-12fc-48cd-ad3a-df4bde201b98'), permission_denied=False, name='x_train'), version='3', uri='/root/.config/zenml/local_stores/1170b6db-11aa-4fdb-b70c-cb87a29e2f1e/preprocessing_all_step/x_train/5db63de6-4ce4-4235-a301-86d748c9a419/1dca3693', type=<ArtifactType.DATA: 'DataArtifact'>, materializer=Source(module='zenml.materializers.pandas_materializer', attribute='PandasMaterializer', type=<SourceType.INTERNAL: 'internal'>), data_type=Source(module='pandas.core.frame', attribute='DataFrame', type=<SourceType.DISTRIBUTION_PACKAGE: 'distribution_package'>, package_name='pandas', version='2.0.3'), tags=[], producer_pipeline_run_id=UUID('70b94135-3e12-4c51-b88d-b02587a4ba01')), metadata=None, resources=None, id=UUID('0cd238b7-e5e4-4017-9c2f-52c41a827949'), permission_denied=False), 'x_test': ArtifactVersionResponse(body=ArtifactVersionResponseBody(created=datetime.datetime(2024, 5, 5, 0, 47, 59, 999525), updated=datetime.datetime(2024, 5, 5, 0, 47, 59, 999528), user=UserResponse(body=UserResponseBody(created=datetime.datetime(2024, 5, 5, 0, 0, 24, 87472), updated=datetime.datetime(2024, 5, 5, 0, 0, 24, 87477), active=True, activation_token=None, full_name='', email_opted_in=None, is_service_account=False, is_admin=True), metadata=None, resources=None, id=UUID('93ce2d77-057e-4a7a-88ca-f0defc269d70'), permission_denied=False, name='default'), artifact=ArtifactResponse(body=ArtifactResponseBody(created=datetime.datetime(2024, 5, 5, 0, 2, 35, 307679), updated=datetime.datetime(2024, 5, 5, 0, 2, 35, 307681), tags=[], latest_version_name='3', latest_version_id=UUID('5de3d07c-0913-4388-8cc6-e1010af21478')), metadata=None, resources=None, id=UUID('1916f940-dc37-46aa-953d-03bf8fa7699c'), permission_denied=False, name='x_test'), version='3', uri='/root/.config/zenml/local_stores/1170b6db-11aa-4fdb-b70c-cb87a29e2f1e/preprocessing_all_step/x_test/5db63de6-4ce4-4235-a301-86d748c9a419/c9dde423', type=<ArtifactType.DATA: 'DataArtifact'>, materializer=Source(module='zenml.materializers.pandas_materializer', attribute='PandasMaterializer', type=<SourceType.INTERNAL: 'internal'>), data_type=Source(module='pandas.core.frame', attribute='DataFrame', type=<SourceType.DISTRIBUTION_PACKAGE: 'distribution_package'>, package_name='pandas', version='2.0.3'), tags=[], producer_pipeline_run_id=UUID('70b94135-3e12-4c51-b88d-b02587a4ba01')), metadata=None, resources=None, id=UUID('5de3d07c-0913-4388-8cc6-e1010af21478'), permission_denied=False), 'y_train': ArtifactVersionResponse(body=ArtifactVersionResponseBody(created=datetime.datetime(2024, 5, 5, 0, 48, 1, 245766), updated=datetime.datetime(2024, 5, 5, 0, 48, 1, 245769), user=UserResponse(body=UserResponseBody(created=datetime.datetime(2024, 5, 5, 0, 0, 24, 87472), updated=datetime.datetime(2024, 5, 5, 0, 0, 24, 87477), active=True, activation_token=None, full_name='', email_opted_in=None, is_service_account=False, is_admin=True), metadata=None, resources=None, id=UUID('93ce2d77-057e-4a7a-88ca-f0defc269d70'), permission_denied=False, name='default'), artifact=ArtifactResponse(body=ArtifactResponseBody(created=datetime.datetime(2024, 5, 5, 0, 2, 41, 440156), updated=datetime.datetime(2024, 5, 5, 0, 2, 41, 440158), tags=[], latest_version_name='3', latest_version_id=UUID('720a8d30-2f74-4ed4-b340-13a49c74dd52')), metadata=None, resources=None, id=UUID('6d665f42-8487-4234-ae90-82155de351a2'), permission_denied=False, name='y_train'), version='3', uri='/root/.config/zenml/local_stores/1170b6db-11aa-4fdb-b70c-cb87a29e2f1e/preprocessing_all_step/y_train/5db63de6-4ce4-4235-a301-86d748c9a419/8ba778c0', type=<ArtifactType.DATA: 'DataArtifact'>, materializer=Source(module='zenml.materializers.pandas_materializer', attribute='PandasMaterializer', type=<SourceType.INTERNAL: 'internal'>), data_type=Source(module='pandas.core.frame', attribute='DataFrame', type=<SourceType.DISTRIBUTION_PACKAGE: 'distribution_package'>, package_name='pandas', version='2.0.3'), tags=[], producer_pipeline_run_id=UUID('70b94135-3e12-4c51-b88d-b02587a4ba01')), metadata=None, resources=None, id=UUID('720a8d30-2f74-4ed4-b340-13a49c74dd52'), permission_denied=False), 'y_test': ArtifactVersionResponse(body=ArtifactVersionResponseBody(created=datetime.datetime(2024, 5, 5, 0, 48, 1, 839431), updated=datetime.datetime(2024, 5, 5, 0, 48, 1, 839433), user=UserResponse(body=UserResponseBody(created=datetime.datetime(2024, 5, 5, 0, 0, 24, 87472), updated=datetime.datetime(2024, 5, 5, 0, 0, 24, 87477), active=True, activation_token=None, full_name='', email_opted_in=None, is_service_account=False, is_admin=True), metadata=None, resources=None, id=UUID('93ce2d77-057e-4a7a-88ca-f0defc269d70'), permission_denied=False, name='default'), artifact=ArtifactResponse(body=ArtifactResponseBody(created=datetime.datetime(2024, 5, 5, 0, 2, 42, 527036), updated=datetime.datetime(2024, 5, 5, 0, 2, 42, 527038), tags=[], latest_version_name='3', latest_version_id=UUID('e8964a22-d583-4b3b-a7ee-48264a3e07fe')), metadata=None, resources=None, id=UUID('f274b823-4eb6-4b4f-9870-1d7ce859fa14'), permission_denied=False, name='y_test'), version='3', uri='/root/.config/zenml/local_stores/1170b6db-11aa-4fdb-b70c-cb87a29e2f1e/preprocessing_all_step/y_test/5db63de6-4ce4-4235-a301-86d748c9a419/0c2503ca', type=<ArtifactType.DATA: 'DataArtifact'>, materializer=Source(module='zenml.materializers.pandas_materializer', attribute='PandasMaterializer', type=<SourceType.INTERNAL: 'internal'>), data_type=Source(module='pandas.core.frame', attribute='DataFrame', type=<SourceType.DISTRIBUTION_PACKAGE: 'distribution_package'>, package_name='pandas', version='2.0.3'), tags=[], producer_pipeline_run_id=UUID('70b94135-3e12-4c51-b88d-b02587a4ba01')), metadata=None, resources=None, id=UUID('e8964a22-d583-4b3b-a7ee-48264a3e07fe'), permission_denied=False)}), metadata=None, resources=None, id=UUID('5db63de6-4ce4-4235-a301-86d748c9a419'), permission_denied=False, name='preprocessing_all_step')}, config=PipelineConfiguration(enable_cache=False, enable_artifact_metadata=None, enable_artifact_visualization=None, enable_step_logs=None, settings={}, extra={}, failure_hook_source=None, success_hook_source=None, model=None, parameters=None, name='preprocessing_pipeline'), start_time=datetime.datetime(2024, 5, 5, 0, 47, 1, 379598), end_time=datetime.datetime(2024, 5, 5, 0, 48, 2, 6518), client_environment={'environment': 'colab', 'os': 'linux', 'linux_distro': 'ubuntu', 'linux_distro_like': 'debian', 'linux_distro_version': '22.04', 'python_version': '3.10.12'}, orchestrator_environment={'environment': 'colab', 'os': 'linux', 'linux_distro': 'ubuntu', 'linux_distro_like': 'debian', 'linux_distro_version': '22.04', 'python_version': '3.10.12'}, orchestrator_run_id='5d1240ff-27d9-47b3-b0c3-a50ebfa4679d'), resources=None, id=UUID('70b94135-3e12-4c51-b88d-b02587a4ba01'), permission_denied=False, name='preprocessing_pipeline-2024_05_05-00_47_01_379584')"
            ]
          },
          "metadata": {},
          "execution_count": 13
        }
      ]
    },
    {
      "cell_type": "code",
      "source": [
        "preprocessing_pipeline = Client().get_pipeline(\"preprocessing_pipeline\")\n",
        "\n",
        "last_run = preprocessing_pipeline.last_run\n",
        "x_train = last_run.steps[\"preprocessing_all_step\"].outputs[\"x_train\"].load()\n",
        "x_test = last_run.steps[\"preprocessing_all_step\"].outputs[\"x_test\"].load()\n",
        "y_train = last_run.steps[\"preprocessing_all_step\"].outputs[\"y_train\"].load()\n",
        "y_test = last_run.steps[\"preprocessing_all_step\"].outputs[\"y_test\"].load()\n",
        "\n"
      ],
      "metadata": {
        "id": "XBL-1CKQ6RA7"
      },
      "execution_count": 14,
      "outputs": []
    },
    {
      "cell_type": "code",
      "source": [
        "!zenml up"
      ],
      "metadata": {
        "colab": {
          "base_uri": "https://localhost:8080/"
        },
        "id": "isu67LEX287m",
        "outputId": "8791d118-c41a-49ee-ffa9-6b6c064f5f0a"
      },
      "execution_count": 15,
      "outputs": [
        {
          "output_type": "stream",
          "name": "stdout",
          "text": [
            "\u001b[1;35mNumExpr defaulting to 2 threads.\u001b[0m\n",
            "\u001b[1;35mThe local ZenML server is already configured with the same parameters.\u001b[0m\n",
            "\u001b[1;35mCalling start method...\u001b[0m\n",
            "\u001b[?25l\u001b[32m⠋\u001b[0m Starting service 'LocalZenServer[6323277c-2455-4474-9d98-cad23d28a694] (type: zen_server, flavor: \n",
            "local)'.\n",
            "\n",
            "\u001b[1A\u001b[2K\u001b[1A\u001b[2K\u001b[1A\u001b[2K\u001b[1;35mstart method executed successfully.\u001b[0m\n",
            "\u001b[1;35mConnecting ZenML to the 'local' local ZenML server (http://127.0.0.1:8237).\u001b[0m\n",
            "\u001b[1;35mUpdated the global store configuration.\u001b[0m\n",
            "\u001b[1;35mConnected ZenML to the 'local' local ZenML server (http://127.0.0.1:8237).\u001b[0m\n",
            "\u001b[2;36mThe local ZenML dashboard is available at \u001b[0m\u001b[2;32m'http://127.0.0.1:8237'\u001b[0m\u001b[2;36m. You can connect to it using the \u001b[0m\n",
            "\u001b[2;32m'default'\u001b[0m\u001b[2;36m username and an empty password. \u001b[0m\n",
            "<IPython.lib.display.IFrame object at 0x7be59982c1f0>\n"
          ]
        }
      ]
    },
    {
      "cell_type": "code",
      "source": [
        "# Configure and run the CNN Training Pipeline\n",
        "cnn_training_pipeline = cnn_training_pipeline.with_options(enable_cache=False)\n",
        "cnn_training_pipeline()\n"
      ],
      "metadata": {
        "colab": {
          "base_uri": "https://localhost:8080/",
          "height": 1000
        },
        "id": "leIysvrM285I",
        "outputId": "3c1ba2aa-e700-44aa-fb59-d15977183e2e"
      },
      "execution_count": 16,
      "outputs": [
        {
          "output_type": "stream",
          "name": "stdout",
          "text": [
            "\u001b[1;35mInitiating a new run for the pipeline: \u001b[0m\u001b[1;36mcnn_training_pipeline\u001b[1;35m.\u001b[0m\n",
            "\u001b[1;35mRegistered new version: \u001b[0m\u001b[1;36m(version 2)\u001b[1;35m.\u001b[0m\n",
            "\u001b[1;35mExecuting a new run.\u001b[0m\n",
            "\u001b[1;35mCaching is disabled by default for \u001b[0m\u001b[1;36mcnn_training_pipeline\u001b[1;35m.\u001b[0m\n",
            "\u001b[1;35mUsing user: \u001b[0m\u001b[1;36mdefault\u001b[1;35m\u001b[0m\n",
            "\u001b[1;35mUsing stack: \u001b[0m\u001b[1;36mdefault\u001b[1;35m\u001b[0m\n",
            "\u001b[1;35m  artifact_store: \u001b[0m\u001b[1;36mdefault\u001b[1;35m\u001b[0m\n",
            "\u001b[1;35m  orchestrator: \u001b[0m\u001b[1;36mdefault\u001b[1;35m\u001b[0m\n",
            "\u001b[1;35mDashboard URL: http://127.0.0.1:8237/runs/0f852dd9-223a-4eba-85fa-acb38ce542e2\u001b[0m\n",
            "\u001b[1;35mStep \u001b[0m\u001b[1;36mlabel_encoding_step\u001b[1;35m has started.\u001b[0m\n",
            "\u001b[1;35mStep \u001b[0m\u001b[1;36mlabel_encoding_step\u001b[1;35m has finished in \u001b[0m\u001b[1;36m7.590s\u001b[1;35m.\u001b[0m\n",
            "\u001b[1;35mStep \u001b[0m\u001b[1;36mcreate_cnn_model_step\u001b[1;35m has started.\u001b[0m\n",
            "\u001b[33mNo materializer is registered for type \u001b[0m\u001b[1;36m<class 'keras.src.engine.functional.Functional'>\u001b[33m, so the default Pickle materializer was used. Pickle is not production ready and should only be used for prototyping as the artifacts cannot be loaded when running with a different Python version. Please consider implementing a custom materializer for type \u001b[0m\u001b[1;36m<class 'keras.src.engine.functional.Functional'>\u001b[33m according to the instructions at https://docs.zenml.io/user-guide/advanced-guide/artifact-management/handle-custom-data-types\u001b[0m\n",
            "\u001b[1;35mStep \u001b[0m\u001b[1;36mcreate_cnn_model_step\u001b[1;35m has finished in \u001b[0m\u001b[1;36m0.654s\u001b[1;35m.\u001b[0m\n",
            "\u001b[1;35mStep \u001b[0m\u001b[1;36mtrain_model_step\u001b[1;35m has started.\u001b[0m\n",
            "WARNING:absl:Skipping variable loading for optimizer 'Adam', because it has 17 variables whereas the saved optimizer has 1 variables. \n",
            "\u001b[33mSkipping variable loading for optimizer 'Adam', because it has 17 variables whereas the saved optimizer has 1 variables. \u001b[0m\n",
            "Epoch 1/125\n",
            "704/704 [==============================] - 17s 20ms/step - loss: 0.0695 - sparse_categorical_accuracy: 0.9880 - val_loss: 0.0169 - val_sparse_categorical_accuracy: 0.9944\n",
            "Epoch 2/125\n",
            "704/704 [==============================] - 14s 20ms/step - loss: 0.0140 - sparse_categorical_accuracy: 0.9946 - val_loss: 0.0124 - val_sparse_categorical_accuracy: 0.9944\n",
            "Epoch 3/125\n",
            "704/704 [==============================] - 14s 20ms/step - loss: 0.0097 - sparse_categorical_accuracy: 0.9961 - val_loss: 0.0109 - val_sparse_categorical_accuracy: 0.9945\n",
            "Epoch 4/125\n",
            "704/704 [==============================] - 14s 20ms/step - loss: 0.0055 - sparse_categorical_accuracy: 0.9982 - val_loss: 0.0061 - val_sparse_categorical_accuracy: 0.9970\n",
            "Epoch 5/125\n",
            "704/704 [==============================] - 15s 21ms/step - loss: 0.0037 - sparse_categorical_accuracy: 0.9989 - val_loss: 0.0030 - val_sparse_categorical_accuracy: 0.9994\n",
            "Epoch 6/125\n",
            "704/704 [==============================] - 15s 21ms/step - loss: 0.0030 - sparse_categorical_accuracy: 0.9992 - val_loss: 0.0035 - val_sparse_categorical_accuracy: 0.9994\n",
            "Epoch 7/125\n",
            "704/704 [==============================] - 15s 21ms/step - loss: 0.0025 - sparse_categorical_accuracy: 0.9994 - val_loss: 0.0025 - val_sparse_categorical_accuracy: 0.9994\n",
            "Epoch 8/125\n",
            "704/704 [==============================] - 15s 21ms/step - loss: 0.0021 - sparse_categorical_accuracy: 0.9995 - val_loss: 0.0022 - val_sparse_categorical_accuracy: 0.9997\n",
            "Epoch 9/125\n",
            "704/704 [==============================] - 15s 21ms/step - loss: 0.0018 - sparse_categorical_accuracy: 0.9996 - val_loss: 0.0019 - val_sparse_categorical_accuracy: 0.9995\n",
            "Epoch 10/125\n",
            "704/704 [==============================] - 15s 21ms/step - loss: 0.0016 - sparse_categorical_accuracy: 0.9997 - val_loss: 0.0018 - val_sparse_categorical_accuracy: 0.9997\n",
            "Epoch 11/125\n",
            "704/704 [==============================] - 15s 21ms/step - loss: 0.0015 - sparse_categorical_accuracy: 0.9997 - val_loss: 0.0019 - val_sparse_categorical_accuracy: 0.9998\n",
            "Epoch 12/125\n",
            "704/704 [==============================] - 15s 21ms/step - loss: 0.0014 - sparse_categorical_accuracy: 0.9997 - val_loss: 0.0016 - val_sparse_categorical_accuracy: 0.9998\n",
            "Epoch 13/125\n",
            "704/704 [==============================] - 15s 21ms/step - loss: 0.0013 - sparse_categorical_accuracy: 0.9998 - val_loss: 0.0018 - val_sparse_categorical_accuracy: 0.9996\n",
            "Epoch 14/125\n",
            "704/704 [==============================] - 15s 21ms/step - loss: 0.0012 - sparse_categorical_accuracy: 0.9997 - val_loss: 0.0015 - val_sparse_categorical_accuracy: 0.9997\n",
            "Epoch 15/125\n",
            "704/704 [==============================] - 15s 21ms/step - loss: 0.0011 - sparse_categorical_accuracy: 0.9998 - val_loss: 0.0020 - val_sparse_categorical_accuracy: 0.9997\n",
            "Epoch 16/125\n",
            "704/704 [==============================] - 15s 21ms/step - loss: 0.0011 - sparse_categorical_accuracy: 0.9998 - val_loss: 0.0035 - val_sparse_categorical_accuracy: 0.9991\n",
            "Epoch 17/125\n",
            "704/704 [==============================] - 15s 21ms/step - loss: 0.0010 - sparse_categorical_accuracy: 0.9998 - val_loss: 0.0010 - val_sparse_categorical_accuracy: 0.9998\n",
            "Epoch 18/125\n",
            "704/704 [==============================] - 14s 20ms/step - loss: 9.2716e-04 - sparse_categorical_accuracy: 0.9998 - val_loss: 0.0013 - val_sparse_categorical_accuracy: 0.9998\n",
            "Epoch 19/125\n",
            "704/704 [==============================] - 14s 20ms/step - loss: 8.7996e-04 - sparse_categorical_accuracy: 0.9998 - val_loss: 0.0010 - val_sparse_categorical_accuracy: 0.9998\n",
            "Epoch 20/125\n",
            "704/704 [==============================] - 14s 21ms/step - loss: 8.5524e-04 - sparse_categorical_accuracy: 0.9998 - val_loss: 9.3182e-04 - val_sparse_categorical_accuracy: 0.9998\n",
            "Epoch 21/125\n",
            "704/704 [==============================] - 14s 20ms/step - loss: 8.0696e-04 - sparse_categorical_accuracy: 0.9998 - val_loss: 0.0010 - val_sparse_categorical_accuracy: 0.9998\n",
            "Epoch 22/125\n",
            "704/704 [==============================] - 14s 21ms/step - loss: 7.3130e-04 - sparse_categorical_accuracy: 0.9998 - val_loss: 8.1403e-04 - val_sparse_categorical_accuracy: 0.9998\n",
            "Epoch 23/125\n",
            "704/704 [==============================] - 15s 21ms/step - loss: 7.5514e-04 - sparse_categorical_accuracy: 0.9998 - val_loss: 9.9957e-04 - val_sparse_categorical_accuracy: 0.9998\n",
            "Epoch 24/125\n",
            "704/704 [==============================] - 14s 20ms/step - loss: 6.4940e-04 - sparse_categorical_accuracy: 0.9998 - val_loss: 7.1133e-04 - val_sparse_categorical_accuracy: 0.9998\n",
            "Epoch 25/125\n",
            "704/704 [==============================] - 14s 20ms/step - loss: 6.3114e-04 - sparse_categorical_accuracy: 0.9998 - val_loss: 7.9466e-04 - val_sparse_categorical_accuracy: 0.9998\n",
            "Epoch 26/125\n",
            "704/704 [==============================] - 14s 20ms/step - loss: 5.9981e-04 - sparse_categorical_accuracy: 0.9998 - val_loss: 7.3680e-04 - val_sparse_categorical_accuracy: 0.9998\n",
            "Epoch 27/125\n",
            "704/704 [==============================] - 14s 20ms/step - loss: 5.1593e-04 - sparse_categorical_accuracy: 0.9999 - val_loss: 6.9710e-04 - val_sparse_categorical_accuracy: 0.9998\n",
            "Epoch 28/125\n",
            "704/704 [==============================] - 14s 21ms/step - loss: 4.7974e-04 - sparse_categorical_accuracy: 0.9999 - val_loss: 5.4923e-04 - val_sparse_categorical_accuracy: 0.9999\n",
            "Epoch 29/125\n",
            "704/704 [==============================] - 14s 20ms/step - loss: 5.4039e-04 - sparse_categorical_accuracy: 0.9998 - val_loss: 9.6055e-04 - val_sparse_categorical_accuracy: 0.9996\n",
            "Epoch 30/125\n",
            "704/704 [==============================] - 15s 21ms/step - loss: 4.8227e-04 - sparse_categorical_accuracy: 0.9999 - val_loss: 5.7761e-04 - val_sparse_categorical_accuracy: 0.9998\n",
            "Epoch 31/125\n",
            "704/704 [==============================] - 14s 20ms/step - loss: 4.7457e-04 - sparse_categorical_accuracy: 0.9999 - val_loss: 5.0143e-04 - val_sparse_categorical_accuracy: 0.9998\n",
            "Epoch 32/125\n",
            "704/704 [==============================] - 14s 20ms/step - loss: 4.4442e-04 - sparse_categorical_accuracy: 0.9999 - val_loss: 5.2500e-04 - val_sparse_categorical_accuracy: 0.9999\n",
            "Epoch 33/125\n",
            "704/704 [==============================] - 14s 20ms/step - loss: 4.3442e-04 - sparse_categorical_accuracy: 0.9999 - val_loss: 6.5337e-04 - val_sparse_categorical_accuracy: 0.9998\n",
            "Epoch 34/125\n",
            "704/704 [==============================] - 14s 20ms/step - loss: 4.1658e-04 - sparse_categorical_accuracy: 0.9999 - val_loss: 4.6286e-04 - val_sparse_categorical_accuracy: 0.9999\n",
            "Epoch 35/125\n",
            "704/704 [==============================] - 14s 20ms/step - loss: 4.1684e-04 - sparse_categorical_accuracy: 0.9999 - val_loss: 3.6849e-04 - val_sparse_categorical_accuracy: 0.9999\n",
            "Epoch 36/125\n",
            "704/704 [==============================] - 14s 20ms/step - loss: 3.4336e-04 - sparse_categorical_accuracy: 0.9999 - val_loss: 4.0788e-04 - val_sparse_categorical_accuracy: 0.9999\n",
            "Epoch 37/125\n",
            "704/704 [==============================] - 14s 20ms/step - loss: 3.8639e-04 - sparse_categorical_accuracy: 0.9999 - val_loss: 4.8875e-04 - val_sparse_categorical_accuracy: 0.9999\n",
            "Epoch 38/125\n",
            "704/704 [==============================] - 14s 20ms/step - loss: 3.3406e-04 - sparse_categorical_accuracy: 0.9999 - val_loss: 4.7833e-04 - val_sparse_categorical_accuracy: 0.9999\n",
            "Epoch 39/125\n",
            "704/704 [==============================] - 14s 20ms/step - loss: 3.8113e-04 - sparse_categorical_accuracy: 0.9999 - val_loss: 3.7439e-04 - val_sparse_categorical_accuracy: 0.9999\n",
            "Epoch 40/125\n",
            "704/704 [==============================] - 14s 20ms/step - loss: 3.2817e-04 - sparse_categorical_accuracy: 0.9999 - val_loss: 5.1474e-04 - val_sparse_categorical_accuracy: 0.9999\n",
            "Epoch 41/125\n",
            "704/704 [==============================] - 14s 21ms/step - loss: 3.1459e-04 - sparse_categorical_accuracy: 0.9999 - val_loss: 7.6327e-04 - val_sparse_categorical_accuracy: 0.9998\n",
            "Epoch 42/125\n",
            "704/704 [==============================] - 14s 20ms/step - loss: 3.1708e-04 - sparse_categorical_accuracy: 0.9999 - val_loss: 4.9238e-04 - val_sparse_categorical_accuracy: 0.9999\n",
            "Epoch 43/125\n",
            "704/704 [==============================] - 14s 20ms/step - loss: 3.0429e-04 - sparse_categorical_accuracy: 0.9999 - val_loss: 3.0226e-04 - val_sparse_categorical_accuracy: 0.9999\n",
            "Epoch 44/125\n",
            "704/704 [==============================] - 15s 21ms/step - loss: 2.8024e-04 - sparse_categorical_accuracy: 0.9999 - val_loss: 3.4722e-04 - val_sparse_categorical_accuracy: 0.9999\n",
            "Epoch 45/125\n",
            "704/704 [==============================] - 14s 20ms/step - loss: 2.5820e-04 - sparse_categorical_accuracy: 0.9999 - val_loss: 3.2946e-04 - val_sparse_categorical_accuracy: 0.9999\n",
            "Epoch 46/125\n",
            "704/704 [==============================] - 14s 20ms/step - loss: 2.5710e-04 - sparse_categorical_accuracy: 0.9999 - val_loss: 3.3010e-04 - val_sparse_categorical_accuracy: 0.9999\n",
            "Epoch 47/125\n",
            "704/704 [==============================] - 14s 20ms/step - loss: 2.5921e-04 - sparse_categorical_accuracy: 0.9999 - val_loss: 3.2461e-04 - val_sparse_categorical_accuracy: 0.9999\n",
            "Epoch 48/125\n",
            "704/704 [==============================] - 14s 20ms/step - loss: 2.4989e-04 - sparse_categorical_accuracy: 0.9999 - val_loss: 5.6197e-04 - val_sparse_categorical_accuracy: 0.9999\n",
            "Epoch 49/125\n",
            "704/704 [==============================] - 14s 20ms/step - loss: 2.3102e-04 - sparse_categorical_accuracy: 0.9999 - val_loss: 3.0816e-04 - val_sparse_categorical_accuracy: 0.9999\n",
            "Epoch 50/125\n",
            "704/704 [==============================] - 14s 20ms/step - loss: 2.3756e-04 - sparse_categorical_accuracy: 0.9999 - val_loss: 3.8509e-04 - val_sparse_categorical_accuracy: 0.9999\n",
            "Epoch 51/125\n",
            "704/704 [==============================] - 14s 21ms/step - loss: 2.3909e-04 - sparse_categorical_accuracy: 0.9999 - val_loss: 2.5213e-04 - val_sparse_categorical_accuracy: 0.9999\n",
            "Epoch 52/125\n",
            "704/704 [==============================] - 14s 20ms/step - loss: 2.2110e-04 - sparse_categorical_accuracy: 0.9999 - val_loss: 5.7402e-04 - val_sparse_categorical_accuracy: 0.9999\n",
            "Epoch 53/125\n",
            "704/704 [==============================] - 14s 20ms/step - loss: 2.6840e-04 - sparse_categorical_accuracy: 0.9999 - val_loss: 2.8308e-04 - val_sparse_categorical_accuracy: 0.9999\n",
            "Epoch 54/125\n",
            "704/704 [==============================] - 14s 20ms/step - loss: 2.1807e-04 - sparse_categorical_accuracy: 0.9999 - val_loss: 3.0112e-04 - val_sparse_categorical_accuracy: 0.9999\n",
            "Epoch 55/125\n",
            "704/704 [==============================] - 14s 20ms/step - loss: 1.5868e-04 - sparse_categorical_accuracy: 1.0000 - val_loss: 2.9156e-04 - val_sparse_categorical_accuracy: 0.9999\n",
            "Epoch 56/125\n",
            "704/704 [==============================] - 14s 21ms/step - loss: 1.7883e-04 - sparse_categorical_accuracy: 1.0000 - val_loss: 3.0759e-04 - val_sparse_categorical_accuracy: 0.9999\n",
            "Epoch 57/125\n",
            "704/704 [==============================] - 14s 20ms/step - loss: 1.7191e-04 - sparse_categorical_accuracy: 1.0000 - val_loss: 3.3765e-04 - val_sparse_categorical_accuracy: 0.9999\n",
            "Epoch 58/125\n",
            "704/704 [==============================] - 15s 21ms/step - loss: 1.9142e-04 - sparse_categorical_accuracy: 1.0000 - val_loss: 2.8875e-04 - val_sparse_categorical_accuracy: 0.9999\n",
            "Epoch 59/125\n",
            "704/704 [==============================] - 14s 20ms/step - loss: 2.0945e-04 - sparse_categorical_accuracy: 0.9999 - val_loss: 3.2350e-04 - val_sparse_categorical_accuracy: 0.9999\n",
            "Epoch 60/125\n",
            "704/704 [==============================] - 14s 20ms/step - loss: 2.0126e-04 - sparse_categorical_accuracy: 0.9999 - val_loss: 3.5683e-04 - val_sparse_categorical_accuracy: 0.9999\n",
            "Epoch 61/125\n",
            "704/704 [==============================] - 14s 20ms/step - loss: 1.3621e-04 - sparse_categorical_accuracy: 1.0000 - val_loss: 2.6661e-04 - val_sparse_categorical_accuracy: 0.9999\n",
            "Epoch 62/125\n",
            "704/704 [==============================] - 14s 20ms/step - loss: 1.6198e-04 - sparse_categorical_accuracy: 1.0000 - val_loss: 2.1839e-04 - val_sparse_categorical_accuracy: 0.9999\n",
            "Epoch 63/125\n",
            "704/704 [==============================] - 14s 20ms/step - loss: 1.5476e-04 - sparse_categorical_accuracy: 1.0000 - val_loss: 2.0496e-04 - val_sparse_categorical_accuracy: 0.9999\n",
            "Epoch 64/125\n",
            "704/704 [==============================] - 14s 20ms/step - loss: 1.3538e-04 - sparse_categorical_accuracy: 1.0000 - val_loss: 3.0992e-04 - val_sparse_categorical_accuracy: 0.9999\n",
            "Epoch 65/125\n",
            "704/704 [==============================] - 14s 20ms/step - loss: 1.8612e-04 - sparse_categorical_accuracy: 1.0000 - val_loss: 4.3665e-04 - val_sparse_categorical_accuracy: 0.9999\n",
            "Epoch 66/125\n",
            "704/704 [==============================] - 14s 20ms/step - loss: 2.3365e-04 - sparse_categorical_accuracy: 0.9999 - val_loss: 2.7089e-04 - val_sparse_categorical_accuracy: 0.9999\n",
            "Epoch 67/125\n",
            "704/704 [==============================] - 14s 20ms/step - loss: 1.5811e-04 - sparse_categorical_accuracy: 1.0000 - val_loss: 2.4580e-04 - val_sparse_categorical_accuracy: 0.9999\n",
            "Epoch 68/125\n",
            "704/704 [==============================] - 14s 20ms/step - loss: 1.5880e-04 - sparse_categorical_accuracy: 1.0000 - val_loss: 2.9468e-04 - val_sparse_categorical_accuracy: 0.9999\n",
            "Epoch 69/125\n",
            "704/704 [==============================] - 14s 20ms/step - loss: 1.9109e-04 - sparse_categorical_accuracy: 1.0000 - val_loss: 5.9508e-04 - val_sparse_categorical_accuracy: 0.9999\n",
            "Epoch 70/125\n",
            "704/704 [==============================] - 14s 20ms/step - loss: 1.6543e-04 - sparse_categorical_accuracy: 1.0000 - val_loss: 2.2667e-04 - val_sparse_categorical_accuracy: 1.0000\n",
            "Epoch 71/125\n",
            "704/704 [==============================] - 14s 20ms/step - loss: 1.4857e-04 - sparse_categorical_accuracy: 1.0000 - val_loss: 3.2796e-04 - val_sparse_categorical_accuracy: 0.9999\n",
            "Epoch 72/125\n",
            "704/704 [==============================] - 14s 20ms/step - loss: 1.0730e-04 - sparse_categorical_accuracy: 1.0000 - val_loss: 1.7282e-04 - val_sparse_categorical_accuracy: 1.0000\n",
            "Epoch 73/125\n",
            "704/704 [==============================] - 14s 20ms/step - loss: 1.4492e-04 - sparse_categorical_accuracy: 1.0000 - val_loss: 2.6891e-04 - val_sparse_categorical_accuracy: 0.9999\n",
            "Epoch 74/125\n",
            "704/704 [==============================] - 14s 20ms/step - loss: 1.4899e-04 - sparse_categorical_accuracy: 1.0000 - val_loss: 3.7001e-04 - val_sparse_categorical_accuracy: 0.9999\n",
            "Epoch 75/125\n",
            "704/704 [==============================] - 14s 20ms/step - loss: 1.6617e-04 - sparse_categorical_accuracy: 1.0000 - val_loss: 3.4865e-04 - val_sparse_categorical_accuracy: 0.9999\n",
            "Epoch 76/125\n",
            "704/704 [==============================] - 14s 20ms/step - loss: 1.6853e-04 - sparse_categorical_accuracy: 1.0000 - val_loss: 3.2374e-04 - val_sparse_categorical_accuracy: 0.9999\n",
            "Epoch 77/125\n",
            "704/704 [==============================] - 14s 20ms/step - loss: 1.3147e-04 - sparse_categorical_accuracy: 1.0000 - val_loss: 2.2178e-04 - val_sparse_categorical_accuracy: 0.9999\n",
            "Epoch 78/125\n",
            "704/704 [==============================] - 14s 20ms/step - loss: 1.1724e-04 - sparse_categorical_accuracy: 1.0000 - val_loss: 3.1717e-04 - val_sparse_categorical_accuracy: 0.9999\n",
            "Epoch 79/125\n",
            "704/704 [==============================] - 14s 20ms/step - loss: 1.2790e-04 - sparse_categorical_accuracy: 1.0000 - val_loss: 2.9117e-04 - val_sparse_categorical_accuracy: 0.9999\n",
            "Epoch 80/125\n",
            "704/704 [==============================] - 14s 20ms/step - loss: 1.4310e-04 - sparse_categorical_accuracy: 1.0000 - val_loss: 2.6296e-04 - val_sparse_categorical_accuracy: 0.9999\n",
            "Epoch 81/125\n",
            "704/704 [==============================] - 14s 20ms/step - loss: 1.2164e-04 - sparse_categorical_accuracy: 1.0000 - val_loss: 3.1058e-04 - val_sparse_categorical_accuracy: 0.9999\n",
            "Epoch 82/125\n",
            "704/704 [==============================] - 14s 20ms/step - loss: 1.0603e-04 - sparse_categorical_accuracy: 1.0000 - val_loss: 2.3465e-04 - val_sparse_categorical_accuracy: 0.9999\n",
            "Epoch 83/125\n",
            "704/704 [==============================] - 14s 20ms/step - loss: 1.3567e-04 - sparse_categorical_accuracy: 1.0000 - val_loss: 3.9962e-04 - val_sparse_categorical_accuracy: 0.9999\n",
            "Epoch 84/125\n",
            "704/704 [==============================] - 14s 20ms/step - loss: 1.7301e-04 - sparse_categorical_accuracy: 1.0000 - val_loss: 2.8195e-04 - val_sparse_categorical_accuracy: 0.9999\n",
            "Epoch 85/125\n",
            "704/704 [==============================] - 14s 20ms/step - loss: 1.0342e-04 - sparse_categorical_accuracy: 1.0000 - val_loss: 2.3201e-04 - val_sparse_categorical_accuracy: 0.9999\n",
            "Epoch 86/125\n",
            "704/704 [==============================] - 14s 20ms/step - loss: 1.0165e-04 - sparse_categorical_accuracy: 1.0000 - val_loss: 4.5638e-04 - val_sparse_categorical_accuracy: 0.9999\n",
            "Epoch 87/125\n",
            "704/704 [==============================] - 14s 20ms/step - loss: 1.5736e-04 - sparse_categorical_accuracy: 1.0000 - val_loss: 2.0074e-04 - val_sparse_categorical_accuracy: 1.0000\n",
            "Epoch 88/125\n",
            "704/704 [==============================] - 14s 20ms/step - loss: 1.2082e-04 - sparse_categorical_accuracy: 1.0000 - val_loss: 2.9351e-04 - val_sparse_categorical_accuracy: 0.9999\n",
            "Epoch 89/125\n",
            "704/704 [==============================] - 14s 20ms/step - loss: 1.2111e-04 - sparse_categorical_accuracy: 1.0000 - val_loss: 1.7593e-04 - val_sparse_categorical_accuracy: 1.0000\n",
            "Epoch 90/125\n",
            "704/704 [==============================] - 14s 20ms/step - loss: 1.1491e-04 - sparse_categorical_accuracy: 1.0000 - val_loss: 2.6044e-04 - val_sparse_categorical_accuracy: 1.0000\n",
            "Epoch 91/125\n",
            "704/704 [==============================] - 14s 20ms/step - loss: 1.3993e-04 - sparse_categorical_accuracy: 1.0000 - val_loss: 2.5361e-04 - val_sparse_categorical_accuracy: 0.9999\n",
            "Epoch 92/125\n",
            "704/704 [==============================] - 14s 20ms/step - loss: 9.4050e-05 - sparse_categorical_accuracy: 1.0000 - val_loss: 3.5186e-04 - val_sparse_categorical_accuracy: 0.9999\n",
            "Epoch 93/125\n",
            "704/704 [==============================] - 14s 20ms/step - loss: 9.0582e-05 - sparse_categorical_accuracy: 1.0000 - val_loss: 2.3787e-04 - val_sparse_categorical_accuracy: 1.0000\n",
            "Epoch 94/125\n",
            "704/704 [==============================] - 14s 20ms/step - loss: 9.5528e-05 - sparse_categorical_accuracy: 1.0000 - val_loss: 3.4148e-04 - val_sparse_categorical_accuracy: 1.0000\n",
            "Epoch 95/125\n",
            "704/704 [==============================] - 14s 20ms/step - loss: 1.1282e-04 - sparse_categorical_accuracy: 1.0000 - val_loss: 2.8395e-04 - val_sparse_categorical_accuracy: 1.0000\n",
            "Epoch 96/125\n",
            "704/704 [==============================] - 14s 20ms/step - loss: 9.0301e-05 - sparse_categorical_accuracy: 1.0000 - val_loss: 2.5186e-04 - val_sparse_categorical_accuracy: 1.0000\n",
            "Epoch 97/125\n",
            "704/704 [==============================] - 14s 20ms/step - loss: 1.0246e-04 - sparse_categorical_accuracy: 1.0000 - val_loss: 2.7326e-04 - val_sparse_categorical_accuracy: 0.9999\n",
            "Epoch 98/125\n",
            "704/704 [==============================] - 14s 20ms/step - loss: 1.0012e-04 - sparse_categorical_accuracy: 1.0000 - val_loss: 3.4155e-04 - val_sparse_categorical_accuracy: 0.9999\n",
            "Epoch 99/125\n",
            "704/704 [==============================] - 14s 20ms/step - loss: 1.5122e-04 - sparse_categorical_accuracy: 1.0000 - val_loss: 3.4200e-04 - val_sparse_categorical_accuracy: 0.9999\n",
            "Epoch 100/125\n",
            "704/704 [==============================] - 14s 20ms/step - loss: 9.2208e-05 - sparse_categorical_accuracy: 1.0000 - val_loss: 2.1548e-04 - val_sparse_categorical_accuracy: 1.0000\n",
            "Epoch 101/125\n",
            "704/704 [==============================] - 14s 20ms/step - loss: 7.9150e-05 - sparse_categorical_accuracy: 1.0000 - val_loss: 2.9583e-04 - val_sparse_categorical_accuracy: 1.0000\n",
            "Epoch 102/125\n",
            "704/704 [==============================] - 14s 20ms/step - loss: 1.3448e-04 - sparse_categorical_accuracy: 1.0000 - val_loss: 3.4926e-04 - val_sparse_categorical_accuracy: 0.9999\n",
            "Epoch 103/125\n",
            "704/704 [==============================] - 14s 20ms/step - loss: 8.1357e-05 - sparse_categorical_accuracy: 1.0000 - val_loss: 2.2015e-04 - val_sparse_categorical_accuracy: 0.9999\n",
            "Epoch 104/125\n",
            "704/704 [==============================] - 14s 20ms/step - loss: 1.0361e-04 - sparse_categorical_accuracy: 1.0000 - val_loss: 2.5173e-04 - val_sparse_categorical_accuracy: 0.9999\n",
            "Epoch 105/125\n",
            "704/704 [==============================] - 14s 20ms/step - loss: 8.0949e-05 - sparse_categorical_accuracy: 1.0000 - val_loss: 2.3948e-04 - val_sparse_categorical_accuracy: 1.0000\n",
            "Epoch 106/125\n",
            "704/704 [==============================] - 14s 20ms/step - loss: 8.8593e-05 - sparse_categorical_accuracy: 1.0000 - val_loss: 5.5951e-04 - val_sparse_categorical_accuracy: 0.9999\n",
            "Epoch 107/125\n",
            "704/704 [==============================] - 14s 20ms/step - loss: 9.6795e-05 - sparse_categorical_accuracy: 1.0000 - val_loss: 2.5991e-04 - val_sparse_categorical_accuracy: 1.0000\n",
            "Epoch 108/125\n",
            "704/704 [==============================] - 14s 21ms/step - loss: 8.3739e-05 - sparse_categorical_accuracy: 1.0000 - val_loss: 2.2887e-04 - val_sparse_categorical_accuracy: 1.0000\n",
            "Epoch 109/125\n",
            "704/704 [==============================] - 14s 20ms/step - loss: 1.0495e-04 - sparse_categorical_accuracy: 1.0000 - val_loss: 7.1601e-04 - val_sparse_categorical_accuracy: 0.9998\n",
            "Epoch 110/125\n",
            "704/704 [==============================] - 14s 20ms/step - loss: 1.0084e-04 - sparse_categorical_accuracy: 1.0000 - val_loss: 2.1105e-04 - val_sparse_categorical_accuracy: 1.0000\n",
            "Epoch 111/125\n",
            "704/704 [==============================] - 14s 20ms/step - loss: 9.0618e-05 - sparse_categorical_accuracy: 1.0000 - val_loss: 2.6069e-04 - val_sparse_categorical_accuracy: 1.0000\n",
            "Epoch 112/125\n",
            "704/704 [==============================] - 14s 20ms/step - loss: 1.4543e-04 - sparse_categorical_accuracy: 1.0000 - val_loss: 4.2898e-04 - val_sparse_categorical_accuracy: 0.9999\n",
            "Epoch 113/125\n",
            "704/704 [==============================] - 14s 20ms/step - loss: 8.0415e-05 - sparse_categorical_accuracy: 1.0000 - val_loss: 1.8240e-04 - val_sparse_categorical_accuracy: 1.0000\n",
            "Epoch 114/125\n",
            "704/704 [==============================] - 14s 20ms/step - loss: 7.6166e-05 - sparse_categorical_accuracy: 1.0000 - val_loss: 3.1903e-04 - val_sparse_categorical_accuracy: 0.9999\n",
            "Epoch 115/125\n",
            "704/704 [==============================] - 14s 20ms/step - loss: 9.3349e-05 - sparse_categorical_accuracy: 1.0000 - val_loss: 2.2653e-04 - val_sparse_categorical_accuracy: 1.0000\n",
            "Epoch 116/125\n",
            "704/704 [==============================] - 14s 20ms/step - loss: 8.3071e-05 - sparse_categorical_accuracy: 1.0000 - val_loss: 3.1567e-04 - val_sparse_categorical_accuracy: 0.9999\n",
            "Epoch 117/125\n",
            "704/704 [==============================] - 14s 20ms/step - loss: 9.3316e-05 - sparse_categorical_accuracy: 1.0000 - val_loss: 2.1652e-04 - val_sparse_categorical_accuracy: 0.9999\n",
            "Epoch 118/125\n",
            "704/704 [==============================] - 15s 21ms/step - loss: 7.5583e-05 - sparse_categorical_accuracy: 1.0000 - val_loss: 3.0761e-04 - val_sparse_categorical_accuracy: 0.9999\n",
            "Epoch 119/125\n",
            "704/704 [==============================] - 14s 20ms/step - loss: 8.3363e-05 - sparse_categorical_accuracy: 1.0000 - val_loss: 2.3397e-04 - val_sparse_categorical_accuracy: 0.9999\n",
            "Epoch 120/125\n",
            "704/704 [==============================] - 14s 20ms/step - loss: 9.3208e-05 - sparse_categorical_accuracy: 1.0000 - val_loss: 2.3781e-04 - val_sparse_categorical_accuracy: 0.9999\n",
            "Epoch 121/125\n",
            "704/704 [==============================] - 14s 20ms/step - loss: 8.3495e-05 - sparse_categorical_accuracy: 1.0000 - val_loss: 2.0209e-04 - val_sparse_categorical_accuracy: 1.0000\n",
            "Epoch 122/125\n",
            "704/704 [==============================] - 14s 21ms/step - loss: 7.5221e-05 - sparse_categorical_accuracy: 1.0000 - val_loss: 2.9301e-04 - val_sparse_categorical_accuracy: 0.9999\n",
            "Epoch 123/125\n",
            "704/704 [==============================] - 14s 20ms/step - loss: 1.1708e-04 - sparse_categorical_accuracy: 1.0000 - val_loss: 2.8005e-04 - val_sparse_categorical_accuracy: 0.9999\n",
            "Epoch 124/125\n",
            "704/704 [==============================] - 14s 20ms/step - loss: 8.5592e-05 - sparse_categorical_accuracy: 1.0000 - val_loss: 2.9093e-04 - val_sparse_categorical_accuracy: 0.9999\n",
            "Epoch 125/125\n",
            "704/704 [==============================] - 14s 20ms/step - loss: 1.0194e-04 - sparse_categorical_accuracy: 1.0000 - val_loss: 2.4781e-04 - val_sparse_categorical_accuracy: 0.9999\n",
            "\u001b[33mNo materializer is registered for type \u001b[0m\u001b[1;36m<class 'keras.src.callbacks.History'>\u001b[33m, so the default Pickle materializer was used. Pickle is not production ready and should only be used for prototyping as the artifacts cannot be loaded when running with a different Python version. Please consider implementing a custom materializer for type \u001b[0m\u001b[1;36m<class 'keras.src.callbacks.History'>\u001b[33m according to the instructions at https://docs.zenml.io/user-guide/advanced-guide/artifact-management/handle-custom-data-types\u001b[0m\n",
            "\u001b[1;35mStep \u001b[0m\u001b[1;36mtrain_model_step\u001b[1;35m has finished in \u001b[0m\u001b[1;36m30m10s\u001b[1;35m.\u001b[0m\n",
            "\u001b[1;35mStep \u001b[0m\u001b[1;36mplot_training_history_step\u001b[1;35m has started.\u001b[0m\n"
          ]
        },
        {
          "output_type": "display_data",
          "data": {
            "text/plain": [
              "<Figure size 640x480 with 1 Axes>"
            ],
            "image/png": "[encoded data removed]"
          },
          "metadata": {}
        },
        {
          "output_type": "display_data",
          "data": {
            "text/plain": [
              "<Figure size 640x480 with 1 Axes>"
            ],
            "image/png": "[encoded data removed]"
          },
          "metadata": {}
        },
        {
          "output_type": "stream",
          "name": "stdout",
          "text": [
            "\u001b[1;35mStep \u001b[0m\u001b[1;36mplot_training_history_step\u001b[1;35m has finished in \u001b[0m\u001b[1;36m0.804s\u001b[1;35m.\u001b[0m\n",
            "\u001b[1;35mStep \u001b[0m\u001b[1;36mevaluate_model_step\u001b[1;35m has started.\u001b[0m\n",
            "WARNING:absl:Skipping variable loading for optimizer 'Adam', because it has 17 variables whereas the saved optimizer has 1 variables. \n",
            "\u001b[33mSkipping variable loading for optimizer 'Adam', because it has 17 variables whereas the saved optimizer has 1 variables. \u001b[0m\n",
            "6251/6251 [==============================] - 18s 3ms/step - loss: 2.7123 - sparse_categorical_accuracy: 0.0107\n",
            "6251/6251 [==============================] - 13s 2ms/step\n",
            "/usr/local/lib/python3.10/dist-packages/sklearn/metrics/_classification.py:1344: UndefinedMetricWarning: Recall and F-score are ill-defined and being set to 0.0 in labels with no true samples. Use `zero_division` parameter to control this behavior.\n",
            "  _warn_prf(average, modifier, msg_start, len(result))\n",
            "/usr/local/lib/python3.10/dist-packages/sklearn/metrics/_classification.py:1344: UndefinedMetricWarning: Recall and F-score are ill-defined and being set to 0.0 in labels with no true samples. Use `zero_division` parameter to control this behavior.\n",
            "  _warn_prf(average, modifier, msg_start, len(result))\n",
            "/usr/local/lib/python3.10/dist-packages/sklearn/metrics/_classification.py:1344: UndefinedMetricWarning: Recall and F-score are ill-defined and being set to 0.0 in labels with no true samples. Use `zero_division` parameter to control this behavior.\n",
            "  _warn_prf(average, modifier, msg_start, len(result))\n",
            "Evaluation:\n",
            "               precision    recall  f1-score   support\n",
            "\n",
            "         0.0       1.00      0.01      0.02    197234\n",
            "         1.0       0.00      0.00      0.00         0\n",
            "         2.0       0.00      0.00      0.00         0\n",
            "         3.0       0.00      0.00      0.00         0\n",
            "         4.0       0.00      0.00      0.00         0\n",
            "         5.0       0.00      0.00      0.00         0\n",
            "         7.0       0.00      0.00      0.00      1588\n",
            "         8.0       0.00      0.00      0.00         0\n",
            "        10.0       0.00      0.00      0.00         0\n",
            "        11.0       0.02      0.52      0.03      1179\n",
            "        13.0       0.00      0.00      0.00         0\n",
            "        14.0       0.00      0.00      0.00         0\n",
            "\n",
            "    accuracy                           0.01    200001\n",
            "   macro avg       0.08      0.04      0.00    200001\n",
            "weighted avg       0.99      0.01      0.02    200001\n",
            "\n",
            "\u001b[1;35mStep \u001b[0m\u001b[1;36mevaluate_model_step\u001b[1;35m has finished in \u001b[0m\u001b[1;36m55.064s\u001b[1;35m.\u001b[0m\n",
            "\u001b[1;35mPipeline run has finished in \u001b[0m\u001b[1;36m31m15s\u001b[1;35m.\u001b[0m\n"
          ]
        },
        {
          "output_type": "execute_result",
          "data": {
            "text/plain": [
              "PipelineRunResponse(body=PipelineRunResponseBody(created=datetime.datetime(2024, 5, 5, 0, 48, 14, 699052), updated=datetime.datetime(2024, 5, 5, 1, 19, 30, 334452), user=UserResponse(body=UserResponseBody(created=datetime.datetime(2024, 5, 5, 0, 0, 24, 87472), updated=datetime.datetime(2024, 5, 5, 0, 0, 24, 87477), active=True, activation_token=None, full_name='', email_opted_in=None, is_service_account=False, is_admin=True), metadata=None, resources=None, id=UUID('93ce2d77-057e-4a7a-88ca-f0defc269d70'), permission_denied=False, name='default'), status=<ExecutionStatus.COMPLETED: 'completed'>, stack=StackResponse(body=StackResponseBody(created=datetime.datetime(2024, 5, 5, 0, 0, 23, 658631), updated=datetime.datetime(2024, 5, 5, 0, 0, 23, 658634), user=None), metadata=None, resources=None, id=UUID('97f71ef5-a4c1-4e3a-90cc-ef9432bdfb0b'), permission_denied=False, name='default'), pipeline=PipelineResponse(body=PipelineResponseBody(created=datetime.datetime(2024, 5, 5, 0, 48, 14, 247541), updated=datetime.datetime(2024, 5, 5, 0, 48, 14, 247543), user=UserResponse(body=UserResponseBody(created=datetime.datetime(2024, 5, 5, 0, 0, 24, 87472), updated=datetime.datetime(2024, 5, 5, 0, 0, 24, 87477), active=True, activation_token=None, full_name='', email_opted_in=None, is_service_account=False, is_admin=True), metadata=None, resources=None, id=UUID('93ce2d77-057e-4a7a-88ca-f0defc269d70'), permission_denied=False, name='default'), status=[<ExecutionStatus.COMPLETED: 'completed'>], version='2'), metadata=None, resources=None, id=UUID('03ed50e5-816b-47d9-ae29-075d4ae356d0'), permission_denied=False, name='cnn_training_pipeline'), build=None, schedule=None, code_reference=None, deployment_id=UUID('ee82890e-f123-4222-ac5f-46334822a1ea'), trigger_execution=None), metadata=PipelineRunResponseMetadata(workspace=WorkspaceResponse(body=WorkspaceResponseBody(created=datetime.datetime(2024, 5, 5, 0, 0, 23, 537700), updated=datetime.datetime(2024, 5, 5, 0, 0, 23, 537704)), metadata=None, resources=None, id=UUID('ec0dd92f-af58-43c6-bd17-81263c1034a6'), permission_denied=False, name='default'), run_metadata={}, steps={'label_encoding_step': StepRunResponse(body=StepRunResponseBody(created=datetime.datetime(2024, 5, 5, 0, 48, 14, 814794), updated=datetime.datetime(2024, 5, 5, 0, 48, 22, 392062), user=UserResponse(body=UserResponseBody(created=datetime.datetime(2024, 5, 5, 0, 0, 24, 87472), updated=datetime.datetime(2024, 5, 5, 0, 0, 24, 87477), active=True, activation_token=None, full_name='', email_opted_in=None, is_service_account=False, is_admin=True), metadata=None, resources=None, id=UUID('93ce2d77-057e-4a7a-88ca-f0defc269d70'), permission_denied=False, name='default'), status=<ExecutionStatus.COMPLETED: 'completed'>, inputs={}, outputs={'le': ArtifactVersionResponse(body=ArtifactVersionResponseBody(created=datetime.datetime(2024, 5, 5, 0, 48, 22, 315453), updated=datetime.datetime(2024, 5, 5, 0, 48, 22, 315455), user=UserResponse(body=UserResponseBody(created=datetime.datetime(2024, 5, 5, 0, 0, 24, 87472), updated=datetime.datetime(2024, 5, 5, 0, 0, 24, 87477), active=True, activation_token=None, full_name='', email_opted_in=None, is_service_account=False, is_admin=True), metadata=None, resources=None, id=UUID('93ce2d77-057e-4a7a-88ca-f0defc269d70'), permission_denied=False, name='default'), artifact=ArtifactResponse(body=ArtifactResponseBody(created=datetime.datetime(2024, 5, 5, 0, 1, 57, 108103), updated=datetime.datetime(2024, 5, 5, 0, 1, 57, 108105), tags=[], latest_version_name='5', latest_version_id=UUID('bd7f3948-4575-4d71-a063-b79a70e62fdd')), metadata=None, resources=None, id=UUID('2bde88cf-9609-4fe5-893c-fb441682ba4e'), permission_denied=False, name='le'), version='5', uri='/root/.config/zenml/local_stores/1170b6db-11aa-4fdb-b70c-cb87a29e2f1e/label_encoding_step/le/c446f7fd-a99c-40eb-9286-34ee640d5aed/275a68d3', type=<ArtifactType.MODEL: 'ModelArtifact'>, materializer=Source(module='zenml.integrations.sklearn.materializers.sklearn_materializer', attribute='SklearnMaterializer', type=<SourceType.INTERNAL: 'internal'>), data_type=Source(module='sklearn.preprocessing._label', attribute='LabelEncoder', type=<SourceType.DISTRIBUTION_PACKAGE: 'distribution_package'>, package_name='scikit-learn', version='1.2.2'), tags=[], producer_pipeline_run_id=UUID('0f852dd9-223a-4eba-85fa-acb38ce542e2')), metadata=None, resources=None, id=UUID('bd7f3948-4575-4d71-a063-b79a70e62fdd'), permission_denied=False)}), metadata=None, resources=None, id=UUID('c446f7fd-a99c-40eb-9286-34ee640d5aed'), permission_denied=False, name='label_encoding_step'), 'create_cnn_model_step': StepRunResponse(body=StepRunResponseBody(created=datetime.datetime(2024, 5, 5, 0, 48, 22, 504778), updated=datetime.datetime(2024, 5, 5, 0, 48, 23, 150505), user=UserResponse(body=UserResponseBody(created=datetime.datetime(2024, 5, 5, 0, 0, 24, 87472), updated=datetime.datetime(2024, 5, 5, 0, 0, 24, 87477), active=True, activation_token=None, full_name='', email_opted_in=None, is_service_account=False, is_admin=True), metadata=None, resources=None, id=UUID('93ce2d77-057e-4a7a-88ca-f0defc269d70'), permission_denied=False, name='default'), status=<ExecutionStatus.COMPLETED: 'completed'>, inputs={}, outputs={'model': ArtifactVersionResponse(body=ArtifactVersionResponseBody(created=datetime.datetime(2024, 5, 5, 0, 48, 23, 71646), updated=datetime.datetime(2024, 5, 5, 0, 48, 23, 71648), user=UserResponse(body=UserResponseBody(created=datetime.datetime(2024, 5, 5, 0, 0, 24, 87472), updated=datetime.datetime(2024, 5, 5, 0, 0, 24, 87477), active=True, activation_token=None, full_name='', email_opted_in=None, is_service_account=False, is_admin=True), metadata=None, resources=None, id=UUID('93ce2d77-057e-4a7a-88ca-f0defc269d70'), permission_denied=False, name='default'), artifact=ArtifactResponse(body=ArtifactResponseBody(created=datetime.datetime(2024, 5, 5, 0, 34, 6, 226177), updated=datetime.datetime(2024, 5, 5, 0, 34, 6, 226180), tags=[], latest_version_name='2', latest_version_id=UUID('3df04687-5f8e-4b28-9131-01ba31033db9')), metadata=None, resources=None, id=UUID('f23e9154-53b0-404e-b042-b54ae636f640'), permission_denied=False, name='model'), version='2', uri='/root/.config/zenml/local_stores/1170b6db-11aa-4fdb-b70c-cb87a29e2f1e/create_cnn_model_step/model/1bda2612-d0c5-4c4e-be20-86b723f6e747/f18641a9', type=<ArtifactType.DATA: 'DataArtifact'>, materializer=Source(module='zenml.materializers.cloudpickle_materializer', attribute='CloudpickleMaterializer', type=<SourceType.INTERNAL: 'internal'>), data_type=Source(module='keras.src.engine.functional', attribute='Functional', type=<SourceType.DISTRIBUTION_PACKAGE: 'distribution_package'>, package_name='keras', version='2.15.0'), tags=[], producer_pipeline_run_id=UUID('0f852dd9-223a-4eba-85fa-acb38ce542e2')), metadata=None, resources=None, id=UUID('3df04687-5f8e-4b28-9131-01ba31033db9'), permission_denied=False)}), metadata=None, resources=None, id=UUID('1bda2612-d0c5-4c4e-be20-86b723f6e747'), permission_denied=False, name='create_cnn_model_step'), 'train_model_step': StepRunResponse(body=StepRunResponseBody(created=datetime.datetime(2024, 5, 5, 0, 48, 23, 282710), updated=datetime.datetime(2024, 5, 5, 1, 18, 34, 119468), user=UserResponse(body=UserResponseBody(created=datetime.datetime(2024, 5, 5, 0, 0, 24, 87472), updated=datetime.datetime(2024, 5, 5, 0, 0, 24, 87477), active=True, activation_token=None, full_name='', email_opted_in=None, is_service_account=False, is_admin=True), metadata=None, resources=None, id=UUID('93ce2d77-057e-4a7a-88ca-f0defc269d70'), permission_denied=False, name='default'), status=<ExecutionStatus.COMPLETED: 'completed'>, inputs={'model': ArtifactVersionResponse(body=ArtifactVersionResponseBody(created=datetime.datetime(2024, 5, 5, 0, 48, 23, 71646), updated=datetime.datetime(2024, 5, 5, 0, 48, 23, 71648), user=UserResponse(body=UserResponseBody(created=datetime.datetime(2024, 5, 5, 0, 0, 24, 87472), updated=datetime.datetime(2024, 5, 5, 0, 0, 24, 87477), active=True, activation_token=None, full_name='', email_opted_in=None, is_service_account=False, is_admin=True), metadata=None, resources=None, id=UUID('93ce2d77-057e-4a7a-88ca-f0defc269d70'), permission_denied=False, name='default'), artifact=ArtifactResponse(body=ArtifactResponseBody(created=datetime.datetime(2024, 5, 5, 0, 34, 6, 226177), updated=datetime.datetime(2024, 5, 5, 0, 34, 6, 226180), tags=[], latest_version_name='2', latest_version_id=UUID('3df04687-5f8e-4b28-9131-01ba31033db9')), metadata=None, resources=None, id=UUID('f23e9154-53b0-404e-b042-b54ae636f640'), permission_denied=False, name='model'), version='2', uri='/root/.config/zenml/local_stores/1170b6db-11aa-4fdb-b70c-cb87a29e2f1e/create_cnn_model_step/model/1bda2612-d0c5-4c4e-be20-86b723f6e747/f18641a9', type=<ArtifactType.DATA: 'DataArtifact'>, materializer=Source(module='zenml.materializers.cloudpickle_materializer', attribute='CloudpickleMaterializer', type=<SourceType.INTERNAL: 'internal'>), data_type=Source(module='keras.src.engine.functional', attribute='Functional', type=<SourceType.DISTRIBUTION_PACKAGE: 'distribution_package'>, package_name='keras', version='2.15.0'), tags=[], producer_pipeline_run_id=UUID('0f852dd9-223a-4eba-85fa-acb38ce542e2')), metadata=None, resources=None, id=UUID('3df04687-5f8e-4b28-9131-01ba31033db9'), permission_denied=False), 'le': ArtifactVersionResponse(body=ArtifactVersionResponseBody(created=datetime.datetime(2024, 5, 5, 0, 48, 22, 315453), updated=datetime.datetime(2024, 5, 5, 0, 48, 22, 315455), user=UserResponse(body=UserResponseBody(created=datetime.datetime(2024, 5, 5, 0, 0, 24, 87472), updated=datetime.datetime(2024, 5, 5, 0, 0, 24, 87477), active=True, activation_token=None, full_name='', email_opted_in=None, is_service_account=False, is_admin=True), metadata=None, resources=None, id=UUID('93ce2d77-057e-4a7a-88ca-f0defc269d70'), permission_denied=False, name='default'), artifact=ArtifactResponse(body=ArtifactResponseBody(created=datetime.datetime(2024, 5, 5, 0, 1, 57, 108103), updated=datetime.datetime(2024, 5, 5, 0, 1, 57, 108105), tags=[], latest_version_name='5', latest_version_id=UUID('bd7f3948-4575-4d71-a063-b79a70e62fdd')), metadata=None, resources=None, id=UUID('2bde88cf-9609-4fe5-893c-fb441682ba4e'), permission_denied=False, name='le'), version='5', uri='/root/.config/zenml/local_stores/1170b6db-11aa-4fdb-b70c-cb87a29e2f1e/label_encoding_step/le/c446f7fd-a99c-40eb-9286-34ee640d5aed/275a68d3', type=<ArtifactType.MODEL: 'ModelArtifact'>, materializer=Source(module='zenml.integrations.sklearn.materializers.sklearn_materializer', attribute='SklearnMaterializer', type=<SourceType.INTERNAL: 'internal'>), data_type=Source(module='sklearn.preprocessing._label', attribute='LabelEncoder', type=<SourceType.DISTRIBUTION_PACKAGE: 'distribution_package'>, package_name='scikit-learn', version='1.2.2'), tags=[], producer_pipeline_run_id=UUID('0f852dd9-223a-4eba-85fa-acb38ce542e2')), metadata=None, resources=None, id=UUID('bd7f3948-4575-4d71-a063-b79a70e62fdd'), permission_denied=False)}, outputs={'history': ArtifactVersionResponse(body=ArtifactVersionResponseBody(created=datetime.datetime(2024, 5, 5, 1, 18, 34, 18377), updated=datetime.datetime(2024, 5, 5, 1, 18, 34, 18379), user=UserResponse(body=UserResponseBody(created=datetime.datetime(2024, 5, 5, 0, 0, 24, 87472), updated=datetime.datetime(2024, 5, 5, 0, 0, 24, 87477), active=True, activation_token=None, full_name='', email_opted_in=None, is_service_account=False, is_admin=True), metadata=None, resources=None, id=UUID('93ce2d77-057e-4a7a-88ca-f0defc269d70'), permission_denied=False, name='default'), artifact=ArtifactResponse(body=ArtifactResponseBody(created=datetime.datetime(2024, 5, 5, 1, 18, 33, 727277), updated=datetime.datetime(2024, 5, 5, 1, 18, 33, 727279), tags=[], latest_version_name='1', latest_version_id=UUID('56bef231-7c1f-4fbf-b40d-6b4a36969fa5')), metadata=None, resources=None, id=UUID('3bae4785-f56c-42d7-897c-d605876b318a'), permission_denied=False, name='history'), version='1', uri='/root/.config/zenml/local_stores/1170b6db-11aa-4fdb-b70c-cb87a29e2f1e/train_model_step/history/102e5eb2-4acb-404d-bacb-78d4ce7579db/ee355ecc', type=<ArtifactType.DATA: 'DataArtifact'>, materializer=Source(module='zenml.materializers.cloudpickle_materializer', attribute='CloudpickleMaterializer', type=<SourceType.INTERNAL: 'internal'>), data_type=Source(module='keras.src.callbacks', attribute='History', type=<SourceType.DISTRIBUTION_PACKAGE: 'distribution_package'>, package_name='keras', version='2.15.0'), tags=[], producer_pipeline_run_id=UUID('0f852dd9-223a-4eba-85fa-acb38ce542e2')), metadata=None, resources=None, id=UUID('56bef231-7c1f-4fbf-b40d-6b4a36969fa5'), permission_denied=False)}), metadata=None, resources=None, id=UUID('102e5eb2-4acb-404d-bacb-78d4ce7579db'), permission_denied=False, name='train_model_step'), 'plot_training_history_step': StepRunResponse(body=StepRunResponseBody(created=datetime.datetime(2024, 5, 5, 1, 18, 34, 288138), updated=datetime.datetime(2024, 5, 5, 1, 18, 35, 78159), user=UserResponse(body=UserResponseBody(created=datetime.datetime(2024, 5, 5, 0, 0, 24, 87472), updated=datetime.datetime(2024, 5, 5, 0, 0, 24, 87477), active=True, activation_token=None, full_name='', email_opted_in=None, is_service_account=False, is_admin=True), metadata=None, resources=None, id=UUID('93ce2d77-057e-4a7a-88ca-f0defc269d70'), permission_denied=False, name='default'), status=<ExecutionStatus.COMPLETED: 'completed'>, inputs={'history': ArtifactVersionResponse(body=ArtifactVersionResponseBody(created=datetime.datetime(2024, 5, 5, 1, 18, 34, 18377), updated=datetime.datetime(2024, 5, 5, 1, 18, 34, 18379), user=UserResponse(body=UserResponseBody(created=datetime.datetime(2024, 5, 5, 0, 0, 24, 87472), updated=datetime.datetime(2024, 5, 5, 0, 0, 24, 87477), active=True, activation_token=None, full_name='', email_opted_in=None, is_service_account=False, is_admin=True), metadata=None, resources=None, id=UUID('93ce2d77-057e-4a7a-88ca-f0defc269d70'), permission_denied=False, name='default'), artifact=ArtifactResponse(body=ArtifactResponseBody(created=datetime.datetime(2024, 5, 5, 1, 18, 33, 727277), updated=datetime.datetime(2024, 5, 5, 1, 18, 33, 727279), tags=[], latest_version_name='1', latest_version_id=UUID('56bef231-7c1f-4fbf-b40d-6b4a36969fa5')), metadata=None, resources=None, id=UUID('3bae4785-f56c-42d7-897c-d605876b318a'), permission_denied=False, name='history'), version='1', uri='/root/.config/zenml/local_stores/1170b6db-11aa-4fdb-b70c-cb87a29e2f1e/train_model_step/history/102e5eb2-4acb-404d-bacb-78d4ce7579db/ee355ecc', type=<ArtifactType.DATA: 'DataArtifact'>, materializer=Source(module='zenml.materializers.cloudpickle_materializer', attribute='CloudpickleMaterializer', type=<SourceType.INTERNAL: 'internal'>), data_type=Source(module='keras.src.callbacks', attribute='History', type=<SourceType.DISTRIBUTION_PACKAGE: 'distribution_package'>, package_name='keras', version='2.15.0'), tags=[], producer_pipeline_run_id=UUID('0f852dd9-223a-4eba-85fa-acb38ce542e2')), metadata=None, resources=None, id=UUID('56bef231-7c1f-4fbf-b40d-6b4a36969fa5'), permission_denied=False)}, outputs={}), metadata=None, resources=None, id=UUID('941fb8dc-1352-4497-ac7c-6b2e4c74555e'), permission_denied=False, name='plot_training_history_step'), 'evaluate_model_step': StepRunResponse(body=StepRunResponseBody(created=datetime.datetime(2024, 5, 5, 1, 18, 35, 258913), updated=datetime.datetime(2024, 5, 5, 1, 19, 29, 732139), user=UserResponse(body=UserResponseBody(created=datetime.datetime(2024, 5, 5, 0, 0, 24, 87472), updated=datetime.datetime(2024, 5, 5, 0, 0, 24, 87477), active=True, activation_token=None, full_name='', email_opted_in=None, is_service_account=False, is_admin=True), metadata=None, resources=None, id=UUID('93ce2d77-057e-4a7a-88ca-f0defc269d70'), permission_denied=False, name='default'), status=<ExecutionStatus.COMPLETED: 'completed'>, inputs={'model': ArtifactVersionResponse(body=ArtifactVersionResponseBody(created=datetime.datetime(2024, 5, 5, 0, 48, 23, 71646), updated=datetime.datetime(2024, 5, 5, 0, 48, 23, 71648), user=UserResponse(body=UserResponseBody(created=datetime.datetime(2024, 5, 5, 0, 0, 24, 87472), updated=datetime.datetime(2024, 5, 5, 0, 0, 24, 87477), active=True, activation_token=None, full_name='', email_opted_in=None, is_service_account=False, is_admin=True), metadata=None, resources=None, id=UUID('93ce2d77-057e-4a7a-88ca-f0defc269d70'), permission_denied=False, name='default'), artifact=ArtifactResponse(body=ArtifactResponseBody(created=datetime.datetime(2024, 5, 5, 0, 34, 6, 226177), updated=datetime.datetime(2024, 5, 5, 0, 34, 6, 226180), tags=[], latest_version_name='2', latest_version_id=UUID('3df04687-5f8e-4b28-9131-01ba31033db9')), metadata=None, resources=None, id=UUID('f23e9154-53b0-404e-b042-b54ae636f640'), permission_denied=False, name='model'), version='2', uri='/root/.config/zenml/local_stores/1170b6db-11aa-4fdb-b70c-cb87a29e2f1e/create_cnn_model_step/model/1bda2612-d0c5-4c4e-be20-86b723f6e747/f18641a9', type=<ArtifactType.DATA: 'DataArtifact'>, materializer=Source(module='zenml.materializers.cloudpickle_materializer', attribute='CloudpickleMaterializer', type=<SourceType.INTERNAL: 'internal'>), data_type=Source(module='keras.src.engine.functional', attribute='Functional', type=<SourceType.DISTRIBUTION_PACKAGE: 'distribution_package'>, package_name='keras', version='2.15.0'), tags=[], producer_pipeline_run_id=UUID('0f852dd9-223a-4eba-85fa-acb38ce542e2')), metadata=None, resources=None, id=UUID('3df04687-5f8e-4b28-9131-01ba31033db9'), permission_denied=False), 'le': ArtifactVersionResponse(body=ArtifactVersionResponseBody(created=datetime.datetime(2024, 5, 5, 0, 48, 22, 315453), updated=datetime.datetime(2024, 5, 5, 0, 48, 22, 315455), user=UserResponse(body=UserResponseBody(created=datetime.datetime(2024, 5, 5, 0, 0, 24, 87472), updated=datetime.datetime(2024, 5, 5, 0, 0, 24, 87477), active=True, activation_token=None, full_name='', email_opted_in=None, is_service_account=False, is_admin=True), metadata=None, resources=None, id=UUID('93ce2d77-057e-4a7a-88ca-f0defc269d70'), permission_denied=False, name='default'), artifact=ArtifactResponse(body=ArtifactResponseBody(created=datetime.datetime(2024, 5, 5, 0, 1, 57, 108103), updated=datetime.datetime(2024, 5, 5, 0, 1, 57, 108105), tags=[], latest_version_name='5', latest_version_id=UUID('bd7f3948-4575-4d71-a063-b79a70e62fdd')), metadata=None, resources=None, id=UUID('2bde88cf-9609-4fe5-893c-fb441682ba4e'), permission_denied=False, name='le'), version='5', uri='/root/.config/zenml/local_stores/1170b6db-11aa-4fdb-b70c-cb87a29e2f1e/label_encoding_step/le/c446f7fd-a99c-40eb-9286-34ee640d5aed/275a68d3', type=<ArtifactType.MODEL: 'ModelArtifact'>, materializer=Source(module='zenml.integrations.sklearn.materializers.sklearn_materializer', attribute='SklearnMaterializer', type=<SourceType.INTERNAL: 'internal'>), data_type=Source(module='sklearn.preprocessing._label', attribute='LabelEncoder', type=<SourceType.DISTRIBUTION_PACKAGE: 'distribution_package'>, package_name='scikit-learn', version='1.2.2'), tags=[], producer_pipeline_run_id=UUID('0f852dd9-223a-4eba-85fa-acb38ce542e2')), metadata=None, resources=None, id=UUID('bd7f3948-4575-4d71-a063-b79a70e62fdd'), permission_denied=False)}, outputs={}), metadata=None, resources=None, id=UUID('565c86b1-fe98-4a77-9786-1bc0837fcc6f'), permission_denied=False, name='evaluate_model_step')}, config=PipelineConfiguration(enable_cache=False, enable_artifact_metadata=None, enable_artifact_visualization=None, enable_step_logs=None, settings={}, extra={}, failure_hook_source=None, success_hook_source=None, model=None, parameters=None, name='cnn_training_pipeline'), start_time=datetime.datetime(2024, 5, 5, 0, 48, 14, 688597), end_time=datetime.datetime(2024, 5, 5, 1, 19, 29, 741573), client_environment={'environment': 'colab', 'os': 'linux', 'linux_distro': 'ubuntu', 'linux_distro_like': 'debian', 'linux_distro_version': '22.04', 'python_version': '3.10.12'}, orchestrator_environment={'environment': 'colab', 'os': 'linux', 'linux_distro': 'ubuntu', 'linux_distro_like': 'debian', 'linux_distro_version': '22.04', 'python_version': '3.10.12'}, orchestrator_run_id='8e6d86cf-8d46-4712-98f3-d7c17216c9fd'), resources=None, id=UUID('0f852dd9-223a-4eba-85fa-acb38ce542e2'), permission_denied=False, name='cnn_training_pipeline-2024_05_05-00_48_14_688584')"
            ]
          },
          "metadata": {},
          "execution_count": 16
        }
      ]
    },
    {
      "cell_type": "code",
      "source": [
        "cnn_training_pipeline = Client().get_pipeline(\"cnn_training_pipeline\")\n",
        "\n",
        "last_run = cnn_training_pipeline.last_run\n",
        "cnn_model = last_run.steps[\"create_cnn_model_step\"].outputs[\"model\"].load()\n"
      ],
      "metadata": {
        "colab": {
          "base_uri": "https://localhost:8080/"
        },
        "id": "uGvJuEx47eWC",
        "outputId": "a677346f-362d-4a73-f732-e724d2525df0"
      },
      "execution_count": 18,
      "outputs": [
        {
          "output_type": "stream",
          "name": "stderr",
          "text": [
            "WARNING:absl:Skipping variable loading for optimizer 'Adam', because it has 17 variables whereas the saved optimizer has 1 variables. \n"
          ]
        },
        {
          "output_type": "stream",
          "name": "stdout",
          "text": [
            "\u001b[33mSkipping variable loading for optimizer 'Adam', because it has 17 variables whereas the saved optimizer has 1 variables. \u001b[0m\n"
          ]
        }
      ]
    },
    {
      "cell_type": "code",
      "source": [
        "!zenml down"
      ],
      "metadata": {
        "colab": {
          "base_uri": "https://localhost:8080/"
        },
        "id": "-SX69YIT29Oq",
        "outputId": "ee45a1aa-c8b7-4ee0-eb71-0d717376721c"
      },
      "execution_count": 19,
      "outputs": [
        {
          "output_type": "stream",
          "name": "stdout",
          "text": [
            "\u001b[1;35mNumExpr defaulting to 2 threads.\u001b[0m\n",
            "\u001b[1;35mDisconnecting ZenML from the 'local' local ZenML server (http://127.0.0.1:8237).\u001b[0m\n",
            "\u001b[1;35mDisconnected ZenML from the ZenML server.\u001b[0m\n",
            "\u001b[1;35mTearing down the 'local' local ZenML server.\u001b[0m\n",
            "\u001b[1;35mRemoving the local ZenML server.\u001b[0m\n",
            "\u001b[1;35mCalling stop method...\u001b[0m\n",
            "\u001b[?25l\u001b[32m⠋\u001b[0m Stopping service 'LocalZenServer[6323277c-2455-4474-9d98-cad23d28a694] (type: zen_server, flavor: \n",
            "local)'.\n",
            "\u001b[2K\u001b[1A\u001b[2K\u001b[1A\u001b[2K\u001b[32m⠙\u001b[0m Stopping service 'LocalZenServer[6323277c-2455-4474-9d98-cad23d28a694] (type: zen_server, flavor: \n",
            "local)'.\n",
            "\u001b[2K\u001b[1A\u001b[2K\u001b[1A\u001b[2K\u001b[32m⠹\u001b[0m Stopping service 'LocalZenServer[6323277c-2455-4474-9d98-cad23d28a694] (type: zen_server, flavor: \n",
            "local)'.\n",
            "\u001b[2K\u001b[1A\u001b[2K\u001b[1A\u001b[2K\u001b[32m⠸\u001b[0m Stopping service 'LocalZenServer[6323277c-2455-4474-9d98-cad23d28a694] (type: zen_server, flavor: \n",
            "local)'.\n",
            "\u001b[2K\u001b[1A\u001b[2K\u001b[1A\u001b[2K\u001b[32m⠼\u001b[0m Stopping service 'LocalZenServer[6323277c-2455-4474-9d98-cad23d28a694] (type: zen_server, flavor: \n",
            "local)'.\n",
            "\u001b[2K\u001b[1A\u001b[2K\u001b[1A\u001b[2K\u001b[32m⠴\u001b[0m Stopping service 'LocalZenServer[6323277c-2455-4474-9d98-cad23d28a694] (type: zen_server, flavor: \n",
            "local)'.\n",
            "\u001b[2K\u001b[1A\u001b[2K\u001b[1A\u001b[2K\u001b[32m⠦\u001b[0m Stopping service 'LocalZenServer[6323277c-2455-4474-9d98-cad23d28a694] (type: zen_server, flavor: \n",
            "local)'.\n",
            "\u001b[2K\u001b[1A\u001b[2K\u001b[1A\u001b[2K\u001b[32m⠧\u001b[0m Stopping service 'LocalZenServer[6323277c-2455-4474-9d98-cad23d28a694] (type: zen_server, flavor: \n",
            "local)'.\n",
            "\u001b[2K\u001b[1A\u001b[2K\u001b[1A\u001b[2K\u001b[32m⠇\u001b[0m Stopping service 'LocalZenServer[6323277c-2455-4474-9d98-cad23d28a694] (type: zen_server, flavor: \n",
            "local)'.\n",
            "\u001b[2K\u001b[1A\u001b[2K\u001b[1A\u001b[2K\u001b[32m⠏\u001b[0m Stopping service 'LocalZenServer[6323277c-2455-4474-9d98-cad23d28a694] (type: zen_server, flavor: \n",
            "local)'.\n",
            "\u001b[2K\u001b[1A\u001b[2K\u001b[1A\u001b[2K\u001b[32m⠋\u001b[0m Stopping service 'LocalZenServer[6323277c-2455-4474-9d98-cad23d28a694] (type: zen_server, flavor: \n",
            "local)'.\n",
            "\u001b[2K\u001b[1A\u001b[2K\u001b[1A\u001b[2K\u001b[32m⠙\u001b[0m Stopping service 'LocalZenServer[6323277c-2455-4474-9d98-cad23d28a694] (type: zen_server, flavor: \n",
            "local)'.\n",
            "\u001b[2K\u001b[1A\u001b[2K\u001b[1A\u001b[2K\u001b[32m⠙\u001b[0m Stopping service 'LocalZenServer[6323277c-2455-4474-9d98-cad23d28a694] (type: zen_server, flavor: \n",
            "local)'.\n",
            "\n",
            "\u001b[1A\u001b[2K\u001b[1A\u001b[2K\u001b[1A\u001b[2K\u001b[1;35mstop method executed successfully.\u001b[0m\n",
            "\u001b[2;36mThe local ZenML dashboard has been shut down.\u001b[0m\n"
          ]
        }
      ]
    },
    {
      "cell_type": "code",
      "source": [
        "from zenml.environment import Environment\n",
        "\n",
        "def start_zenml_dashboard(port=8237):\n",
        "  if Environment.in_google_colab():\n",
        "    from pyngrok import ngrok\n",
        "\n",
        "    public_url = ngrok.connect(port)\n",
        "    #print(f\"\\xlb[31mIn Colab, use this url instead: {public_url}!\\xlb]0m\")\n",
        "    print(f\"\\x1b[31mIn Colab, use this url instead: {public_url}!\\x1b[0m\")\n",
        "    !zenml up --blocking --port {port}\n",
        "\n",
        "  else:\n",
        "    !zenml up --port {port}\n",
        "start_zenml_dashboard()"
      ],
      "metadata": {
        "colab": {
          "base_uri": "https://localhost:8080/"
        },
        "id": "iSYwnocx6JFT",
        "outputId": "3d89b64d-679e-4073-eb60-ee1c1a28f5b1"
      },
      "execution_count": 22,
      "outputs": [
        {
          "output_type": "stream",
          "name": "stderr",
          "text": [
            "INFO:pyngrok.ngrok:Opening tunnel named: http-8237-bd3db8f1-8b0d-48ae-be66-2417d530a9a1\n"
          ]
        },
        {
          "output_type": "stream",
          "name": "stdout",
          "text": [
            "\u001b[1;35mOpening tunnel named: http-8237-bd3db8f1-8b0d-48ae-be66-2417d530a9a1\u001b[0m\n"
          ]
        },
        {
          "output_type": "stream",
          "name": "stderr",
          "text": [
            "INFO:pyngrok.process.ngrok:t=2024-05-05T01:23:18+0000 lvl=info msg=\"no configuration paths supplied\"\n"
          ]
        },
        {
          "output_type": "stream",
          "name": "stdout",
          "text": [
            "\u001b[1;35mt=2024-05-05T01:23:18+0000 lvl=info msg=\"no configuration paths supplied\"\u001b[0m\n"
          ]
        },
        {
          "output_type": "stream",
          "name": "stderr",
          "text": [
            "INFO:pyngrok.process.ngrok:t=2024-05-05T01:23:18+0000 lvl=info msg=\"using configuration at default config path\" path=/root/.config/ngrok/ngrok.yml\n"
          ]
        },
        {
          "output_type": "stream",
          "name": "stdout",
          "text": [
            "\u001b[1;35mt=2024-05-05T01:23:18+0000 lvl=info msg=\"using configuration at default config path\" path=/root/.config/ngrok/ngrok.yml\u001b[0m\n"
          ]
        },
        {
          "output_type": "stream",
          "name": "stderr",
          "text": [
            "INFO:pyngrok.process.ngrok:t=2024-05-05T01:23:18+0000 lvl=info msg=\"open config file\" path=/root/.config/ngrok/ngrok.yml err=nil\n"
          ]
        },
        {
          "output_type": "stream",
          "name": "stdout",
          "text": [
            "\u001b[1;35mt=2024-05-05T01:23:18+0000 lvl=info msg=\"open config file\" path=/root/.config/ngrok/ngrok.yml err=nil\u001b[0m\n"
          ]
        },
        {
          "output_type": "stream",
          "name": "stderr",
          "text": [
            "INFO:pyngrok.process.ngrok:t=2024-05-05T01:23:18+0000 lvl=info msg=\"starting web service\" obj=web addr=127.0.0.1:4040 allow_hosts=[]\n"
          ]
        },
        {
          "output_type": "stream",
          "name": "stdout",
          "text": [
            "\u001b[1;35mt=2024-05-05T01:23:18+0000 lvl=info msg=\"starting web service\" obj=web addr=127.0.0.1:4040 allow_hosts=[]\u001b[0m\n"
          ]
        },
        {
          "output_type": "stream",
          "name": "stderr",
          "text": [
            "INFO:pyngrok.process.ngrok:t=2024-05-05T01:23:19+0000 lvl=info msg=\"client session established\" obj=tunnels.session\n"
          ]
        },
        {
          "output_type": "stream",
          "name": "stdout",
          "text": [
            "\u001b[1;35mt=2024-05-05T01:23:19+0000 lvl=info msg=\"client session established\" obj=tunnels.session\u001b[0m\n"
          ]
        },
        {
          "output_type": "stream",
          "name": "stderr",
          "text": [
            "INFO:pyngrok.process.ngrok:t=2024-05-05T01:23:19+0000 lvl=info msg=\"tunnel session started\" obj=tunnels.session\n"
          ]
        },
        {
          "output_type": "stream",
          "name": "stdout",
          "text": [
            "\u001b[1;35mt=2024-05-05T01:23:19+0000 lvl=info msg=\"tunnel session started\" obj=tunnels.session\u001b[0m\n"
          ]
        },
        {
          "output_type": "stream",
          "name": "stderr",
          "text": [
            "INFO:pyngrok.process.ngrok:t=2024-05-05T01:23:19+0000 lvl=info msg=start pg=/api/tunnels id=428fdabfe7d37a9e\n"
          ]
        },
        {
          "output_type": "stream",
          "name": "stdout",
          "text": [
            "\u001b[1;35mt=2024-05-05T01:23:19+0000 lvl=info msg=start pg=/api/tunnels id=428fdabfe7d37a9e\u001b[0m\n"
          ]
        },
        {
          "output_type": "stream",
          "name": "stderr",
          "text": [
            "INFO:pyngrok.process.ngrok:t=2024-05-05T01:23:19+0000 lvl=info msg=end pg=/api/tunnels id=428fdabfe7d37a9e status=200 dur=336.811µs\n"
          ]
        },
        {
          "output_type": "stream",
          "name": "stdout",
          "text": [
            "\u001b[1;35mt=2024-05-05T01:23:19+0000 lvl=info msg=end pg=/api/tunnels id=428fdabfe7d37a9e status=200 dur=336.811µs\u001b[0m\n"
          ]
        },
        {
          "output_type": "stream",
          "name": "stderr",
          "text": [
            "INFO:pyngrok.process.ngrok:t=2024-05-05T01:23:19+0000 lvl=info msg=start pg=/api/tunnels id=efecc4281d7a18d2\n"
          ]
        },
        {
          "output_type": "stream",
          "name": "stdout",
          "text": [
            "\u001b[1;35mt=2024-05-05T01:23:19+0000 lvl=info msg=start pg=/api/tunnels id=efecc4281d7a18d2\u001b[0m\n"
          ]
        },
        {
          "output_type": "stream",
          "name": "stderr",
          "text": [
            "INFO:pyngrok.process.ngrok:t=2024-05-05T01:23:19+0000 lvl=info msg=end pg=/api/tunnels id=efecc4281d7a18d2 status=200 dur=118.697µs\n"
          ]
        },
        {
          "output_type": "stream",
          "name": "stdout",
          "text": [
            "\u001b[1;35mt=2024-05-05T01:23:19+0000 lvl=info msg=end pg=/api/tunnels id=efecc4281d7a18d2 status=200 dur=118.697µs\u001b[0m\n"
          ]
        },
        {
          "output_type": "stream",
          "name": "stderr",
          "text": [
            "INFO:pyngrok.process.ngrok:t=2024-05-05T01:23:19+0000 lvl=info msg=start pg=/api/tunnels id=6703b4f3aca327f0\n"
          ]
        },
        {
          "output_type": "stream",
          "name": "stdout",
          "text": [
            "\u001b[1;35mt=2024-05-05T01:23:19+0000 lvl=info msg=start pg=/api/tunnels id=6703b4f3aca327f0\u001b[0m\n"
          ]
        },
        {
          "output_type": "stream",
          "name": "stderr",
          "text": [
            "INFO:pyngrok.process.ngrok:t=2024-05-05T01:23:19+0000 lvl=info msg=\"started tunnel\" obj=tunnels name=http-8237-bd3db8f1-8b0d-48ae-be66-2417d530a9a1 addr=http://localhost:8237 url=https://64dc-35-240-189-252.ngrok-free.app\n"
          ]
        },
        {
          "output_type": "stream",
          "name": "stdout",
          "text": [
            "\u001b[31mIn Colab, use this url instead: NgrokTunnel: \"https://64dc-35-240-189-252.ngrok-free.app\" -> \"http://localhost:8237\"!\u001b[0m\n",
            "\u001b[1;35mt=2024-05-05T01:23:19+0000 lvl=info msg=\"started tunnel\" obj=tunnels name=http-8237-bd3db8f1-8b0d-48ae-be66-2417d530a9a1 addr=http://localhost:8237 url=https://64dc-35-240-189-252.ngrok-free.app\u001b[0m\n"
          ]
        },
        {
          "output_type": "stream",
          "name": "stderr",
          "text": [
            "INFO:pyngrok.process.ngrok:t=2024-05-05T01:23:19+0000 lvl=info msg=end pg=/api/tunnels id=6703b4f3aca327f0 status=201 dur=251.925056ms\n"
          ]
        },
        {
          "output_type": "stream",
          "name": "stdout",
          "text": [
            "\u001b[1;35mt=2024-05-05T01:23:19+0000 lvl=info msg=end pg=/api/tunnels id=6703b4f3aca327f0 status=201 dur=251.925056ms\u001b[0m\n",
            "\u001b[1;35mNumExpr defaulting to 2 threads.\u001b[0m\n",
            "\u001b[2;36mThe local ZenML dashboard is about to deploy in a blocking process. You can connect to it using the \u001b[0m\n",
            "\u001b[2;32m'default'\u001b[0m\u001b[2;36m username and an empty password.\u001b[0m\n",
            "\u001b[1;35mDeploying a local ZenML server with name 'local'.\u001b[0m\n",
            "\u001b[1;35mInitializing the ZenML global configuration version to 0.57.0\u001b[0m\n",
            "\u001b[1;35mStarting ZenML Server as blocking process... press CTRL+C once to stop it.\u001b[0m\n",
            "\u001b[32mINFO\u001b[0m:     Started server process [\u001b[36m31396\u001b[0m]\n",
            "\u001b[32mINFO\u001b[0m:     Waiting for application startup.\n",
            "\u001b[1;35mNot writing the global configuration to disk in a ZenML server environment.\u001b[0m\n",
            "\u001b[1;35mNot writing the global configuration to disk in a ZenML server environment.\u001b[0m\n",
            "\u001b[32mINFO\u001b[0m:     Application startup complete.\n",
            "\u001b[32mINFO\u001b[0m:     Uvicorn running on \u001b[1mhttp://127.0.0.1:8237\u001b[0m (Press CTRL+C to quit)\n"
          ]
        },
        {
          "output_type": "stream",
          "name": "stderr",
          "text": [
            "INFO:pyngrok.process.ngrok:t=2024-05-05T01:24:00+0000 lvl=info msg=\"join connections\" obj=join id=af74f90e2ba5 l=127.0.0.1:8237 r=197.22.215.157:7820\n"
          ]
        },
        {
          "output_type": "stream",
          "name": "stdout",
          "text": [
            "\u001b[1;35mt=2024-05-05T01:24:00+0000 lvl=info msg=\"join connections\" obj=join id=af74f90e2ba5 l=127.0.0.1:8237 r=197.22.215.157:7820\u001b[0m\n",
            "\u001b[32mINFO\u001b[0m:     197.22.215.157:0 - \"\u001b[1mGET / HTTP/1.1\u001b[0m\" \u001b[32m200 OK\u001b[0m\n"
          ]
        },
        {
          "output_type": "stream",
          "name": "stderr",
          "text": [
            "INFO:pyngrok.process.ngrok:t=2024-05-05T01:24:00+0000 lvl=info msg=\"join connections\" obj=join id=3fe78d487ca4 l=127.0.0.1:8237 r=197.22.215.157:7820\n"
          ]
        },
        {
          "output_type": "stream",
          "name": "stdout",
          "text": [
            "\u001b[32mINFO\u001b[0m:     197.22.215.157:0 - \"\u001b[1mGET /assets/%40tanstack-D1KSn3AD.js HTTP/1.1\u001b[0m\" \u001b[32m200 OK\u001b[0m\n",
            "\u001b[1;35mt=2024-05-05T01:24:00+0000 lvl=info msg=\"join connections\" obj=join id=3fe78d487ca4 l=127.0.0.1:8237 r=197.22.215.157:7820\u001b[0m\n"
          ]
        },
        {
          "output_type": "stream",
          "name": "stderr",
          "text": [
            "INFO:pyngrok.process.ngrok:t=2024-05-05T01:24:00+0000 lvl=info msg=\"join connections\" obj=join id=e9e8381b71b0 l=127.0.0.1:8237 r=197.22.215.157:7820\n"
          ]
        },
        {
          "output_type": "stream",
          "name": "stdout",
          "text": [
            "\u001b[1;35mt=2024-05-05T01:24:00+0000 lvl=info msg=\"join connections\" obj=join id=e9e8381b71b0 l=127.0.0.1:8237 r=197.22.215.157:7820\u001b[0m\n"
          ]
        },
        {
          "output_type": "stream",
          "name": "stderr",
          "text": [
            "INFO:pyngrok.process.ngrok:t=2024-05-05T01:24:00+0000 lvl=info msg=\"join connections\" obj=join id=b9ca2016ac15 l=127.0.0.1:8237 r=197.22.215.157:7820\n"
          ]
        },
        {
          "output_type": "stream",
          "name": "stdout",
          "text": [
            "\u001b[1;35mt=2024-05-05T01:24:00+0000 lvl=info msg=\"join connections\" obj=join id=b9ca2016ac15 l=127.0.0.1:8237 r=197.22.215.157:7820\u001b[0m\n"
          ]
        },
        {
          "output_type": "stream",
          "name": "stderr",
          "text": [
            "INFO:pyngrok.process.ngrok:t=2024-05-05T01:24:00+0000 lvl=info msg=\"join connections\" obj=join id=e72e33a2b88d l=127.0.0.1:8237 r=197.22.215.157:7820\n"
          ]
        },
        {
          "output_type": "stream",
          "name": "stdout",
          "text": [
            "\u001b[1;35mt=2024-05-05T01:24:00+0000 lvl=info msg=\"join connections\" obj=join id=e72e33a2b88d l=127.0.0.1:8237 r=197.22.215.157:7820\u001b[0m\n"
          ]
        },
        {
          "output_type": "stream",
          "name": "stderr",
          "text": [
            "INFO:pyngrok.process.ngrok:t=2024-05-05T01:24:00+0000 lvl=info msg=\"join connections\" obj=join id=06528c87259e l=127.0.0.1:8237 r=197.22.215.157:7820\n"
          ]
        },
        {
          "output_type": "stream",
          "name": "stdout",
          "text": [
            "\u001b[1;35mt=2024-05-05T01:24:00+0000 lvl=info msg=\"join connections\" obj=join id=06528c87259e l=127.0.0.1:8237 r=197.22.215.157:7820\u001b[0m\n"
          ]
        },
        {
          "output_type": "stream",
          "name": "stderr",
          "text": [
            "INFO:pyngrok.process.ngrok:t=2024-05-05T01:24:01+0000 lvl=info msg=\"join connections\" obj=join id=a8de769a6af5 l=127.0.0.1:8237 r=197.22.215.157:7820\n"
          ]
        },
        {
          "output_type": "stream",
          "name": "stdout",
          "text": [
            "\u001b[32mINFO\u001b[0m:     197.22.215.157:0 - \"\u001b[1mGET /assets/%40reactflow-lOPj8ZwY.css HTTP/1.1\u001b[0m\" \u001b[32m200 OK\u001b[0m\n",
            "\u001b[32mINFO\u001b[0m:     197.22.215.157:0 - \"\u001b[1mGET /assets/%40radix-Mqgm9uyP.js HTTP/1.1\u001b[0m\" \u001b[32m200 OK\u001b[0m\n",
            "\u001b[32mINFO\u001b[0m:     197.22.215.157:0 - \"\u001b[1mGET /assets/index-mCzH7qVB.js HTTP/1.1\u001b[0m\" \u001b[32m200 OK\u001b[0m\n",
            "\u001b[32mINFO\u001b[0m:     197.22.215.157:0 - \"\u001b[1mGET /assets/%40react-router-t1nY6c48.js HTTP/1.1\u001b[0m\" \u001b[32m200 OK\u001b[0m\n",
            "\u001b[1;35mt=2024-05-05T01:24:01+0000 lvl=info msg=\"join connections\" obj=join id=a8de769a6af5 l=127.0.0.1:8237 r=197.22.215.157:7820\u001b[0m\n",
            "\u001b[32mINFO\u001b[0m:     197.22.215.157:0 - \"\u001b[1mGET /assets/%40reactflow-D76xjDUs.js HTTP/1.1\u001b[0m\" \u001b[32m200 OK\u001b[0m\n",
            "\u001b[32mINFO\u001b[0m:     197.22.215.157:0 - \"\u001b[1mGET /assets/inter-cyrillic-ext-400-normal-tyfMZHQw.woff2 HTTP/1.1\u001b[0m\" \u001b[32m200 OK\u001b[0m\n"
          ]
        },
        {
          "output_type": "stream",
          "name": "stderr",
          "text": [
            "INFO:pyngrok.process.ngrok:t=2024-05-05T01:24:01+0000 lvl=info msg=\"join connections\" obj=join id=84d253febef5 l=127.0.0.1:8237 r=197.22.215.157:7820\n"
          ]
        },
        {
          "output_type": "stream",
          "name": "stdout",
          "text": [
            "\u001b[1;35mt=2024-05-05T01:24:01+0000 lvl=info msg=\"join connections\" obj=join id=84d253febef5 l=127.0.0.1:8237 r=197.22.215.157:7820\u001b[0m\n"
          ]
        },
        {
          "output_type": "stream",
          "name": "stderr",
          "text": [
            "INFO:pyngrok.process.ngrok:t=2024-05-05T01:24:01+0000 lvl=info msg=\"join connections\" obj=join id=fa5e58ee25ca l=127.0.0.1:8237 r=197.22.215.157:7820\n"
          ]
        },
        {
          "output_type": "stream",
          "name": "stdout",
          "text": [
            "\u001b[1;35mt=2024-05-05T01:24:01+0000 lvl=info msg=\"join connections\" obj=join id=fa5e58ee25ca l=127.0.0.1:8237 r=197.22.215.157:7820\u001b[0m\n"
          ]
        },
        {
          "output_type": "stream",
          "name": "stderr",
          "text": [
            "INFO:pyngrok.process.ngrok:t=2024-05-05T01:24:01+0000 lvl=info msg=\"join connections\" obj=join id=5ccf832f947c l=127.0.0.1:8237 r=197.22.215.157:7820\n"
          ]
        },
        {
          "output_type": "stream",
          "name": "stdout",
          "text": [
            "\u001b[1;35mt=2024-05-05T01:24:01+0000 lvl=info msg=\"join connections\" obj=join id=5ccf832f947c l=127.0.0.1:8237 r=197.22.215.157:7820\u001b[0m\n"
          ]
        },
        {
          "output_type": "stream",
          "name": "stderr",
          "text": [
            "INFO:pyngrok.process.ngrok:t=2024-05-05T01:24:01+0000 lvl=info msg=\"join connections\" obj=join id=4126357ca17a l=127.0.0.1:8237 r=197.22.215.157:7820\n"
          ]
        },
        {
          "output_type": "stream",
          "name": "stdout",
          "text": [
            "\u001b[1;35mt=2024-05-05T01:24:01+0000 lvl=info msg=\"join connections\" obj=join id=4126357ca17a l=127.0.0.1:8237 r=197.22.215.157:7820\u001b[0m\n"
          ]
        },
        {
          "output_type": "stream",
          "name": "stderr",
          "text": [
            "INFO:pyngrok.process.ngrok:t=2024-05-05T01:24:01+0000 lvl=info msg=\"join connections\" obj=join id=6293ceee65d5 l=127.0.0.1:8237 r=197.22.215.157:7820\n"
          ]
        },
        {
          "output_type": "stream",
          "name": "stdout",
          "text": [
            "\u001b[1;35mt=2024-05-05T01:24:01+0000 lvl=info msg=\"join connections\" obj=join id=6293ceee65d5 l=127.0.0.1:8237 r=197.22.215.157:7820\u001b[0m\n"
          ]
        },
        {
          "output_type": "stream",
          "name": "stderr",
          "text": [
            "INFO:pyngrok.process.ngrok:t=2024-05-05T01:24:01+0000 lvl=info msg=\"join connections\" obj=join id=781486d8b07d l=127.0.0.1:8237 r=197.22.215.157:7820\n"
          ]
        },
        {
          "output_type": "stream",
          "name": "stdout",
          "text": [
            "\u001b[1;35mt=2024-05-05T01:24:01+0000 lvl=info msg=\"join connections\" obj=join id=781486d8b07d l=127.0.0.1:8237 r=197.22.215.157:7820\u001b[0m\n"
          ]
        },
        {
          "output_type": "stream",
          "name": "stderr",
          "text": [
            "INFO:pyngrok.process.ngrok:t=2024-05-05T01:24:01+0000 lvl=info msg=\"join connections\" obj=join id=f341bbd6c49a l=127.0.0.1:8237 r=197.22.215.157:7820\n"
          ]
        },
        {
          "output_type": "stream",
          "name": "stdout",
          "text": [
            "\u001b[1;35mt=2024-05-05T01:24:01+0000 lvl=info msg=\"join connections\" obj=join id=f341bbd6c49a l=127.0.0.1:8237 r=197.22.215.157:7820\u001b[0m\n"
          ]
        },
        {
          "output_type": "stream",
          "name": "stderr",
          "text": [
            "INFO:pyngrok.process.ngrok:t=2024-05-05T01:24:01+0000 lvl=info msg=\"join connections\" obj=join id=b96958b02368 l=127.0.0.1:8237 r=197.22.215.157:7820\n"
          ]
        },
        {
          "output_type": "stream",
          "name": "stdout",
          "text": [
            "\u001b[1;35mt=2024-05-05T01:24:01+0000 lvl=info msg=\"join connections\" obj=join id=b96958b02368 l=127.0.0.1:8237 r=197.22.215.157:7820\u001b[0m\n"
          ]
        },
        {
          "output_type": "stream",
          "name": "stderr",
          "text": [
            "INFO:pyngrok.process.ngrok:t=2024-05-05T01:24:01+0000 lvl=info msg=\"join connections\" obj=join id=19264af3944a l=127.0.0.1:8237 r=197.22.215.157:7820\n"
          ]
        },
        {
          "output_type": "stream",
          "name": "stdout",
          "text": [
            "\u001b[1;35mt=2024-05-05T01:24:01+0000 lvl=info msg=\"join connections\" obj=join id=19264af3944a l=127.0.0.1:8237 r=197.22.215.157:7820\u001b[0m\n"
          ]
        },
        {
          "output_type": "stream",
          "name": "stderr",
          "text": [
            "INFO:pyngrok.process.ngrok:t=2024-05-05T01:24:01+0000 lvl=info msg=\"join connections\" obj=join id=c11d0c665f51 l=127.0.0.1:8237 r=197.22.215.157:7820\n"
          ]
        },
        {
          "output_type": "stream",
          "name": "stdout",
          "text": [
            "\u001b[1;35mt=2024-05-05T01:24:01+0000 lvl=info msg=\"join connections\" obj=join id=c11d0c665f51 l=127.0.0.1:8237 r=197.22.215.157:7820\u001b[0m\n"
          ]
        },
        {
          "output_type": "stream",
          "name": "stderr",
          "text": [
            "INFO:pyngrok.process.ngrok:t=2024-05-05T01:24:01+0000 lvl=info msg=\"join connections\" obj=join id=b95b95df8b6d l=127.0.0.1:8237 r=197.22.215.157:7820\n"
          ]
        },
        {
          "output_type": "stream",
          "name": "stdout",
          "text": [
            "\u001b[1;35mt=2024-05-05T01:24:01+0000 lvl=info msg=\"join connections\" obj=join id=b95b95df8b6d l=127.0.0.1:8237 r=197.22.215.157:7820\u001b[0m\n"
          ]
        },
        {
          "output_type": "stream",
          "name": "stderr",
          "text": [
            "INFO:pyngrok.process.ngrok:t=2024-05-05T01:24:01+0000 lvl=info msg=\"join connections\" obj=join id=369f71c226ca l=127.0.0.1:8237 r=197.22.215.157:7820\n"
          ]
        },
        {
          "output_type": "stream",
          "name": "stdout",
          "text": [
            "\u001b[1;35mt=2024-05-05T01:24:01+0000 lvl=info msg=\"join connections\" obj=join id=369f71c226ca l=127.0.0.1:8237 r=197.22.215.157:7820\u001b[0m\n"
          ]
        },
        {
          "output_type": "stream",
          "name": "stderr",
          "text": [
            "INFO:pyngrok.process.ngrok:t=2024-05-05T01:24:01+0000 lvl=info msg=\"join connections\" obj=join id=8f16041b3297 l=127.0.0.1:8237 r=197.22.215.157:7820\n"
          ]
        },
        {
          "output_type": "stream",
          "name": "stdout",
          "text": [
            "\u001b[1;35mt=2024-05-05T01:24:01+0000 lvl=info msg=\"join connections\" obj=join id=8f16041b3297 l=127.0.0.1:8237 r=197.22.215.157:7820\u001b[0m\n"
          ]
        },
        {
          "output_type": "stream",
          "name": "stderr",
          "text": [
            "INFO:pyngrok.process.ngrok:t=2024-05-05T01:24:01+0000 lvl=info msg=\"join connections\" obj=join id=af6e21e8833b l=127.0.0.1:8237 r=197.22.215.157:7820\n"
          ]
        },
        {
          "output_type": "stream",
          "name": "stdout",
          "text": [
            "\u001b[1;35mt=2024-05-05T01:24:01+0000 lvl=info msg=\"join connections\" obj=join id=af6e21e8833b l=127.0.0.1:8237 r=197.22.215.157:7820\u001b[0m\n",
            "\u001b[32mINFO\u001b[0m:     197.22.215.157:0 - \"\u001b[1mGET /assets/inter-latin-400-normal-BT1H-PT_.woff2 HTTP/1.1\u001b[0m\" \u001b[32m200 OK\u001b[0m\n",
            "\u001b[32mINFO\u001b[0m:     197.22.215.157:0 - \"\u001b[1mGET /assets/index-DIiwj6Z5.css HTTP/1.1\u001b[0m\" \u001b[32m200 OK\u001b[0m\n",
            "\u001b[32mINFO\u001b[0m:     197.22.215.157:0 - \"\u001b[1mGET /assets/inter-greek-400-normal-DQXyrmoy.woff2 HTTP/1.1\u001b[0m\" \u001b[32m200 OK\u001b[0m\n",
            "\u001b[32mINFO\u001b[0m:     197.22.215.157:0 - \"\u001b[1mGET /assets/inter-cyrillic-400-normal-Df6ckaLK.woff2 HTTP/1.1\u001b[0m\" \u001b[32m200 OK\u001b[0m\n",
            "\u001b[32mINFO\u001b[0m:     197.22.215.157:0 - \"\u001b[1mGET /assets/inter-vietnamese-400-normal-Cnt0N5Vm.woff2 HTTP/1.1\u001b[0m\" \u001b[32m200 OK\u001b[0m\n",
            "\u001b[32mINFO\u001b[0m:     197.22.215.157:0 - \"\u001b[1mGET /assets/inter-greek-ext-500-normal-2pdUafRD.woff2 HTTP/1.1\u001b[0m\" \u001b[32m200 OK\u001b[0m\n",
            "\u001b[32mINFO\u001b[0m:     197.22.215.157:0 - \"\u001b[1mGET /assets/inter-latin-ext-500-normal-B9u8Q_zH.woff2 HTTP/1.1\u001b[0m\" \u001b[32m200 OK\u001b[0m\n"
          ]
        },
        {
          "output_type": "stream",
          "name": "stderr",
          "text": [
            "INFO:pyngrok.process.ngrok:t=2024-05-05T01:24:01+0000 lvl=info msg=\"join connections\" obj=join id=22939ae9315d l=127.0.0.1:8237 r=197.22.215.157:7820\n"
          ]
        },
        {
          "output_type": "stream",
          "name": "stdout",
          "text": [
            "\u001b[1;35mt=2024-05-05T01:24:01+0000 lvl=info msg=\"join connections\" obj=join id=22939ae9315d l=127.0.0.1:8237 r=197.22.215.157:7820\u001b[0m\n"
          ]
        },
        {
          "output_type": "stream",
          "name": "stderr",
          "text": [
            "INFO:pyngrok.process.ngrok:t=2024-05-05T01:24:01+0000 lvl=info msg=\"join connections\" obj=join id=31eb5c8a9d4f l=127.0.0.1:8237 r=197.22.215.157:7820\n"
          ]
        },
        {
          "output_type": "stream",
          "name": "stdout",
          "text": [
            "\u001b[1;35mt=2024-05-05T01:24:01+0000 lvl=info msg=\"join connections\" obj=join id=31eb5c8a9d4f l=127.0.0.1:8237 r=197.22.215.157:7820\u001b[0m\n"
          ]
        },
        {
          "output_type": "stream",
          "name": "stderr",
          "text": [
            "INFO:pyngrok.process.ngrok:t=2024-05-05T01:24:01+0000 lvl=info msg=\"join connections\" obj=join id=d6ff2ddd525c l=127.0.0.1:8237 r=197.22.215.157:7820\n"
          ]
        },
        {
          "output_type": "stream",
          "name": "stdout",
          "text": [
            "\u001b[1;35mt=2024-05-05T01:24:01+0000 lvl=info msg=\"join connections\" obj=join id=d6ff2ddd525c l=127.0.0.1:8237 r=197.22.215.157:7820\u001b[0m\n"
          ]
        },
        {
          "output_type": "stream",
          "name": "stderr",
          "text": [
            "INFO:pyngrok.process.ngrok:t=2024-05-05T01:24:01+0000 lvl=info msg=\"join connections\" obj=join id=765cd30b4e85 l=127.0.0.1:8237 r=197.22.215.157:7820\n"
          ]
        },
        {
          "output_type": "stream",
          "name": "stdout",
          "text": [
            "\u001b[1;35mt=2024-05-05T01:24:01+0000 lvl=info msg=\"join connections\" obj=join id=765cd30b4e85 l=127.0.0.1:8237 r=197.22.215.157:7820\u001b[0m\n"
          ]
        },
        {
          "output_type": "stream",
          "name": "stderr",
          "text": [
            "INFO:pyngrok.process.ngrok:t=2024-05-05T01:24:01+0000 lvl=info msg=\"join connections\" obj=join id=288f10aa01d3 l=127.0.0.1:8237 r=197.22.215.157:7820\n"
          ]
        },
        {
          "output_type": "stream",
          "name": "stdout",
          "text": [
            "\u001b[1;35mt=2024-05-05T01:24:01+0000 lvl=info msg=\"join connections\" obj=join id=288f10aa01d3 l=127.0.0.1:8237 r=197.22.215.157:7820\u001b[0m\n"
          ]
        },
        {
          "output_type": "stream",
          "name": "stderr",
          "text": [
            "INFO:pyngrok.process.ngrok:t=2024-05-05T01:24:01+0000 lvl=info msg=\"join connections\" obj=join id=e59b50ffe84e l=127.0.0.1:8237 r=197.22.215.157:7820\n"
          ]
        },
        {
          "output_type": "stream",
          "name": "stdout",
          "text": [
            "\u001b[1;35mt=2024-05-05T01:24:01+0000 lvl=info msg=\"join connections\" obj=join id=e59b50ffe84e l=127.0.0.1:8237 r=197.22.215.157:7820\u001b[0m\n"
          ]
        },
        {
          "output_type": "stream",
          "name": "stderr",
          "text": [
            "INFO:pyngrok.process.ngrok:t=2024-05-05T01:24:01+0000 lvl=info msg=\"join connections\" obj=join id=c73665bc1e6b l=127.0.0.1:8237 r=197.22.215.157:7820\n"
          ]
        },
        {
          "output_type": "stream",
          "name": "stdout",
          "text": [
            "\u001b[1;35mt=2024-05-05T01:24:01+0000 lvl=info msg=\"join connections\" obj=join id=c73665bc1e6b l=127.0.0.1:8237 r=197.22.215.157:7820\u001b[0m\n"
          ]
        },
        {
          "output_type": "stream",
          "name": "stderr",
          "text": [
            "INFO:pyngrok.process.ngrok:t=2024-05-05T01:24:01+0000 lvl=info msg=\"join connections\" obj=join id=980f2c647ebe l=127.0.0.1:8237 r=197.22.215.157:7820\n"
          ]
        },
        {
          "output_type": "stream",
          "name": "stdout",
          "text": [
            "\u001b[1;35mt=2024-05-05T01:24:01+0000 lvl=info msg=\"join connections\" obj=join id=980f2c647ebe l=127.0.0.1:8237 r=197.22.215.157:7820\u001b[0m\n"
          ]
        },
        {
          "output_type": "stream",
          "name": "stderr",
          "text": [
            "INFO:pyngrok.process.ngrok:t=2024-05-05T01:24:01+0000 lvl=info msg=\"join connections\" obj=join id=06882b046032 l=127.0.0.1:8237 r=197.22.215.157:7820\n"
          ]
        },
        {
          "output_type": "stream",
          "name": "stdout",
          "text": [
            "\u001b[1;35mt=2024-05-05T01:24:01+0000 lvl=info msg=\"join connections\" obj=join id=06882b046032 l=127.0.0.1:8237 r=197.22.215.157:7820\u001b[0m\n"
          ]
        },
        {
          "output_type": "stream",
          "name": "stderr",
          "text": [
            "INFO:pyngrok.process.ngrok:t=2024-05-05T01:24:01+0000 lvl=info msg=\"join connections\" obj=join id=85eb7d5d35a7 l=127.0.0.1:8237 r=197.22.215.157:7820\n"
          ]
        },
        {
          "output_type": "stream",
          "name": "stdout",
          "text": [
            "\u001b[1;35mt=2024-05-05T01:24:01+0000 lvl=info msg=\"join connections\" obj=join id=85eb7d5d35a7 l=127.0.0.1:8237 r=197.22.215.157:7820\u001b[0m\n"
          ]
        },
        {
          "output_type": "stream",
          "name": "stderr",
          "text": [
            "INFO:pyngrok.process.ngrok:t=2024-05-05T01:24:01+0000 lvl=info msg=\"join connections\" obj=join id=69390200fc59 l=127.0.0.1:8237 r=197.22.215.157:7820\n"
          ]
        },
        {
          "output_type": "stream",
          "name": "stdout",
          "text": [
            "\u001b[1;35mt=2024-05-05T01:24:01+0000 lvl=info msg=\"join connections\" obj=join id=69390200fc59 l=127.0.0.1:8237 r=197.22.215.157:7820\u001b[0m\n"
          ]
        },
        {
          "output_type": "stream",
          "name": "stderr",
          "text": [
            "INFO:pyngrok.process.ngrok:t=2024-05-05T01:24:01+0000 lvl=info msg=\"join connections\" obj=join id=112f01990d80 l=127.0.0.1:8237 r=197.22.215.157:7820\n"
          ]
        },
        {
          "output_type": "stream",
          "name": "stdout",
          "text": [
            "\u001b[1;35mt=2024-05-05T01:24:01+0000 lvl=info msg=\"join connections\" obj=join id=112f01990d80 l=127.0.0.1:8237 r=197.22.215.157:7820\u001b[0m\n"
          ]
        },
        {
          "output_type": "stream",
          "name": "stderr",
          "text": [
            "INFO:pyngrok.process.ngrok:t=2024-05-05T01:24:01+0000 lvl=info msg=\"join connections\" obj=join id=50456bd0bb6c l=127.0.0.1:8237 r=197.22.215.157:7820\n"
          ]
        },
        {
          "output_type": "stream",
          "name": "stdout",
          "text": [
            "\u001b[1;35mt=2024-05-05T01:24:01+0000 lvl=info msg=\"join connections\" obj=join id=50456bd0bb6c l=127.0.0.1:8237 r=197.22.215.157:7820\u001b[0m\n"
          ]
        },
        {
          "output_type": "stream",
          "name": "stderr",
          "text": [
            "INFO:pyngrok.process.ngrok:t=2024-05-05T01:24:01+0000 lvl=info msg=\"join connections\" obj=join id=e2b4fb481e5c l=127.0.0.1:8237 r=197.22.215.157:7820\n"
          ]
        },
        {
          "output_type": "stream",
          "name": "stdout",
          "text": [
            "\u001b[1;35mt=2024-05-05T01:24:01+0000 lvl=info msg=\"join connections\" obj=join id=e2b4fb481e5c l=127.0.0.1:8237 r=197.22.215.157:7820\u001b[0m\n"
          ]
        },
        {
          "output_type": "stream",
          "name": "stderr",
          "text": [
            "INFO:pyngrok.process.ngrok:t=2024-05-05T01:24:01+0000 lvl=info msg=\"join connections\" obj=join id=9272590892f7 l=127.0.0.1:8237 r=197.22.215.157:7820\n"
          ]
        },
        {
          "output_type": "stream",
          "name": "stdout",
          "text": [
            "\u001b[1;35mt=2024-05-05T01:24:01+0000 lvl=info msg=\"join connections\" obj=join id=9272590892f7 l=127.0.0.1:8237 r=197.22.215.157:7820\u001b[0m\n"
          ]
        },
        {
          "output_type": "stream",
          "name": "stderr",
          "text": [
            "INFO:pyngrok.process.ngrok:t=2024-05-05T01:24:01+0000 lvl=info msg=\"join connections\" obj=join id=50984496c5de l=127.0.0.1:8237 r=197.22.215.157:7820\n"
          ]
        },
        {
          "output_type": "stream",
          "name": "stdout",
          "text": [
            "\u001b[1;35mt=2024-05-05T01:24:01+0000 lvl=info msg=\"join connections\" obj=join id=50984496c5de l=127.0.0.1:8237 r=197.22.215.157:7820\u001b[0m\n"
          ]
        },
        {
          "output_type": "stream",
          "name": "stderr",
          "text": [
            "INFO:pyngrok.process.ngrok:t=2024-05-05T01:24:01+0000 lvl=info msg=\"join connections\" obj=join id=31b125b17297 l=127.0.0.1:8237 r=197.22.215.157:7820\n"
          ]
        },
        {
          "output_type": "stream",
          "name": "stdout",
          "text": [
            "\u001b[32mINFO\u001b[0m:     197.22.215.157:0 - \"\u001b[1mGET /assets/inter-cyrillic-600-normal-DDpWG8g5.woff2 HTTP/1.1\u001b[0m\" \u001b[32m200 OK\u001b[0m\n",
            "\u001b[32mINFO\u001b[0m:     197.22.215.157:0 - \"\u001b[1mGET /assets/inter-cyrillic-ext-600-normal-DpA2xaRd.woff2 HTTP/1.1\u001b[0m\" \u001b[32m200 OK\u001b[0m\n",
            "\u001b[32mINFO\u001b[0m:     197.22.215.157:0 - \"\u001b[1mGET /assets/inter-greek-500-normal-CmOavsDc.woff2 HTTP/1.1\u001b[0m\" \u001b[32m200 OK\u001b[0m\n",
            "\u001b[32mINFO\u001b[0m:     197.22.215.157:0 - \"\u001b[1mGET /assets/inter-greek-ext-400-normal-CIdlr5YK.woff2 HTTP/1.1\u001b[0m\" \u001b[32m200 OK\u001b[0m\n",
            "\u001b[1;35mt=2024-05-05T01:24:01+0000 lvl=info msg=\"join connections\" obj=join id=31b125b17297 l=127.0.0.1:8237 r=197.22.215.157:7820\u001b[0m\n",
            "\u001b[32mINFO\u001b[0m:     197.22.215.157:0 - \"\u001b[1mGET /assets/inter-greek-400-normal-DvIPHDQ7.woff HTTP/1.1\u001b[0m\" \u001b[32m200 OK\u001b[0m\n",
            "\u001b[32mINFO\u001b[0m:     197.22.215.157:0 - \"\u001b[1mGET /assets/inter-cyrillic-500-normal-BRrLR67x.woff2 HTTP/1.1\u001b[0m\" \u001b[32m200 OK\u001b[0m\n",
            "\u001b[32mINFO\u001b[0m:     197.22.215.157:0 - \"\u001b[1mGET /assets/inter-cyrillic-500-normal-DskEQOpE.woff HTTP/1.1\u001b[0m\" \u001b[32m200 OK\u001b[0m\n",
            "\u001b[32mINFO\u001b[0m:     197.22.215.157:0 - \"\u001b[1mGET /assets/inter-greek-600-normal-B-l8Lzzd.woff2 HTTP/1.1\u001b[0m\" \u001b[32m200 OK\u001b[0m\n",
            "\u001b[32mINFO\u001b[0m:     197.22.215.157:0 - \"\u001b[1mGET /assets/inter-vietnamese-400-normal-DIOGfGLL.woff HTTP/1.1\u001b[0m\" \u001b[32m200 OK\u001b[0m\n",
            "\u001b[32mINFO\u001b[0m:     197.22.215.157:0 - \"\u001b[1mGET /assets/inter-latin-ext-400-normal-D3W-OpO-.woff2 HTTP/1.1\u001b[0m\" \u001b[32m200 OK\u001b[0m\n",
            "\u001b[32mINFO\u001b[0m:     197.22.215.157:0 - \"\u001b[1mGET /assets/inter-latin-ext-400-normal-8tIzm-yw.woff HTTP/1.1\u001b[0m\" \u001b[32m200 OK\u001b[0m\n",
            "\u001b[32mINFO\u001b[0m:     197.22.215.157:0 - \"\u001b[1mGET /assets/inter-vietnamese-500-normal-5IkPJ6Nk.woff2 HTTP/1.1\u001b[0m\" \u001b[32m200 OK\u001b[0m\n",
            "\u001b[32mINFO\u001b[0m:     197.22.215.157:0 - \"\u001b[1mGET /assets/inter-cyrillic-ext-500-normal-DOnSzjnx.woff2 HTTP/1.1\u001b[0m\" \u001b[32m200 OK\u001b[0m\n",
            "\u001b[32mINFO\u001b[0m:     197.22.215.157:0 - \"\u001b[1mGET /assets/inter-latin-400-normal-Cdi8t5Mu.woff HTTP/1.1\u001b[0m\" \u001b[32m200 OK\u001b[0m\n",
            "\u001b[32mINFO\u001b[0m:     197.22.215.157:0 - \"\u001b[1mGET /assets/inter-greek-ext-600-normal-CkBLDEl_.woff2 HTTP/1.1\u001b[0m\" \u001b[32m200 OK\u001b[0m\n",
            "\u001b[32mINFO\u001b[0m:     197.22.215.157:0 - \"\u001b[1mGET /assets/inter-latin-500-normal-kWhwEdDH.woff2 HTTP/1.1\u001b[0m\" \u001b[32m200 OK\u001b[0m\n",
            "\u001b[32mINFO\u001b[0m:     197.22.215.157:0 - \"\u001b[1mGET /assets/inter-vietnamese-600-normal-DjnxGF-L.woff2 HTTP/1.1\u001b[0m\" \u001b[32m200 OK\u001b[0m\n",
            "\u001b[32mINFO\u001b[0m:     197.22.215.157:0 - \"\u001b[1mGET /assets/inter-cyrillic-400-normal-JrS_4yms.woff HTTP/1.1\u001b[0m\" \u001b[32m200 OK\u001b[0m\n",
            "\u001b[32mINFO\u001b[0m:     197.22.215.157:0 - \"\u001b[1mGET /assets/inter-latin-ext-600-normal-ao35dkSb.woff2 HTTP/1.1\u001b[0m\" \u001b[32m200 OK\u001b[0m\n",
            "\u001b[32mINFO\u001b[0m:     197.22.215.157:0 - \"\u001b[1mGET /assets/inter-cyrillic-ext-400-normal-CzG7Kr3z.woff HTTP/1.1\u001b[0m\" \u001b[32m200 OK\u001b[0m\n",
            "\u001b[32mINFO\u001b[0m:     197.22.215.157:0 - \"\u001b[1mGET /assets/inter-latin-600-normal-B2Ssfs8e.woff2 HTTP/1.1\u001b[0m\" \u001b[32m200 OK\u001b[0m\n",
            "\u001b[32mINFO\u001b[0m:     197.22.215.157:0 - \"\u001b[1mGET /assets/inter-greek-ext-400-normal-_Rr29XE2.woff HTTP/1.1\u001b[0m\" \u001b[32m200 OK\u001b[0m\n",
            "\u001b[32mINFO\u001b[0m:     197.22.215.157:0 - \"\u001b[1mGET /assets/inter-cyrillic-ext-500-normal-Xebo2OyJ.woff HTTP/1.1\u001b[0m\" \u001b[32m200 OK\u001b[0m\n"
          ]
        },
        {
          "output_type": "stream",
          "name": "stderr",
          "text": [
            "INFO:pyngrok.process.ngrok:t=2024-05-05T01:24:01+0000 lvl=info msg=\"join connections\" obj=join id=0b3281bb612b l=127.0.0.1:8237 r=197.22.215.157:7820\n"
          ]
        },
        {
          "output_type": "stream",
          "name": "stdout",
          "text": [
            "\u001b[1;35mt=2024-05-05T01:24:01+0000 lvl=info msg=\"join connections\" obj=join id=0b3281bb612b l=127.0.0.1:8237 r=197.22.215.157:7820\u001b[0m\n"
          ]
        },
        {
          "output_type": "stream",
          "name": "stderr",
          "text": [
            "INFO:pyngrok.process.ngrok:t=2024-05-05T01:24:01+0000 lvl=info msg=\"join connections\" obj=join id=1221b85570c9 l=127.0.0.1:8237 r=197.22.215.157:7820\n"
          ]
        },
        {
          "output_type": "stream",
          "name": "stdout",
          "text": [
            "\u001b[1;35mt=2024-05-05T01:24:01+0000 lvl=info msg=\"join connections\" obj=join id=1221b85570c9 l=127.0.0.1:8237 r=197.22.215.157:7820\u001b[0m\n"
          ]
        },
        {
          "output_type": "stream",
          "name": "stderr",
          "text": [
            "INFO:pyngrok.process.ngrok:t=2024-05-05T01:24:01+0000 lvl=info msg=\"join connections\" obj=join id=5bdc3c744be7 l=127.0.0.1:8237 r=197.22.215.157:7820\n"
          ]
        },
        {
          "output_type": "stream",
          "name": "stdout",
          "text": [
            "\u001b[1;35mt=2024-05-05T01:24:01+0000 lvl=info msg=\"join connections\" obj=join id=5bdc3c744be7 l=127.0.0.1:8237 r=197.22.215.157:7820\u001b[0m\n"
          ]
        },
        {
          "output_type": "stream",
          "name": "stderr",
          "text": [
            "INFO:pyngrok.process.ngrok:t=2024-05-05T01:24:01+0000 lvl=info msg=\"join connections\" obj=join id=21383c935f5a l=127.0.0.1:8237 r=197.22.215.157:7820\n"
          ]
        },
        {
          "output_type": "stream",
          "name": "stdout",
          "text": [
            "\u001b[1;35mt=2024-05-05T01:24:01+0000 lvl=info msg=\"join connections\" obj=join id=21383c935f5a l=127.0.0.1:8237 r=197.22.215.157:7820\u001b[0m\n"
          ]
        },
        {
          "output_type": "stream",
          "name": "stderr",
          "text": [
            "INFO:pyngrok.process.ngrok:t=2024-05-05T01:24:01+0000 lvl=info msg=\"join connections\" obj=join id=304f49203b67 l=127.0.0.1:8237 r=197.22.215.157:7820\n"
          ]
        },
        {
          "output_type": "stream",
          "name": "stdout",
          "text": [
            "\u001b[1;35mt=2024-05-05T01:24:01+0000 lvl=info msg=\"join connections\" obj=join id=304f49203b67 l=127.0.0.1:8237 r=197.22.215.157:7820\u001b[0m\n"
          ]
        },
        {
          "output_type": "stream",
          "name": "stderr",
          "text": [
            "INFO:pyngrok.process.ngrok:t=2024-05-05T01:24:01+0000 lvl=info msg=\"join connections\" obj=join id=9805f9d50e22 l=127.0.0.1:8237 r=197.22.215.157:7820\n"
          ]
        },
        {
          "output_type": "stream",
          "name": "stdout",
          "text": [
            "\u001b[1;35mt=2024-05-05T01:24:01+0000 lvl=info msg=\"join connections\" obj=join id=9805f9d50e22 l=127.0.0.1:8237 r=197.22.215.157:7820\u001b[0m\n"
          ]
        },
        {
          "output_type": "stream",
          "name": "stderr",
          "text": [
            "INFO:pyngrok.process.ngrok:t=2024-05-05T01:24:01+0000 lvl=info msg=\"join connections\" obj=join id=c079a954f920 l=127.0.0.1:8237 r=197.22.215.157:7820\n"
          ]
        },
        {
          "output_type": "stream",
          "name": "stdout",
          "text": [
            "\u001b[1;35mt=2024-05-05T01:24:01+0000 lvl=info msg=\"join connections\" obj=join id=c079a954f920 l=127.0.0.1:8237 r=197.22.215.157:7820\u001b[0m\n"
          ]
        },
        {
          "output_type": "stream",
          "name": "stderr",
          "text": [
            "INFO:pyngrok.process.ngrok:t=2024-05-05T01:24:01+0000 lvl=info msg=\"join connections\" obj=join id=77d64409397d l=127.0.0.1:8237 r=197.22.215.157:7820\n"
          ]
        },
        {
          "output_type": "stream",
          "name": "stdout",
          "text": [
            "\u001b[1;35mt=2024-05-05T01:24:01+0000 lvl=info msg=\"join connections\" obj=join id=77d64409397d l=127.0.0.1:8237 r=197.22.215.157:7820\u001b[0m\n"
          ]
        },
        {
          "output_type": "stream",
          "name": "stderr",
          "text": [
            "INFO:pyngrok.process.ngrok:t=2024-05-05T01:24:01+0000 lvl=info msg=\"join connections\" obj=join id=72aa8d4ca821 l=127.0.0.1:8237 r=197.22.215.157:7820\n"
          ]
        },
        {
          "output_type": "stream",
          "name": "stdout",
          "text": [
            "\u001b[1;35mt=2024-05-05T01:24:01+0000 lvl=info msg=\"join connections\" obj=join id=72aa8d4ca821 l=127.0.0.1:8237 r=197.22.215.157:7820\u001b[0m\n"
          ]
        },
        {
          "output_type": "stream",
          "name": "stderr",
          "text": [
            "INFO:pyngrok.process.ngrok:t=2024-05-05T01:24:01+0000 lvl=info msg=\"join connections\" obj=join id=ef72abaee37f l=127.0.0.1:8237 r=197.22.215.157:7820\n"
          ]
        },
        {
          "output_type": "stream",
          "name": "stdout",
          "text": [
            "\u001b[1;35mt=2024-05-05T01:24:01+0000 lvl=info msg=\"join connections\" obj=join id=ef72abaee37f l=127.0.0.1:8237 r=197.22.215.157:7820\u001b[0m\n"
          ]
        },
        {
          "output_type": "stream",
          "name": "stderr",
          "text": [
            "INFO:pyngrok.process.ngrok:t=2024-05-05T01:24:01+0000 lvl=info msg=\"join connections\" obj=join id=de46ed5c9753 l=127.0.0.1:8237 r=197.22.215.157:7820\n"
          ]
        },
        {
          "output_type": "stream",
          "name": "stdout",
          "text": [
            "\u001b[1;35mt=2024-05-05T01:24:01+0000 lvl=info msg=\"join connections\" obj=join id=de46ed5c9753 l=127.0.0.1:8237 r=197.22.215.157:7820\u001b[0m\n"
          ]
        },
        {
          "output_type": "stream",
          "name": "stderr",
          "text": [
            "INFO:pyngrok.process.ngrok:t=2024-05-05T01:24:01+0000 lvl=info msg=\"join connections\" obj=join id=77ecb56cfc81 l=127.0.0.1:8237 r=197.22.215.157:7820\n"
          ]
        },
        {
          "output_type": "stream",
          "name": "stdout",
          "text": [
            "\u001b[1;35mt=2024-05-05T01:24:01+0000 lvl=info msg=\"join connections\" obj=join id=77ecb56cfc81 l=127.0.0.1:8237 r=197.22.215.157:7820\u001b[0m\n"
          ]
        },
        {
          "output_type": "stream",
          "name": "stderr",
          "text": [
            "INFO:pyngrok.process.ngrok:t=2024-05-05T01:24:01+0000 lvl=info msg=\"join connections\" obj=join id=012ed5fb66f9 l=127.0.0.1:8237 r=197.22.215.157:7820\n"
          ]
        },
        {
          "output_type": "stream",
          "name": "stdout",
          "text": [
            "\u001b[1;35mt=2024-05-05T01:24:01+0000 lvl=info msg=\"join connections\" obj=join id=012ed5fb66f9 l=127.0.0.1:8237 r=197.22.215.157:7820\u001b[0m\n"
          ]
        },
        {
          "output_type": "stream",
          "name": "stderr",
          "text": [
            "INFO:pyngrok.process.ngrok:t=2024-05-05T01:24:01+0000 lvl=info msg=\"join connections\" obj=join id=8b93eaf6917f l=127.0.0.1:8237 r=197.22.215.157:7820\n"
          ]
        },
        {
          "output_type": "stream",
          "name": "stdout",
          "text": [
            "\u001b[1;35mt=2024-05-05T01:24:01+0000 lvl=info msg=\"join connections\" obj=join id=8b93eaf6917f l=127.0.0.1:8237 r=197.22.215.157:7820\u001b[0m\n"
          ]
        },
        {
          "output_type": "stream",
          "name": "stderr",
          "text": [
            "INFO:pyngrok.process.ngrok:t=2024-05-05T01:24:01+0000 lvl=info msg=\"join connections\" obj=join id=f25f5cad72e2 l=127.0.0.1:8237 r=197.22.215.157:7820\n"
          ]
        },
        {
          "output_type": "stream",
          "name": "stdout",
          "text": [
            "\u001b[1;35mt=2024-05-05T01:24:01+0000 lvl=info msg=\"join connections\" obj=join id=f25f5cad72e2 l=127.0.0.1:8237 r=197.22.215.157:7820\u001b[0m\n"
          ]
        },
        {
          "output_type": "stream",
          "name": "stderr",
          "text": [
            "INFO:pyngrok.process.ngrok:t=2024-05-05T01:24:01+0000 lvl=info msg=\"join connections\" obj=join id=93945d130546 l=127.0.0.1:8237 r=197.22.215.157:7820\n"
          ]
        },
        {
          "output_type": "stream",
          "name": "stdout",
          "text": [
            "\u001b[1;35mt=2024-05-05T01:24:01+0000 lvl=info msg=\"join connections\" obj=join id=93945d130546 l=127.0.0.1:8237 r=197.22.215.157:7820\u001b[0m\n"
          ]
        },
        {
          "output_type": "stream",
          "name": "stderr",
          "text": [
            "INFO:pyngrok.process.ngrok:t=2024-05-05T01:24:01+0000 lvl=info msg=\"join connections\" obj=join id=338f6663f4fd l=127.0.0.1:8237 r=197.22.215.157:7820\n"
          ]
        },
        {
          "output_type": "stream",
          "name": "stdout",
          "text": [
            "\u001b[32mINFO\u001b[0m:     197.22.215.157:0 - \"\u001b[1mGET /assets/inter-greek-ext-500-normal-Dtavx3qw.woff HTTP/1.1\u001b[0m\" \u001b[32m200 OK\u001b[0m\n",
            "\u001b[1;35mt=2024-05-05T01:24:01+0000 lvl=info msg=\"join connections\" obj=join id=338f6663f4fd l=127.0.0.1:8237 r=197.22.215.157:7820\u001b[0m\n"
          ]
        },
        {
          "output_type": "stream",
          "name": "stderr",
          "text": [
            "INFO:pyngrok.process.ngrok:t=2024-05-05T01:24:01+0000 lvl=info msg=\"join connections\" obj=join id=26e06475fc23 l=127.0.0.1:8237 r=197.22.215.157:7820\n"
          ]
        },
        {
          "output_type": "stream",
          "name": "stdout",
          "text": [
            "\u001b[1;35mt=2024-05-05T01:24:01+0000 lvl=info msg=\"join connections\" obj=join id=26e06475fc23 l=127.0.0.1:8237 r=197.22.215.157:7820\u001b[0m\n"
          ]
        },
        {
          "output_type": "stream",
          "name": "stderr",
          "text": [
            "INFO:pyngrok.process.ngrok:t=2024-05-05T01:24:01+0000 lvl=info msg=\"join connections\" obj=join id=13f16c0cfe65 l=127.0.0.1:8237 r=197.22.215.157:7820\n"
          ]
        },
        {
          "output_type": "stream",
          "name": "stdout",
          "text": [
            "\u001b[1;35mt=2024-05-05T01:24:01+0000 lvl=info msg=\"join connections\" obj=join id=13f16c0cfe65 l=127.0.0.1:8237 r=197.22.215.157:7820\u001b[0m\n"
          ]
        },
        {
          "output_type": "stream",
          "name": "stderr",
          "text": [
            "INFO:pyngrok.process.ngrok:t=2024-05-05T01:24:01+0000 lvl=info msg=\"join connections\" obj=join id=0142a28a8c82 l=127.0.0.1:8237 r=197.22.215.157:7820\n"
          ]
        },
        {
          "output_type": "stream",
          "name": "stdout",
          "text": [
            "\u001b[1;35mt=2024-05-05T01:24:01+0000 lvl=info msg=\"join connections\" obj=join id=0142a28a8c82 l=127.0.0.1:8237 r=197.22.215.157:7820\u001b[0m\n"
          ]
        },
        {
          "output_type": "stream",
          "name": "stderr",
          "text": [
            "INFO:pyngrok.process.ngrok:t=2024-05-05T01:24:01+0000 lvl=info msg=\"join connections\" obj=join id=57e1ddc72375 l=127.0.0.1:8237 r=197.22.215.157:7820\n"
          ]
        },
        {
          "output_type": "stream",
          "name": "stdout",
          "text": [
            "\u001b[1;35mt=2024-05-05T01:24:01+0000 lvl=info msg=\"join connections\" obj=join id=57e1ddc72375 l=127.0.0.1:8237 r=197.22.215.157:7820\u001b[0m\n"
          ]
        },
        {
          "output_type": "stream",
          "name": "stderr",
          "text": [
            "INFO:pyngrok.process.ngrok:t=2024-05-05T01:24:01+0000 lvl=info msg=\"join connections\" obj=join id=1e40b44de574 l=127.0.0.1:8237 r=197.22.215.157:7820\n"
          ]
        },
        {
          "output_type": "stream",
          "name": "stdout",
          "text": [
            "\u001b[1;35mt=2024-05-05T01:24:01+0000 lvl=info msg=\"join connections\" obj=join id=1e40b44de574 l=127.0.0.1:8237 r=197.22.215.157:7820\u001b[0m\n"
          ]
        },
        {
          "output_type": "stream",
          "name": "stderr",
          "text": [
            "INFO:pyngrok.process.ngrok:t=2024-05-05T01:24:01+0000 lvl=info msg=\"join connections\" obj=join id=04a83f65d287 l=127.0.0.1:8237 r=197.22.215.157:7820\n"
          ]
        },
        {
          "output_type": "stream",
          "name": "stdout",
          "text": [
            "\u001b[1;35mt=2024-05-05T01:24:01+0000 lvl=info msg=\"join connections\" obj=join id=04a83f65d287 l=127.0.0.1:8237 r=197.22.215.157:7820\u001b[0m\n"
          ]
        },
        {
          "output_type": "stream",
          "name": "stderr",
          "text": [
            "INFO:pyngrok.process.ngrok:t=2024-05-05T01:24:01+0000 lvl=info msg=\"join connections\" obj=join id=20892254c1f5 l=127.0.0.1:8237 r=197.22.215.157:7820\n"
          ]
        },
        {
          "output_type": "stream",
          "name": "stdout",
          "text": [
            "\u001b[1;35mt=2024-05-05T01:24:01+0000 lvl=info msg=\"join connections\" obj=join id=20892254c1f5 l=127.0.0.1:8237 r=197.22.215.157:7820\u001b[0m\n"
          ]
        },
        {
          "output_type": "stream",
          "name": "stderr",
          "text": [
            "INFO:pyngrok.process.ngrok:t=2024-05-05T01:24:01+0000 lvl=info msg=\"join connections\" obj=join id=366b9e3db3b5 l=127.0.0.1:8237 r=197.22.215.157:7820\n"
          ]
        },
        {
          "output_type": "stream",
          "name": "stdout",
          "text": [
            "\u001b[1;35mt=2024-05-05T01:24:01+0000 lvl=info msg=\"join connections\" obj=join id=366b9e3db3b5 l=127.0.0.1:8237 r=197.22.215.157:7820\u001b[0m\n"
          ]
        },
        {
          "output_type": "stream",
          "name": "stderr",
          "text": [
            "INFO:pyngrok.process.ngrok:t=2024-05-05T01:24:01+0000 lvl=info msg=\"join connections\" obj=join id=d03c52a5934d l=127.0.0.1:8237 r=197.22.215.157:7820\n"
          ]
        },
        {
          "output_type": "stream",
          "name": "stdout",
          "text": [
            "\u001b[1;35mt=2024-05-05T01:24:01+0000 lvl=info msg=\"join connections\" obj=join id=d03c52a5934d l=127.0.0.1:8237 r=197.22.215.157:7820\u001b[0m\n"
          ]
        },
        {
          "output_type": "stream",
          "name": "stderr",
          "text": [
            "INFO:pyngrok.process.ngrok:t=2024-05-05T01:24:01+0000 lvl=info msg=\"join connections\" obj=join id=fad246913531 l=127.0.0.1:8237 r=197.22.215.157:7820\n"
          ]
        },
        {
          "output_type": "stream",
          "name": "stdout",
          "text": [
            "\u001b[1;35mt=2024-05-05T01:24:01+0000 lvl=info msg=\"join connections\" obj=join id=fad246913531 l=127.0.0.1:8237 r=197.22.215.157:7820\u001b[0m\n"
          ]
        },
        {
          "output_type": "stream",
          "name": "stderr",
          "text": [
            "INFO:pyngrok.process.ngrok:t=2024-05-05T01:24:01+0000 lvl=info msg=\"join connections\" obj=join id=6e396c915d4f l=127.0.0.1:8237 r=197.22.215.157:7820\n"
          ]
        },
        {
          "output_type": "stream",
          "name": "stdout",
          "text": [
            "\u001b[1;35mt=2024-05-05T01:24:01+0000 lvl=info msg=\"join connections\" obj=join id=6e396c915d4f l=127.0.0.1:8237 r=197.22.215.157:7820\u001b[0m\n"
          ]
        },
        {
          "output_type": "stream",
          "name": "stderr",
          "text": [
            "INFO:pyngrok.process.ngrok:t=2024-05-05T01:24:01+0000 lvl=info msg=\"join connections\" obj=join id=69fec2150c27 l=127.0.0.1:8237 r=197.22.215.157:7820\n"
          ]
        },
        {
          "output_type": "stream",
          "name": "stdout",
          "text": [
            "\u001b[1;35mt=2024-05-05T01:24:01+0000 lvl=info msg=\"join connections\" obj=join id=69fec2150c27 l=127.0.0.1:8237 r=197.22.215.157:7820\u001b[0m\n"
          ]
        },
        {
          "output_type": "stream",
          "name": "stderr",
          "text": [
            "INFO:pyngrok.process.ngrok:t=2024-05-05T01:24:01+0000 lvl=info msg=\"join connections\" obj=join id=f95db375cb61 l=127.0.0.1:8237 r=197.22.215.157:7820\n"
          ]
        },
        {
          "output_type": "stream",
          "name": "stdout",
          "text": [
            "\u001b[1;35mt=2024-05-05T01:24:01+0000 lvl=info msg=\"join connections\" obj=join id=f95db375cb61 l=127.0.0.1:8237 r=197.22.215.157:7820\u001b[0m\n"
          ]
        },
        {
          "output_type": "stream",
          "name": "stderr",
          "text": [
            "INFO:pyngrok.process.ngrok:t=2024-05-05T01:24:01+0000 lvl=info msg=\"join connections\" obj=join id=4fb37dfdba46 l=127.0.0.1:8237 r=197.22.215.157:7820\n"
          ]
        },
        {
          "output_type": "stream",
          "name": "stdout",
          "text": [
            "\u001b[1;35mt=2024-05-05T01:24:01+0000 lvl=info msg=\"join connections\" obj=join id=4fb37dfdba46 l=127.0.0.1:8237 r=197.22.215.157:7820\u001b[0m\n"
          ]
        },
        {
          "output_type": "stream",
          "name": "stderr",
          "text": [
            "INFO:pyngrok.process.ngrok:t=2024-05-05T01:24:01+0000 lvl=info msg=\"join connections\" obj=join id=25830e8c56fa l=127.0.0.1:8237 r=197.22.215.157:7820\n"
          ]
        },
        {
          "output_type": "stream",
          "name": "stdout",
          "text": [
            "\u001b[1;35mt=2024-05-05T01:24:01+0000 lvl=info msg=\"join connections\" obj=join id=25830e8c56fa l=127.0.0.1:8237 r=197.22.215.157:7820\u001b[0m\n"
          ]
        },
        {
          "output_type": "stream",
          "name": "stderr",
          "text": [
            "INFO:pyngrok.process.ngrok:t=2024-05-05T01:24:01+0000 lvl=info msg=\"join connections\" obj=join id=ed2aa19e9c5b l=127.0.0.1:8237 r=197.22.215.157:7820\n"
          ]
        },
        {
          "output_type": "stream",
          "name": "stdout",
          "text": [
            "\u001b[1;35mt=2024-05-05T01:24:01+0000 lvl=info msg=\"join connections\" obj=join id=ed2aa19e9c5b l=127.0.0.1:8237 r=197.22.215.157:7820\u001b[0m\n"
          ]
        },
        {
          "output_type": "stream",
          "name": "stderr",
          "text": [
            "INFO:pyngrok.process.ngrok:t=2024-05-05T01:24:01+0000 lvl=info msg=\"join connections\" obj=join id=75101a5e59e6 l=127.0.0.1:8237 r=197.22.215.157:7820\n"
          ]
        },
        {
          "output_type": "stream",
          "name": "stdout",
          "text": [
            "\u001b[1;35mt=2024-05-05T01:24:01+0000 lvl=info msg=\"join connections\" obj=join id=75101a5e59e6 l=127.0.0.1:8237 r=197.22.215.157:7820\u001b[0m\n"
          ]
        },
        {
          "output_type": "stream",
          "name": "stderr",
          "text": [
            "INFO:pyngrok.process.ngrok:t=2024-05-05T01:24:01+0000 lvl=info msg=\"join connections\" obj=join id=b5fbdbdc8315 l=127.0.0.1:8237 r=197.22.215.157:7820\n"
          ]
        },
        {
          "output_type": "stream",
          "name": "stdout",
          "text": [
            "\u001b[1;35mt=2024-05-05T01:24:01+0000 lvl=info msg=\"join connections\" obj=join id=b5fbdbdc8315 l=127.0.0.1:8237 r=197.22.215.157:7820\u001b[0m\n"
          ]
        },
        {
          "output_type": "stream",
          "name": "stderr",
          "text": [
            "INFO:pyngrok.process.ngrok:t=2024-05-05T01:24:01+0000 lvl=info msg=\"join connections\" obj=join id=d428b77691f4 l=127.0.0.1:8237 r=197.22.215.157:7820\n"
          ]
        },
        {
          "output_type": "stream",
          "name": "stdout",
          "text": [
            "\u001b[1;35mt=2024-05-05T01:24:01+0000 lvl=info msg=\"join connections\" obj=join id=d428b77691f4 l=127.0.0.1:8237 r=197.22.215.157:7820\u001b[0m\n"
          ]
        },
        {
          "output_type": "stream",
          "name": "stderr",
          "text": [
            "INFO:pyngrok.process.ngrok:t=2024-05-05T01:24:01+0000 lvl=info msg=\"join connections\" obj=join id=658b5c9af6e9 l=127.0.0.1:8237 r=197.22.215.157:7820\n"
          ]
        },
        {
          "output_type": "stream",
          "name": "stdout",
          "text": [
            "\u001b[1;35mt=2024-05-05T01:24:01+0000 lvl=info msg=\"join connections\" obj=join id=658b5c9af6e9 l=127.0.0.1:8237 r=197.22.215.157:7820\u001b[0m\n"
          ]
        },
        {
          "output_type": "stream",
          "name": "stderr",
          "text": [
            "INFO:pyngrok.process.ngrok:t=2024-05-05T01:24:01+0000 lvl=info msg=\"join connections\" obj=join id=d2b7e85cd1df l=127.0.0.1:8237 r=197.22.215.157:7820\n"
          ]
        },
        {
          "output_type": "stream",
          "name": "stdout",
          "text": [
            "\u001b[1;35mt=2024-05-05T01:24:01+0000 lvl=info msg=\"join connections\" obj=join id=d2b7e85cd1df l=127.0.0.1:8237 r=197.22.215.157:7820\u001b[0m\n"
          ]
        },
        {
          "output_type": "stream",
          "name": "stderr",
          "text": [
            "INFO:pyngrok.process.ngrok:t=2024-05-05T01:24:01+0000 lvl=info msg=\"join connections\" obj=join id=1cb75871b445 l=127.0.0.1:8237 r=197.22.215.157:7820\n"
          ]
        },
        {
          "output_type": "stream",
          "name": "stdout",
          "text": [
            "\u001b[1;35mt=2024-05-05T01:24:01+0000 lvl=info msg=\"join connections\" obj=join id=1cb75871b445 l=127.0.0.1:8237 r=197.22.215.157:7820\u001b[0m\n"
          ]
        },
        {
          "output_type": "stream",
          "name": "stderr",
          "text": [
            "INFO:pyngrok.process.ngrok:t=2024-05-05T01:24:01+0000 lvl=info msg=\"join connections\" obj=join id=e4b671aa9623 l=127.0.0.1:8237 r=197.22.215.157:7820\n"
          ]
        },
        {
          "output_type": "stream",
          "name": "stdout",
          "text": [
            "\u001b[1;35mt=2024-05-05T01:24:01+0000 lvl=info msg=\"join connections\" obj=join id=e4b671aa9623 l=127.0.0.1:8237 r=197.22.215.157:7820\u001b[0m\n"
          ]
        },
        {
          "output_type": "stream",
          "name": "stderr",
          "text": [
            "INFO:pyngrok.process.ngrok:t=2024-05-05T01:24:01+0000 lvl=info msg=\"join connections\" obj=join id=888a7bfb6d45 l=127.0.0.1:8237 r=197.22.215.157:7820\n"
          ]
        },
        {
          "output_type": "stream",
          "name": "stdout",
          "text": [
            "\u001b[1;35mt=2024-05-05T01:24:01+0000 lvl=info msg=\"join connections\" obj=join id=888a7bfb6d45 l=127.0.0.1:8237 r=197.22.215.157:7820\u001b[0m\n"
          ]
        },
        {
          "output_type": "stream",
          "name": "stderr",
          "text": [
            "INFO:pyngrok.process.ngrok:t=2024-05-05T01:24:01+0000 lvl=info msg=\"join connections\" obj=join id=8bc71a168520 l=127.0.0.1:8237 r=197.22.215.157:7820\n"
          ]
        },
        {
          "output_type": "stream",
          "name": "stdout",
          "text": [
            "\u001b[1;35mt=2024-05-05T01:24:01+0000 lvl=info msg=\"join connections\" obj=join id=8bc71a168520 l=127.0.0.1:8237 r=197.22.215.157:7820\u001b[0m\n"
          ]
        },
        {
          "output_type": "stream",
          "name": "stderr",
          "text": [
            "INFO:pyngrok.process.ngrok:t=2024-05-05T01:24:01+0000 lvl=info msg=\"join connections\" obj=join id=9c20bf47184d l=127.0.0.1:8237 r=197.22.215.157:7820\n"
          ]
        },
        {
          "output_type": "stream",
          "name": "stdout",
          "text": [
            "\u001b[1;35mt=2024-05-05T01:24:01+0000 lvl=info msg=\"join connections\" obj=join id=9c20bf47184d l=127.0.0.1:8237 r=197.22.215.157:7820\u001b[0m\n"
          ]
        },
        {
          "output_type": "stream",
          "name": "stderr",
          "text": [
            "INFO:pyngrok.process.ngrok:t=2024-05-05T01:24:01+0000 lvl=info msg=\"join connections\" obj=join id=54503fafc94a l=127.0.0.1:8237 r=197.22.215.157:7820\n"
          ]
        },
        {
          "output_type": "stream",
          "name": "stdout",
          "text": [
            "\u001b[1;35mt=2024-05-05T01:24:01+0000 lvl=info msg=\"join connections\" obj=join id=54503fafc94a l=127.0.0.1:8237 r=197.22.215.157:7820\u001b[0m\n"
          ]
        },
        {
          "output_type": "stream",
          "name": "stderr",
          "text": [
            "INFO:pyngrok.process.ngrok:t=2024-05-05T01:24:01+0000 lvl=info msg=\"join connections\" obj=join id=07a5eb40c909 l=127.0.0.1:8237 r=197.22.215.157:7820\n"
          ]
        },
        {
          "output_type": "stream",
          "name": "stdout",
          "text": [
            "\u001b[1;35mt=2024-05-05T01:24:01+0000 lvl=info msg=\"join connections\" obj=join id=07a5eb40c909 l=127.0.0.1:8237 r=197.22.215.157:7820\u001b[0m\n"
          ]
        },
        {
          "output_type": "stream",
          "name": "stderr",
          "text": [
            "INFO:pyngrok.process.ngrok:t=2024-05-05T01:24:01+0000 lvl=info msg=\"join connections\" obj=join id=6cc8fba893a8 l=127.0.0.1:8237 r=197.22.215.157:7820\n"
          ]
        },
        {
          "output_type": "stream",
          "name": "stdout",
          "text": [
            "\u001b[1;35mt=2024-05-05T01:24:01+0000 lvl=info msg=\"join connections\" obj=join id=6cc8fba893a8 l=127.0.0.1:8237 r=197.22.215.157:7820\u001b[0m\n"
          ]
        },
        {
          "output_type": "stream",
          "name": "stderr",
          "text": [
            "INFO:pyngrok.process.ngrok:t=2024-05-05T01:24:01+0000 lvl=info msg=\"join connections\" obj=join id=2303f6752f5c l=127.0.0.1:8237 r=197.22.215.157:7820\n"
          ]
        },
        {
          "output_type": "stream",
          "name": "stdout",
          "text": [
            "\u001b[1;35mt=2024-05-05T01:24:01+0000 lvl=info msg=\"join connections\" obj=join id=2303f6752f5c l=127.0.0.1:8237 r=197.22.215.157:7820\u001b[0m\n"
          ]
        },
        {
          "output_type": "stream",
          "name": "stderr",
          "text": [
            "INFO:pyngrok.process.ngrok:t=2024-05-05T01:24:01+0000 lvl=info msg=\"join connections\" obj=join id=3a13419599f1 l=127.0.0.1:8237 r=197.22.215.157:7820\n"
          ]
        },
        {
          "output_type": "stream",
          "name": "stdout",
          "text": [
            "\u001b[1;35mt=2024-05-05T01:24:01+0000 lvl=info msg=\"join connections\" obj=join id=3a13419599f1 l=127.0.0.1:8237 r=197.22.215.157:7820\u001b[0m\n"
          ]
        },
        {
          "output_type": "stream",
          "name": "stderr",
          "text": [
            "INFO:pyngrok.process.ngrok:t=2024-05-05T01:24:01+0000 lvl=info msg=\"join connections\" obj=join id=2040273de50d l=127.0.0.1:8237 r=197.22.215.157:7820\n"
          ]
        },
        {
          "output_type": "stream",
          "name": "stdout",
          "text": [
            "\u001b[1;35mt=2024-05-05T01:24:01+0000 lvl=info msg=\"join connections\" obj=join id=2040273de50d l=127.0.0.1:8237 r=197.22.215.157:7820\u001b[0m\n"
          ]
        },
        {
          "output_type": "stream",
          "name": "stderr",
          "text": [
            "INFO:pyngrok.process.ngrok:t=2024-05-05T01:24:01+0000 lvl=info msg=\"join connections\" obj=join id=19b50b479fd7 l=127.0.0.1:8237 r=197.22.215.157:7820\n"
          ]
        },
        {
          "output_type": "stream",
          "name": "stdout",
          "text": [
            "\u001b[1;35mt=2024-05-05T01:24:01+0000 lvl=info msg=\"join connections\" obj=join id=19b50b479fd7 l=127.0.0.1:8237 r=197.22.215.157:7820\u001b[0m\n"
          ]
        },
        {
          "output_type": "stream",
          "name": "stderr",
          "text": [
            "INFO:pyngrok.process.ngrok:t=2024-05-05T01:24:01+0000 lvl=info msg=\"join connections\" obj=join id=34ee99e2d1fe l=127.0.0.1:8237 r=197.22.215.157:7820\n"
          ]
        },
        {
          "output_type": "stream",
          "name": "stdout",
          "text": [
            "\u001b[1;35mt=2024-05-05T01:24:01+0000 lvl=info msg=\"join connections\" obj=join id=34ee99e2d1fe l=127.0.0.1:8237 r=197.22.215.157:7820\u001b[0m\n"
          ]
        },
        {
          "output_type": "stream",
          "name": "stderr",
          "text": [
            "INFO:pyngrok.process.ngrok:t=2024-05-05T01:24:01+0000 lvl=info msg=\"join connections\" obj=join id=e90bb417dc78 l=127.0.0.1:8237 r=197.22.215.157:7820\n"
          ]
        },
        {
          "output_type": "stream",
          "name": "stdout",
          "text": [
            "\u001b[1;35mt=2024-05-05T01:24:01+0000 lvl=info msg=\"join connections\" obj=join id=e90bb417dc78 l=127.0.0.1:8237 r=197.22.215.157:7820\u001b[0m\n"
          ]
        },
        {
          "output_type": "stream",
          "name": "stderr",
          "text": [
            "INFO:pyngrok.process.ngrok:t=2024-05-05T01:24:01+0000 lvl=info msg=\"join connections\" obj=join id=631e71459f25 l=127.0.0.1:8237 r=197.22.215.157:7820\n"
          ]
        },
        {
          "output_type": "stream",
          "name": "stdout",
          "text": [
            "\u001b[1;35mt=2024-05-05T01:24:01+0000 lvl=info msg=\"join connections\" obj=join id=631e71459f25 l=127.0.0.1:8237 r=197.22.215.157:7820\u001b[0m\n"
          ]
        },
        {
          "output_type": "stream",
          "name": "stderr",
          "text": [
            "INFO:pyngrok.process.ngrok:t=2024-05-05T01:24:01+0000 lvl=info msg=\"join connections\" obj=join id=d81205cdd1bc l=127.0.0.1:8237 r=197.22.215.157:7820\n"
          ]
        },
        {
          "output_type": "stream",
          "name": "stdout",
          "text": [
            "\u001b[1;35mt=2024-05-05T01:24:01+0000 lvl=info msg=\"join connections\" obj=join id=d81205cdd1bc l=127.0.0.1:8237 r=197.22.215.157:7820\u001b[0m\n"
          ]
        },
        {
          "output_type": "stream",
          "name": "stderr",
          "text": [
            "INFO:pyngrok.process.ngrok:t=2024-05-05T01:24:01+0000 lvl=info msg=\"join connections\" obj=join id=441cfb7d203f l=127.0.0.1:8237 r=197.22.215.157:7820\n"
          ]
        },
        {
          "output_type": "stream",
          "name": "stdout",
          "text": [
            "\u001b[1;35mt=2024-05-05T01:24:01+0000 lvl=info msg=\"join connections\" obj=join id=441cfb7d203f l=127.0.0.1:8237 r=197.22.215.157:7820\u001b[0m\n"
          ]
        },
        {
          "output_type": "stream",
          "name": "stderr",
          "text": [
            "INFO:pyngrok.process.ngrok:t=2024-05-05T01:24:01+0000 lvl=info msg=\"join connections\" obj=join id=0d64bfd00772 l=127.0.0.1:8237 r=197.22.215.157:7820\n"
          ]
        },
        {
          "output_type": "stream",
          "name": "stdout",
          "text": [
            "\u001b[1;35mt=2024-05-05T01:24:01+0000 lvl=info msg=\"join connections\" obj=join id=0d64bfd00772 l=127.0.0.1:8237 r=197.22.215.157:7820\u001b[0m\n"
          ]
        },
        {
          "output_type": "stream",
          "name": "stderr",
          "text": [
            "INFO:pyngrok.process.ngrok:t=2024-05-05T01:24:01+0000 lvl=info msg=\"join connections\" obj=join id=073de8d3f0cd l=127.0.0.1:8237 r=197.22.215.157:7820\n"
          ]
        },
        {
          "output_type": "stream",
          "name": "stdout",
          "text": [
            "\u001b[1;35mt=2024-05-05T01:24:01+0000 lvl=info msg=\"join connections\" obj=join id=073de8d3f0cd l=127.0.0.1:8237 r=197.22.215.157:7820\u001b[0m\n"
          ]
        },
        {
          "output_type": "stream",
          "name": "stderr",
          "text": [
            "INFO:pyngrok.process.ngrok:t=2024-05-05T01:24:01+0000 lvl=info msg=\"join connections\" obj=join id=4a7a8772e7bf l=127.0.0.1:8237 r=197.22.215.157:7820\n"
          ]
        },
        {
          "output_type": "stream",
          "name": "stdout",
          "text": [
            "\u001b[1;35mt=2024-05-05T01:24:01+0000 lvl=info msg=\"join connections\" obj=join id=4a7a8772e7bf l=127.0.0.1:8237 r=197.22.215.157:7820\u001b[0m\n"
          ]
        },
        {
          "output_type": "stream",
          "name": "stderr",
          "text": [
            "INFO:pyngrok.process.ngrok:t=2024-05-05T01:24:01+0000 lvl=info msg=\"join connections\" obj=join id=df6062aacf7a l=127.0.0.1:8237 r=197.22.215.157:7820\n"
          ]
        },
        {
          "output_type": "stream",
          "name": "stdout",
          "text": [
            "\u001b[1;35mt=2024-05-05T01:24:01+0000 lvl=info msg=\"join connections\" obj=join id=df6062aacf7a l=127.0.0.1:8237 r=197.22.215.157:7820\u001b[0m\n"
          ]
        },
        {
          "output_type": "stream",
          "name": "stderr",
          "text": [
            "INFO:pyngrok.process.ngrok:t=2024-05-05T01:24:01+0000 lvl=info msg=\"join connections\" obj=join id=32743fadd6c4 l=127.0.0.1:8237 r=197.22.215.157:7820\n"
          ]
        },
        {
          "output_type": "stream",
          "name": "stdout",
          "text": [
            "\u001b[1;35mt=2024-05-05T01:24:01+0000 lvl=info msg=\"join connections\" obj=join id=32743fadd6c4 l=127.0.0.1:8237 r=197.22.215.157:7820\u001b[0m\n"
          ]
        },
        {
          "output_type": "stream",
          "name": "stderr",
          "text": [
            "INFO:pyngrok.process.ngrok:t=2024-05-05T01:24:01+0000 lvl=info msg=\"join connections\" obj=join id=d9a26035b8f5 l=127.0.0.1:8237 r=197.22.215.157:7820\n"
          ]
        },
        {
          "output_type": "stream",
          "name": "stdout",
          "text": [
            "\u001b[1;35mt=2024-05-05T01:24:01+0000 lvl=info msg=\"join connections\" obj=join id=d9a26035b8f5 l=127.0.0.1:8237 r=197.22.215.157:7820\u001b[0m\n"
          ]
        },
        {
          "output_type": "stream",
          "name": "stderr",
          "text": [
            "INFO:pyngrok.process.ngrok:t=2024-05-05T01:24:01+0000 lvl=info msg=\"join connections\" obj=join id=e8f1acda07c0 l=127.0.0.1:8237 r=197.22.215.157:7820\n"
          ]
        },
        {
          "output_type": "stream",
          "name": "stdout",
          "text": [
            "\u001b[1;35mt=2024-05-05T01:24:01+0000 lvl=info msg=\"join connections\" obj=join id=e8f1acda07c0 l=127.0.0.1:8237 r=197.22.215.157:7820\u001b[0m\n"
          ]
        },
        {
          "output_type": "stream",
          "name": "stderr",
          "text": [
            "INFO:pyngrok.process.ngrok:t=2024-05-05T01:24:01+0000 lvl=info msg=\"join connections\" obj=join id=27ce48beeeec l=127.0.0.1:8237 r=197.22.215.157:7820\n"
          ]
        },
        {
          "output_type": "stream",
          "name": "stdout",
          "text": [
            "\u001b[1;35mt=2024-05-05T01:24:01+0000 lvl=info msg=\"join connections\" obj=join id=27ce48beeeec l=127.0.0.1:8237 r=197.22.215.157:7820\u001b[0m\n"
          ]
        },
        {
          "output_type": "stream",
          "name": "stderr",
          "text": [
            "INFO:pyngrok.process.ngrok:t=2024-05-05T01:24:01+0000 lvl=info msg=\"join connections\" obj=join id=b213a9e041e4 l=127.0.0.1:8237 r=197.22.215.157:7820\n"
          ]
        },
        {
          "output_type": "stream",
          "name": "stdout",
          "text": [
            "\u001b[1;35mt=2024-05-05T01:24:01+0000 lvl=info msg=\"join connections\" obj=join id=b213a9e041e4 l=127.0.0.1:8237 r=197.22.215.157:7820\u001b[0m\n"
          ]
        },
        {
          "output_type": "stream",
          "name": "stderr",
          "text": [
            "INFO:pyngrok.process.ngrok:t=2024-05-05T01:24:01+0000 lvl=info msg=\"join connections\" obj=join id=98be9f2a9bdc l=127.0.0.1:8237 r=197.22.215.157:7820\n"
          ]
        },
        {
          "output_type": "stream",
          "name": "stdout",
          "text": [
            "\u001b[1;35mt=2024-05-05T01:24:01+0000 lvl=info msg=\"join connections\" obj=join id=98be9f2a9bdc l=127.0.0.1:8237 r=197.22.215.157:7820\u001b[0m\n"
          ]
        },
        {
          "output_type": "stream",
          "name": "stderr",
          "text": [
            "INFO:pyngrok.process.ngrok:t=2024-05-05T01:24:01+0000 lvl=info msg=\"join connections\" obj=join id=c115bd71d0dc l=127.0.0.1:8237 r=197.22.215.157:7820\n"
          ]
        },
        {
          "output_type": "stream",
          "name": "stdout",
          "text": [
            "\u001b[1;35mt=2024-05-05T01:24:01+0000 lvl=info msg=\"join connections\" obj=join id=c115bd71d0dc l=127.0.0.1:8237 r=197.22.215.157:7820\u001b[0m\n"
          ]
        },
        {
          "output_type": "stream",
          "name": "stderr",
          "text": [
            "INFO:pyngrok.process.ngrok:t=2024-05-05T01:24:01+0000 lvl=info msg=\"join connections\" obj=join id=b19aed1f2faf l=127.0.0.1:8237 r=197.22.215.157:7820\n"
          ]
        },
        {
          "output_type": "stream",
          "name": "stdout",
          "text": [
            "\u001b[1;35mt=2024-05-05T01:24:01+0000 lvl=info msg=\"join connections\" obj=join id=b19aed1f2faf l=127.0.0.1:8237 r=197.22.215.157:7820\u001b[0m\n"
          ]
        },
        {
          "output_type": "stream",
          "name": "stderr",
          "text": [
            "INFO:pyngrok.process.ngrok:t=2024-05-05T01:24:01+0000 lvl=info msg=\"join connections\" obj=join id=be279cc9bf34 l=127.0.0.1:8237 r=197.22.215.157:7820\n"
          ]
        },
        {
          "output_type": "stream",
          "name": "stdout",
          "text": [
            "\u001b[1;35mt=2024-05-05T01:24:01+0000 lvl=info msg=\"join connections\" obj=join id=be279cc9bf34 l=127.0.0.1:8237 r=197.22.215.157:7820\u001b[0m\n"
          ]
        },
        {
          "output_type": "stream",
          "name": "stderr",
          "text": [
            "INFO:pyngrok.process.ngrok:t=2024-05-05T01:24:01+0000 lvl=info msg=\"join connections\" obj=join id=75b79342a843 l=127.0.0.1:8237 r=197.22.215.157:7820\n"
          ]
        },
        {
          "output_type": "stream",
          "name": "stdout",
          "text": [
            "\u001b[1;35mt=2024-05-05T01:24:01+0000 lvl=info msg=\"join connections\" obj=join id=75b79342a843 l=127.0.0.1:8237 r=197.22.215.157:7820\u001b[0m\n"
          ]
        },
        {
          "output_type": "stream",
          "name": "stderr",
          "text": [
            "INFO:pyngrok.process.ngrok:t=2024-05-05T01:24:01+0000 lvl=info msg=\"join connections\" obj=join id=dfd05b1533e6 l=127.0.0.1:8237 r=197.22.215.157:7820\n"
          ]
        },
        {
          "output_type": "stream",
          "name": "stdout",
          "text": [
            "\u001b[1;35mt=2024-05-05T01:24:01+0000 lvl=info msg=\"join connections\" obj=join id=dfd05b1533e6 l=127.0.0.1:8237 r=197.22.215.157:7820\u001b[0m\n"
          ]
        },
        {
          "output_type": "stream",
          "name": "stderr",
          "text": [
            "INFO:pyngrok.process.ngrok:t=2024-05-05T01:24:01+0000 lvl=info msg=\"join connections\" obj=join id=2a4475ca6b55 l=127.0.0.1:8237 r=197.22.215.157:7820\n"
          ]
        },
        {
          "output_type": "stream",
          "name": "stdout",
          "text": [
            "\u001b[1;35mt=2024-05-05T01:24:01+0000 lvl=info msg=\"join connections\" obj=join id=2a4475ca6b55 l=127.0.0.1:8237 r=197.22.215.157:7820\u001b[0m\n"
          ]
        },
        {
          "output_type": "stream",
          "name": "stderr",
          "text": [
            "INFO:pyngrok.process.ngrok:t=2024-05-05T01:24:01+0000 lvl=info msg=\"join connections\" obj=join id=79bf5ddda51d l=127.0.0.1:8237 r=197.22.215.157:7820\n"
          ]
        },
        {
          "output_type": "stream",
          "name": "stdout",
          "text": [
            "\u001b[1;35mt=2024-05-05T01:24:01+0000 lvl=info msg=\"join connections\" obj=join id=79bf5ddda51d l=127.0.0.1:8237 r=197.22.215.157:7820\u001b[0m\n"
          ]
        },
        {
          "output_type": "stream",
          "name": "stderr",
          "text": [
            "INFO:pyngrok.process.ngrok:t=2024-05-05T01:24:01+0000 lvl=info msg=\"join connections\" obj=join id=8f0761706330 l=127.0.0.1:8237 r=197.22.215.157:7820\n"
          ]
        },
        {
          "output_type": "stream",
          "name": "stdout",
          "text": [
            "\u001b[1;35mt=2024-05-05T01:24:01+0000 lvl=info msg=\"join connections\" obj=join id=8f0761706330 l=127.0.0.1:8237 r=197.22.215.157:7820\u001b[0m\n"
          ]
        },
        {
          "output_type": "stream",
          "name": "stderr",
          "text": [
            "INFO:pyngrok.process.ngrok:t=2024-05-05T01:24:01+0000 lvl=info msg=\"join connections\" obj=join id=d89753acb8ee l=127.0.0.1:8237 r=197.22.215.157:7820\n"
          ]
        },
        {
          "output_type": "stream",
          "name": "stdout",
          "text": [
            "\u001b[1;35mt=2024-05-05T01:24:01+0000 lvl=info msg=\"join connections\" obj=join id=d89753acb8ee l=127.0.0.1:8237 r=197.22.215.157:7820\u001b[0m\n"
          ]
        },
        {
          "output_type": "stream",
          "name": "stderr",
          "text": [
            "INFO:pyngrok.process.ngrok:t=2024-05-05T01:24:01+0000 lvl=info msg=\"join connections\" obj=join id=cfcce57e1558 l=127.0.0.1:8237 r=197.22.215.157:7820\n"
          ]
        },
        {
          "output_type": "stream",
          "name": "stdout",
          "text": [
            "\u001b[1;35mt=2024-05-05T01:24:01+0000 lvl=info msg=\"join connections\" obj=join id=cfcce57e1558 l=127.0.0.1:8237 r=197.22.215.157:7820\u001b[0m\n"
          ]
        },
        {
          "output_type": "stream",
          "name": "stderr",
          "text": [
            "INFO:pyngrok.process.ngrok:t=2024-05-05T01:24:01+0000 lvl=info msg=\"join connections\" obj=join id=92d4aa07c67e l=127.0.0.1:8237 r=197.22.215.157:7820\n"
          ]
        },
        {
          "output_type": "stream",
          "name": "stdout",
          "text": [
            "\u001b[1;35mt=2024-05-05T01:24:01+0000 lvl=info msg=\"join connections\" obj=join id=92d4aa07c67e l=127.0.0.1:8237 r=197.22.215.157:7820\u001b[0m\n"
          ]
        },
        {
          "output_type": "stream",
          "name": "stderr",
          "text": [
            "INFO:pyngrok.process.ngrok:t=2024-05-05T01:24:01+0000 lvl=info msg=\"join connections\" obj=join id=00018671458d l=127.0.0.1:8237 r=197.22.215.157:7820\n"
          ]
        },
        {
          "output_type": "stream",
          "name": "stdout",
          "text": [
            "\u001b[1;35mt=2024-05-05T01:24:01+0000 lvl=info msg=\"join connections\" obj=join id=00018671458d l=127.0.0.1:8237 r=197.22.215.157:7820\u001b[0m\n"
          ]
        },
        {
          "output_type": "stream",
          "name": "stderr",
          "text": [
            "INFO:pyngrok.process.ngrok:t=2024-05-05T01:24:01+0000 lvl=info msg=\"join connections\" obj=join id=64237fded095 l=127.0.0.1:8237 r=197.22.215.157:7820\n"
          ]
        },
        {
          "output_type": "stream",
          "name": "stdout",
          "text": [
            "\u001b[1;35mt=2024-05-05T01:24:01+0000 lvl=info msg=\"join connections\" obj=join id=64237fded095 l=127.0.0.1:8237 r=197.22.215.157:7820\u001b[0m\n",
            "\u001b[32mINFO\u001b[0m:     197.22.215.157:0 - \"\u001b[1mGET /assets/page-CcD4dK88.js HTTP/1.1\u001b[0m\" \u001b[32m200 OK\u001b[0m\n",
            "\u001b[32mINFO\u001b[0m:     197.22.215.157:0 - \"\u001b[1mGET /assets/stacks-video-7gfxpAq4.svg HTTP/1.1\u001b[0m\" \u001b[32m200 OK\u001b[0m\n",
            "\u001b[32mINFO\u001b[0m:     197.22.215.157:0 - \"\u001b[1mGET /assets/secrets-video-OBJ6irhH.svg HTTP/1.1\u001b[0m\" \u001b[32m200 OK\u001b[0m\n",
            "\u001b[32mINFO\u001b[0m:     197.22.215.157:0 - \"\u001b[1mGET /assets/page-D0cjePVF.js HTTP/1.1\u001b[0m\" \u001b[32m200 OK\u001b[0m\n",
            "\u001b[32mINFO\u001b[0m:     197.22.215.157:0 - \"\u001b[1mGET /assets/page-CTPEW6qd.js HTTP/1.1\u001b[0m\" \u001b[32m200 OK\u001b[0m\n",
            "\u001b[32mINFO\u001b[0m:     197.22.215.157:0 - \"\u001b[1mGET /assets/page-Bc6vv2xS.js HTTP/1.1\u001b[0m\" \u001b[32m200 OK\u001b[0m\n",
            "\u001b[32mINFO\u001b[0m:     197.22.215.157:0 - \"\u001b[1mGET /assets/acp-Di51JyQf.png HTTP/1.1\u001b[0m\" \u001b[32m200 OK\u001b[0m\n",
            "\u001b[32mINFO\u001b[0m:     197.22.215.157:0 - \"\u001b[1mGET /assets/Commands-fMis_jtl.js HTTP/1.1\u001b[0m\" \u001b[32m200 OK\u001b[0m\n",
            "\u001b[32mINFO\u001b[0m:     197.22.215.157:0 - \"\u001b[1mGET /assets/Infobox-KGxvgilj.js HTTP/1.1\u001b[0m\" \u001b[32m200 OK\u001b[0m\n",
            "\u001b[32mINFO\u001b[0m:     197.22.215.157:0 - \"\u001b[1mGET /assets/cloud-only-D2aanxkD.js HTTP/1.1\u001b[0m\" \u001b[32m200 OK\u001b[0m\n",
            "\u001b[32mINFO\u001b[0m:     197.22.215.157:0 - \"\u001b[1mGET /assets/page-DJKUidz0.js HTTP/1.1\u001b[0m\" \u001b[32m200 OK\u001b[0m\n",
            "\u001b[32mINFO\u001b[0m:     197.22.215.157:0 - \"\u001b[1mGET /assets/page-BojBCl7G.js HTTP/1.1\u001b[0m\" \u001b[32m200 OK\u001b[0m\n",
            "\u001b[32mINFO\u001b[0m:     197.22.215.157:0 - \"\u001b[1mGET /assets/page-BoHTP7mv.js HTTP/1.1\u001b[0m\" \u001b[32m200 OK\u001b[0m\n",
            "\u001b[32mINFO\u001b[0m:     197.22.215.157:0 - \"\u001b[1mGET /assets/SetPassword-lV6V5bHf.js HTTP/1.1\u001b[0m\" \u001b[32m200 OK\u001b[0m\n",
            "\u001b[32mINFO\u001b[0m:     197.22.215.157:0 - \"\u001b[1mGET /assets/CodeSnippet-Bbx6fIb6.css HTTP/1.1\u001b[0m\" \u001b[32m200 OK\u001b[0m\n",
            "\u001b[32mINFO\u001b[0m:     197.22.215.157:0 - \"\u001b[1mGET /assets/cloud-squares-DeRLMopf.svg HTTP/1.1\u001b[0m\" \u001b[32m200 OK\u001b[0m\n",
            "\u001b[32mINFO\u001b[0m:     197.22.215.157:0 - \"\u001b[1mGET /assets/CopyButton-Dr9DC1Vz.js HTTP/1.1\u001b[0m\" \u001b[32m200 OK\u001b[0m\n",
            "\u001b[32mINFO\u001b[0m:     197.22.215.157:0 - \"\u001b[1mGET /assets/inter-vietnamese-600-normal-BQ_dbMbg.woff HTTP/1.1\u001b[0m\" \u001b[32m200 OK\u001b[0m\n",
            "\u001b[32mINFO\u001b[0m:     197.22.215.157:0 - \"\u001b[1mGET /assets/file-text-C_aOBzo7.js HTTP/1.1\u001b[0m\" \u001b[32m200 OK\u001b[0m\n",
            "\u001b[32mINFO\u001b[0m:     197.22.215.157:0 - \"\u001b[1mGET /assets/page-C48_T4ts.js HTTP/1.1\u001b[0m\" \u001b[32m200 OK\u001b[0m\n",
            "\u001b[32mINFO\u001b[0m:     197.22.215.157:0 - \"\u001b[1mGET /assets/refresh-Cx_kzUlu.js HTTP/1.1\u001b[0m\" \u001b[32m200 OK\u001b[0m\n",
            "\u001b[32mINFO\u001b[0m:     197.22.215.157:0 - \"\u001b[1mGET /assets/inter-latin-600-normal-Dbvh0wvx.woff HTTP/1.1\u001b[0m\" \u001b[32m200 OK\u001b[0m\n",
            "\u001b[32mINFO\u001b[0m:     197.22.215.157:0 - \"\u001b[1mGET /assets/page-D3N0oHIj.js HTTP/1.1\u001b[0m\" \u001b[32m200 OK\u001b[0m\n",
            "\u001b[32mINFO\u001b[0m:     197.22.215.157:0 - \"\u001b[1mGET /assets/terminal-C3Pq8EZ0.js HTTP/1.1\u001b[0m\" \u001b[32m200 OK\u001b[0m\n",
            "\u001b[32mINFO\u001b[0m:     197.22.215.157:0 - \"\u001b[1mGET /assets/Cards-DKtc8Mmj.js HTTP/1.1\u001b[0m\" \u001b[32m200 OK\u001b[0m\n",
            "\u001b[32mINFO\u001b[0m:     197.22.215.157:0 - \"\u001b[1mGET /assets/page-Bjqm4sIr.js HTTP/1.1\u001b[0m\" \u001b[32m200 OK\u001b[0m\n",
            "\u001b[32mINFO\u001b[0m:     197.22.215.157:0 - \"\u001b[1mGET /assets/page-BH0wy4T3.js HTTP/1.1\u001b[0m\" \u001b[32m200 OK\u001b[0m\n",
            "\u001b[32mINFO\u001b[0m:     197.22.215.157:0 - \"\u001b[1mGET /assets/PageHeader-BjHR4E5t.js HTTP/1.1\u001b[0m\" \u001b[32m200 OK\u001b[0m\n",
            "\u001b[32mINFO\u001b[0m:     197.22.215.157:0 - \"\u001b[1mGET /assets/page-BWG2W5if.js HTTP/1.1\u001b[0m\" \u001b[32m200 OK\u001b[0m\n",
            "\u001b[32mINFO\u001b[0m:     197.22.215.157:0 - \"\u001b[1mGET /assets/AwarenessChannel-Dfkaig3j.js HTTP/1.1\u001b[0m\" \u001b[32m200 OK\u001b[0m\n",
            "\u001b[32mINFO\u001b[0m:     197.22.215.157:0 - \"\u001b[1mGET /assets/inter-greek-600-normal-BLZsI-P3.woff HTTP/1.1\u001b[0m\" \u001b[32m200 OK\u001b[0m\n",
            "\u001b[32mINFO\u001b[0m:     197.22.215.157:0 - \"\u001b[1mGET /assets/login-mutation-Uza7yZRb.js HTTP/1.1\u001b[0m\" \u001b[32m200 OK\u001b[0m\n",
            "\u001b[32mINFO\u001b[0m:     197.22.215.157:0 - \"\u001b[1mGET /assets/page-CcWPJqWX.js HTTP/1.1\u001b[0m\" \u001b[32m200 OK\u001b[0m\n",
            "\u001b[32mINFO\u001b[0m:     197.22.215.157:0 - \"\u001b[1mGET /assets/page-C8793vMM.js HTTP/1.1\u001b[0m\" \u001b[32m200 OK\u001b[0m\n",
            "\u001b[32mINFO\u001b[0m:     197.22.215.157:0 - \"\u001b[1mGET /assets/inter-latin-500-normal-D4I8BKCx.woff HTTP/1.1\u001b[0m\" \u001b[32m200 OK\u001b[0m\n",
            "\u001b[32mINFO\u001b[0m:     197.22.215.157:0 - \"\u001b[1mGET /assets/inter-vietnamese-500-normal-0i6yoQMg.woff HTTP/1.1\u001b[0m\" \u001b[32m200 OK\u001b[0m\n",
            "\u001b[32mINFO\u001b[0m:     197.22.215.157:0 - \"\u001b[1mGET /assets/DisplayDate-xz7bjv92.js HTTP/1.1\u001b[0m\" \u001b[32m200 OK\u001b[0m\n",
            "\u001b[32mINFO\u001b[0m:     197.22.215.157:0 - \"\u001b[1mGET /assets/inter-cyrillic-ext-600-normal-KAwcVx6H.woff HTTP/1.1\u001b[0m\" \u001b[32m200 OK\u001b[0m\n",
            "\u001b[32mINFO\u001b[0m:     197.22.215.157:0 - \"\u001b[1mGET /assets/PasswordChecker-DozYDv4b.js HTTP/1.1\u001b[0m\" \u001b[32m200 OK\u001b[0m\n",
            "\u001b[32mINFO\u001b[0m:     197.22.215.157:0 - \"\u001b[1mGET /assets/inter-greek-500-normal-BjpBGs91.woff HTTP/1.1\u001b[0m\" \u001b[32m200 OK\u001b[0m\n",
            "\u001b[32mINFO\u001b[0m:     197.22.215.157:0 - \"\u001b[1mGET /assets/inter-greek-ext-600-normal-BmtRFZgT.woff HTTP/1.1\u001b[0m\" \u001b[32m200 OK\u001b[0m\n",
            "\u001b[32mINFO\u001b[0m:     197.22.215.157:0 - \"\u001b[1mGET /assets/chevron-right-double-BdbmNpRk.js HTTP/1.1\u001b[0m\" \u001b[32m200 OK\u001b[0m\n",
            "\u001b[32mINFO\u001b[0m:     197.22.215.157:0 - \"\u001b[1mGET /assets/Error-CEUGb4yn.js HTTP/1.1\u001b[0m\" \u001b[32m200 OK\u001b[0m\n",
            "\u001b[32mINFO\u001b[0m:     197.22.215.157:0 - \"\u001b[1mGET /assets/404-CLZGhy0r.js HTTP/1.1\u001b[0m\" \u001b[32m200 OK\u001b[0m\n",
            "\u001b[32mINFO\u001b[0m:     197.22.215.157:0 - \"\u001b[1mGET /assets/inter-cyrillic-600-normal-iz1--dBq.woff HTTP/1.1\u001b[0m\" \u001b[32m200 OK\u001b[0m\n",
            "\u001b[32mINFO\u001b[0m:     197.22.215.157:0 - \"\u001b[1mGET /assets/page-C2jNK5w4.js HTTP/1.1\u001b[0m\" \u001b[32m200 OK\u001b[0m\n",
            "\u001b[32mINFO\u001b[0m:     197.22.215.157:0 - \"\u001b[1mGET /assets/inter-latin-ext-500-normal-SuUkSNTU.woff HTTP/1.1\u001b[0m\" \u001b[32m200 OK\u001b[0m\n",
            "\u001b[32mINFO\u001b[0m:     197.22.215.157:0 - \"\u001b[1mGET /assets/database-Dj4E8VCy.js HTTP/1.1\u001b[0m\" \u001b[32m200 OK\u001b[0m\n",
            "\u001b[32mINFO\u001b[0m:     197.22.215.157:0 - \"\u001b[1mGET /assets/mcp-ocoXuQwQ.png HTTP/1.1\u001b[0m\" \u001b[32m200 OK\u001b[0m\n",
            "\u001b[32mINFO\u001b[0m:     197.22.215.157:0 - \"\u001b[1mGET /assets/inter-latin-ext-600-normal-Dg0Bk0Yr.woff HTTP/1.1\u001b[0m\" \u001b[32m200 OK\u001b[0m\n",
            "\u001b[32mINFO\u001b[0m:     197.22.215.157:0 - \"\u001b[1mGET /assets/page-DlGdmF1U.js HTTP/1.1\u001b[0m\" \u001b[32m200 OK\u001b[0m\n",
            "\u001b[32mINFO\u001b[0m:     197.22.215.157:0 - \"\u001b[1mGET /assets/url-BxOqGmlk.js HTTP/1.1\u001b[0m\" \u001b[32m200 OK\u001b[0m\n",
            "\u001b[32mINFO\u001b[0m:     197.22.215.157:0 - \"\u001b[1mGET /assets/InlineAvatar-CkUo9uYr.js HTTP/1.1\u001b[0m\" \u001b[32m200 OK\u001b[0m\n",
            "\u001b[32mINFO\u001b[0m:     197.22.215.157:0 - \"\u001b[1mGET /assets/check-circle-B_YRDK8p.js HTTP/1.1\u001b[0m\" \u001b[32m200 OK\u001b[0m\n",
            "\u001b[32mINFO\u001b[0m:     197.22.215.157:0 - \"\u001b[1mGET /assets/page-A44mQhzW.js HTTP/1.1\u001b[0m\" \u001b[32m200 OK\u001b[0m\n",
            "\u001b[32mINFO\u001b[0m:     197.22.215.157:0 - \"\u001b[1mGET /assets/CsvVizualization-g-j5uM61.js HTTP/1.1\u001b[0m\" \u001b[32m200 OK\u001b[0m\n",
            "\u001b[32mINFO\u001b[0m:     197.22.215.157:0 - \"\u001b[1mGET /assets/SuccessStep-DLO9gQe8.js HTTP/1.1\u001b[0m\" \u001b[32m200 OK\u001b[0m\n",
            "\u001b[32mINFO\u001b[0m:     197.22.215.157:0 - \"\u001b[1mGET /assets/VideoModal-B1UoJqi_.js HTTP/1.1\u001b[0m\" \u001b[32m200 OK\u001b[0m\n",
            "\u001b[32mINFO\u001b[0m:     197.22.215.157:0 - \"\u001b[1mGET /assets/Helpbox-BhFBV69t.js HTTP/1.1\u001b[0m\" \u001b[32m200 OK\u001b[0m\n",
            "\u001b[32mINFO\u001b[0m:     197.22.215.157:0 - \"\u001b[1mGET /assets/not-found-CcCjaKLM.js HTTP/1.1\u001b[0m\" \u001b[32m200 OK\u001b[0m\n",
            "\u001b[32mINFO\u001b[0m:     197.22.215.157:0 - \"\u001b[1mGET /assets/help-CRVM-AXC.js HTTP/1.1\u001b[0m\" \u001b[32m200 OK\u001b[0m\n",
            "\u001b[32mINFO\u001b[0m:     197.22.215.157:0 - \"\u001b[1mGET /assets/copy-Vxjjuv3p.js HTTP/1.1\u001b[0m\" \u001b[32m200 OK\u001b[0m\n",
            "\u001b[32mINFO\u001b[0m:     197.22.215.157:0 - \"\u001b[1mGET /assets/play-circle-CiCT1iFt.js HTTP/1.1\u001b[0m\" \u001b[32m200 OK\u001b[0m\n",
            "\u001b[32mINFO\u001b[0m:     197.22.215.157:0 - \"\u001b[1mGET /assets/page-BtLPGkXV.js HTTP/1.1\u001b[0m\" \u001b[32m200 OK\u001b[0m\n",
            "\u001b[32mINFO\u001b[0m:     197.22.215.157:0 - \"\u001b[1mGET /assets/zod-DWNKqVmj.js HTTP/1.1\u001b[0m\" \u001b[32m200 OK\u001b[0m\n",
            "\u001b[32mINFO\u001b[0m:     197.22.215.157:0 - \"\u001b[1mGET /assets/update-current-user-mutation-BkdKNriO.js HTTP/1.1\u001b[0m\" \u001b[32m200 OK\u001b[0m\n",
            "\u001b[32mINFO\u001b[0m:     197.22.215.157:0 - \"\u001b[1mGET /assets/page-BffaRWF9.js HTTP/1.1\u001b[0m\" \u001b[32m200 OK\u001b[0m\n",
            "\u001b[32mINFO\u001b[0m:     197.22.215.157:0 - \"\u001b[1mGET /assets/CodeSnippet-BRHUya0e.js HTTP/1.1\u001b[0m\" \u001b[32m200 OK\u001b[0m\n",
            "\u001b[32mINFO\u001b[0m:     197.22.215.157:0 - \"\u001b[1mGET /assets/MarkdownVisualization-CyKHuxCt.js HTTP/1.1\u001b[0m\" \u001b[32m200 OK\u001b[0m\n",
            "\u001b[32mINFO\u001b[0m:     197.22.215.157:0 - \"\u001b[1mGET /assets/index.esm-5yOGu3_l.js HTTP/1.1\u001b[0m\" \u001b[32m200 OK\u001b[0m\n",
            "\u001b[32mINFO\u001b[0m:     197.22.215.157:0 - \"\u001b[1mGET /assets/update-server-settings-mutation-BY63tiSL.js HTTP/1.1\u001b[0m\" \u001b[32m200 OK\u001b[0m\n",
            "\u001b[32mINFO\u001b[0m:     197.22.215.157:0 - \"\u001b[1mGET /assets/EmptyState-PtKve-r-.js HTTP/1.1\u001b[0m\" \u001b[32m200 OK\u001b[0m\n",
            "\u001b[32mINFO\u001b[0m:     197.22.215.157:0 - \"\u001b[1mGET /assets/page-lSGgLwNT.js HTTP/1.1\u001b[0m\" \u001b[32m200 OK\u001b[0m\n",
            "\u001b[32mINFO\u001b[0m:     197.22.215.157:0 - \"\u001b[1mGET /assets/chevron-down-C2EydjPn.js HTTP/1.1\u001b[0m\" \u001b[32m200 OK\u001b[0m\n",
            "\u001b[32mINFO\u001b[0m:     197.22.215.157:0 - \"\u001b[1mGET /assets/aws-BZyTWiD0.js HTTP/1.1\u001b[0m\" \u001b[32m200 OK\u001b[0m\n",
            "\u001b[32mINFO\u001b[0m:     197.22.215.157:0 - \"\u001b[1mGET /assets/page-Do3x195U.js HTTP/1.1\u001b[0m\" \u001b[32m200 OK\u001b[0m\n",
            "\u001b[32mINFO\u001b[0m:     197.22.215.157:0 - \"\u001b[1mGET /assets/UpdatePasswordSchemas-DWVN5Ejn.js HTTP/1.1\u001b[0m\" \u001b[32m200 OK\u001b[0m\n",
            "\u001b[32mINFO\u001b[0m:     197.22.215.157:0 - \"\u001b[1mGET /assets/Pagination-CPcjsbC9.js HTTP/1.1\u001b[0m\" \u001b[32m200 OK\u001b[0m\n",
            "\u001b[32mINFO\u001b[0m:     197.22.215.157:0 - \"\u001b[1mGET /api/v1/info HTTP/1.1\u001b[0m\" \u001b[32m200 OK\u001b[0m\n",
            "\u001b[32mINFO\u001b[0m:     197.22.215.157:0 - \"\u001b[1mGET /favicon.ico HTTP/1.1\u001b[0m\" \u001b[32m200 OK\u001b[0m\n"
          ]
        },
        {
          "output_type": "stream",
          "name": "stderr",
          "text": [
            "INFO:pyngrok.process.ngrok:t=2024-05-05T01:24:04+0000 lvl=info msg=\"join connections\" obj=join id=7fbc05cdb53a l=127.0.0.1:8237 r=197.22.215.157:7820\n"
          ]
        },
        {
          "output_type": "stream",
          "name": "stdout",
          "text": [
            "\u001b[32mINFO\u001b[0m:     197.22.215.157:0 - \"\u001b[1mGET /api/v1/info HTTP/1.1\u001b[0m\" \u001b[32m200 OK\u001b[0m\n",
            "\u001b[32mINFO\u001b[0m:     197.22.215.157:0 - \"\u001b[1mGET /assets/page-CcWPJqWX.js HTTP/1.1\u001b[0m\" \u001b[32m200 OK\u001b[0m\n",
            "\u001b[1;35mt=2024-05-05T01:24:04+0000 lvl=info msg=\"join connections\" obj=join id=7fbc05cdb53a l=127.0.0.1:8237 r=197.22.215.157:7820\u001b[0m\n",
            "\u001b[32mINFO\u001b[0m:     197.22.215.157:0 - \"\u001b[1mGET /favicon.ico HTTP/1.1\u001b[0m\" \u001b[32m200 OK\u001b[0m\n"
          ]
        },
        {
          "output_type": "stream",
          "name": "stderr",
          "text": [
            "INFO:pyngrok.process.ngrok:t=2024-05-05T01:24:04+0000 lvl=info msg=\"join connections\" obj=join id=8fac84432e9b l=127.0.0.1:8237 r=197.22.215.157:7820\n"
          ]
        },
        {
          "output_type": "stream",
          "name": "stdout",
          "text": [
            "\u001b[32mINFO\u001b[0m:     197.22.215.157:0 - \"\u001b[1mGET /assets/login-mutation-Uza7yZRb.js HTTP/1.1\u001b[0m\" \u001b[32m200 OK\u001b[0m\n",
            "\u001b[32mINFO\u001b[0m:     197.22.215.157:0 - \"\u001b[1mGET /assets/index.esm-5yOGu3_l.js HTTP/1.1\u001b[0m\" \u001b[32m200 OK\u001b[0m\n",
            "\u001b[1;35mt=2024-05-05T01:24:04+0000 lvl=info msg=\"join connections\" obj=join id=8fac84432e9b l=127.0.0.1:8237 r=197.22.215.157:7820\u001b[0m\n",
            "\u001b[32mINFO\u001b[0m:     197.22.215.157:0 - \"\u001b[1mGET /assets/zod-DWNKqVmj.js HTTP/1.1\u001b[0m\" \u001b[32m200 OK\u001b[0m\n",
            "\u001b[32mINFO\u001b[0m:     197.22.215.157:0 - \"\u001b[1mGET /assets/inter-latin-500-normal-kWhwEdDH.woff2 HTTP/1.1\u001b[0m\" \u001b[32m200 OK\u001b[0m\n",
            "\u001b[32mINFO\u001b[0m:     197.22.215.157:0 - \"\u001b[1mGET /assets/inter-latin-600-normal-B2Ssfs8e.woff2 HTTP/1.1\u001b[0m\" \u001b[32m200 OK\u001b[0m\n"
          ]
        },
        {
          "output_type": "stream",
          "name": "stderr",
          "text": [
            "INFO:pyngrok.process.ngrok:t=2024-05-05T01:24:27+0000 lvl=info msg=\"join connections\" obj=join id=aa531ba31ab8 l=127.0.0.1:8237 r=197.22.215.157:8046\n"
          ]
        },
        {
          "output_type": "stream",
          "name": "stdout",
          "text": [
            "\u001b[1;35mt=2024-05-05T01:24:27+0000 lvl=info msg=\"join connections\" obj=join id=aa531ba31ab8 l=127.0.0.1:8237 r=197.22.215.157:8046\u001b[0m\n",
            "\u001b[31mAuthentication error: error retrieving account saifeddine.benzaied@insat.ucar.tn\u001b[0m\n",
            "Traceback (most recent call last):\n",
            "  File \"/usr/local/lib/python3.10/dist-packages/zenml/zen_server/auth.py\", line 202, in authenticate_credentials\n",
            "    user = zen_store().get_auth_user(user_name_or_id)\n",
            "  File \"/usr/local/lib/python3.10/dist-packages/zenml/zen_stores/sql_zen_store.py\", line 7898, in get_auth_user\n",
            "    user = self._get_account_schema(\n",
            "  File \"/usr/local/lib/python3.10/dist-packages/zenml/zen_stores/sql_zen_store.py\", line 8512, in _get_account_schema\n",
            "    raise KeyError(error_msg)\n",
            "KeyError: \"No user account with the 'saifeddine.benzaied@insat.ucar.tn' name or ID was found\"\n",
            "\u001b[31mAuthentication error: invalid username or password\u001b[0m\n",
            "\u001b[31mAPI error\u001b[0m\n",
            "Traceback (most recent call last):\n",
            "  File \"/usr/local/lib/python3.10/dist-packages/zenml/zen_server/utils.py\", line 447, in decorated\n",
            "    return func(*args, **kwargs)\n",
            "  File \"/usr/local/lib/python3.10/dist-packages/zenml/zen_server/routers/auth_endpoints.py\", line 283, in token\n",
            "    auth_context = authenticate_credentials(\n",
            "  File \"/usr/local/lib/python3.10/dist-packages/zenml/zen_server/auth.py\", line 221, in authenticate_credentials\n",
            "    raise AuthorizationException(error)\n",
            "zenml.exceptions.AuthorizationException: Authentication error: invalid username or password\n",
            "\u001b[32mINFO\u001b[0m:     197.22.215.157:0 - \"\u001b[1mPOST /api/v1/login HTTP/1.1\u001b[0m\" \u001b[31m401 Unauthorized\u001b[0m\n",
            "\u001b[32mINFO\u001b[0m:     197.22.215.157:0 - \"\u001b[1mGET /assets/inter-latin-400-normal-BT1H-PT_.woff2 HTTP/1.1\u001b[0m\" \u001b[32m200 OK\u001b[0m\n"
          ]
        },
        {
          "output_type": "stream",
          "name": "stderr",
          "text": [
            "INFO:pyngrok.process.ngrok:t=2024-05-05T01:24:39+0000 lvl=info msg=\"join connections\" obj=join id=d03011b1636f l=127.0.0.1:8237 r=197.22.215.157:8033\n"
          ]
        },
        {
          "output_type": "stream",
          "name": "stdout",
          "text": [
            "\u001b[1;35mt=2024-05-05T01:24:39+0000 lvl=info msg=\"join connections\" obj=join id=d03011b1636f l=127.0.0.1:8237 r=197.22.215.157:8033\u001b[0m\n",
            "\u001b[31mAuthentication error: error retrieving account Benzaied Saifeddine\u001b[0m\n",
            "Traceback (most recent call last):\n",
            "  File \"/usr/local/lib/python3.10/dist-packages/zenml/zen_server/auth.py\", line 202, in authenticate_credentials\n",
            "    user = zen_store().get_auth_user(user_name_or_id)\n",
            "  File \"/usr/local/lib/python3.10/dist-packages/zenml/zen_stores/sql_zen_store.py\", line 7898, in get_auth_user\n",
            "    user = self._get_account_schema(\n",
            "  File \"/usr/local/lib/python3.10/dist-packages/zenml/zen_stores/sql_zen_store.py\", line 8512, in _get_account_schema\n",
            "    raise KeyError(error_msg)\n",
            "KeyError: \"No user account with the 'Benzaied Saifeddine' name or ID was found\"\n",
            "\u001b[31mAuthentication error: invalid username or password\u001b[0m\n",
            "\u001b[31mAPI error\u001b[0m\n",
            "Traceback (most recent call last):\n",
            "  File \"/usr/local/lib/python3.10/dist-packages/zenml/zen_server/utils.py\", line 447, in decorated\n",
            "    return func(*args, **kwargs)\n",
            "  File \"/usr/local/lib/python3.10/dist-packages/zenml/zen_server/routers/auth_endpoints.py\", line 283, in token\n",
            "    auth_context = authenticate_credentials(\n",
            "  File \"/usr/local/lib/python3.10/dist-packages/zenml/zen_server/auth.py\", line 221, in authenticate_credentials\n",
            "    raise AuthorizationException(error)\n",
            "zenml.exceptions.AuthorizationException: Authentication error: invalid username or password\n",
            "\u001b[32mINFO\u001b[0m:     197.22.215.157:0 - \"\u001b[1mPOST /api/v1/login HTTP/1.1\u001b[0m\" \u001b[31m401 Unauthorized\u001b[0m\n"
          ]
        },
        {
          "output_type": "stream",
          "name": "stderr",
          "text": [
            "INFO:pyngrok.process.ngrok:t=2024-05-05T01:25:19+0000 lvl=info msg=\"join connections\" obj=join id=f72a9aa7eeca l=127.0.0.1:8237 r=197.22.215.157:8014\n"
          ]
        },
        {
          "output_type": "stream",
          "name": "stdout",
          "text": [
            "\u001b[1;35mt=2024-05-05T01:25:19+0000 lvl=info msg=\"join connections\" obj=join id=f72a9aa7eeca l=127.0.0.1:8237 r=197.22.215.157:8014\u001b[0m\n",
            "\u001b[32mINFO\u001b[0m:     197.22.215.157:0 - \"\u001b[1mGET /api/v1/info HTTP/1.1\u001b[0m\" \u001b[32m200 OK\u001b[0m\n"
          ]
        },
        {
          "output_type": "stream",
          "name": "stderr",
          "text": [
            "INFO:pyngrok.process.ngrok:t=2024-05-05T01:25:25+0000 lvl=info msg=\"join connections\" obj=join id=76417237089f l=127.0.0.1:8237 r=197.22.215.157:7635\n"
          ]
        },
        {
          "output_type": "stream",
          "name": "stdout",
          "text": [
            "\u001b[1;35mt=2024-05-05T01:25:25+0000 lvl=info msg=\"join connections\" obj=join id=76417237089f l=127.0.0.1:8237 r=197.22.215.157:7635\u001b[0m\n",
            "\u001b[31mAuthentication error: error retrieving account saifeddine.benzaied@insat.ucar.tn\u001b[0m\n",
            "Traceback (most recent call last):\n",
            "  File \"/usr/local/lib/python3.10/dist-packages/zenml/zen_server/auth.py\", line 202, in authenticate_credentials\n",
            "    user = zen_store().get_auth_user(user_name_or_id)\n",
            "  File \"/usr/local/lib/python3.10/dist-packages/zenml/zen_stores/sql_zen_store.py\", line 7898, in get_auth_user\n",
            "    user = self._get_account_schema(\n",
            "  File \"/usr/local/lib/python3.10/dist-packages/zenml/zen_stores/sql_zen_store.py\", line 8512, in _get_account_schema\n",
            "    raise KeyError(error_msg)\n",
            "KeyError: \"No user account with the 'saifeddine.benzaied@insat.ucar.tn' name or ID was found\"\n",
            "\u001b[31mAuthentication error: invalid username or password\u001b[0m\n",
            "\u001b[31mAPI error\u001b[0m\n",
            "Traceback (most recent call last):\n",
            "  File \"/usr/local/lib/python3.10/dist-packages/zenml/zen_server/utils.py\", line 447, in decorated\n",
            "    return func(*args, **kwargs)\n",
            "  File \"/usr/local/lib/python3.10/dist-packages/zenml/zen_server/routers/auth_endpoints.py\", line 283, in token\n",
            "    auth_context = authenticate_credentials(\n",
            "  File \"/usr/local/lib/python3.10/dist-packages/zenml/zen_server/auth.py\", line 221, in authenticate_credentials\n",
            "    raise AuthorizationException(error)\n",
            "zenml.exceptions.AuthorizationException: Authentication error: invalid username or password\n",
            "\u001b[32mINFO\u001b[0m:     197.22.215.157:0 - \"\u001b[1mPOST /api/v1/login HTTP/1.1\u001b[0m\" \u001b[31m401 Unauthorized\u001b[0m\n"
          ]
        },
        {
          "output_type": "stream",
          "name": "stderr",
          "text": [
            "INFO:pyngrok.process.ngrok:t=2024-05-05T01:25:40+0000 lvl=info msg=\"join connections\" obj=join id=fbc298d1a1f2 l=127.0.0.1:8237 r=197.22.215.157:7626\n"
          ]
        },
        {
          "output_type": "stream",
          "name": "stdout",
          "text": [
            "\u001b[1;35mt=2024-05-05T01:25:40+0000 lvl=info msg=\"join connections\" obj=join id=fbc298d1a1f2 l=127.0.0.1:8237 r=197.22.215.157:7626\u001b[0m\n",
            "\u001b[32mINFO\u001b[0m:     197.22.215.157:0 - \"\u001b[1mGET /api/v1/info HTTP/1.1\u001b[0m\" \u001b[32m200 OK\u001b[0m\n"
          ]
        },
        {
          "output_type": "stream",
          "name": "stderr",
          "text": [
            "INFO:pyngrok.process.ngrok:t=2024-05-05T01:26:29+0000 lvl=info msg=\"join connections\" obj=join id=fee1eba88773 l=127.0.0.1:8237 r=197.22.215.157:7896\n"
          ]
        },
        {
          "output_type": "stream",
          "name": "stdout",
          "text": [
            "\u001b[1;35mt=2024-05-05T01:26:29+0000 lvl=info msg=\"join connections\" obj=join id=fee1eba88773 l=127.0.0.1:8237 r=197.22.215.157:7896\u001b[0m\n",
            "\u001b[32mINFO\u001b[0m:     197.22.215.157:0 - \"\u001b[1mGET /api/v1/info HTTP/1.1\u001b[0m\" \u001b[32m200 OK\u001b[0m\n"
          ]
        },
        {
          "output_type": "stream",
          "name": "stderr",
          "text": [
            "INFO:pyngrok.process.ngrok:t=2024-05-05T01:26:53+0000 lvl=info msg=\"join connections\" obj=join id=ac8dbbc77470 l=127.0.0.1:8237 r=197.22.215.157:7699\n"
          ]
        },
        {
          "output_type": "stream",
          "name": "stdout",
          "text": [
            "\u001b[1;35mt=2024-05-05T01:26:53+0000 lvl=info msg=\"join connections\" obj=join id=ac8dbbc77470 l=127.0.0.1:8237 r=197.22.215.157:7699\u001b[0m\n",
            "\u001b[31mAuthentication error: error retrieving account Benzaied Saifeddine\u001b[0m\n",
            "Traceback (most recent call last):\n",
            "  File \"/usr/local/lib/python3.10/dist-packages/zenml/zen_server/auth.py\", line 202, in authenticate_credentials\n",
            "    user = zen_store().get_auth_user(user_name_or_id)\n",
            "  File \"/usr/local/lib/python3.10/dist-packages/zenml/zen_stores/sql_zen_store.py\", line 7898, in get_auth_user\n",
            "    user = self._get_account_schema(\n",
            "  File \"/usr/local/lib/python3.10/dist-packages/zenml/zen_stores/sql_zen_store.py\", line 8512, in _get_account_schema\n",
            "    raise KeyError(error_msg)\n",
            "KeyError: \"No user account with the 'Benzaied Saifeddine' name or ID was found\"\n",
            "\u001b[31mAuthentication error: invalid username or password\u001b[0m\n",
            "\u001b[31mAPI error\u001b[0m\n",
            "Traceback (most recent call last):\n",
            "  File \"/usr/local/lib/python3.10/dist-packages/zenml/zen_server/utils.py\", line 447, in decorated\n",
            "    return func(*args, **kwargs)\n",
            "  File \"/usr/local/lib/python3.10/dist-packages/zenml/zen_server/routers/auth_endpoints.py\", line 283, in token\n",
            "    auth_context = authenticate_credentials(\n",
            "  File \"/usr/local/lib/python3.10/dist-packages/zenml/zen_server/auth.py\", line 221, in authenticate_credentials\n",
            "    raise AuthorizationException(error)\n",
            "zenml.exceptions.AuthorizationException: Authentication error: invalid username or password\n",
            "\u001b[32mINFO\u001b[0m:     197.22.215.157:0 - \"\u001b[1mPOST /api/v1/login HTTP/1.1\u001b[0m\" \u001b[31m401 Unauthorized\u001b[0m\n"
          ]
        },
        {
          "output_type": "stream",
          "name": "stderr",
          "text": [
            "INFO:pyngrok.process.ngrok:t=2024-05-05T01:28:28+0000 lvl=info msg=\"join connections\" obj=join id=ed6fb11f28b8 l=127.0.0.1:8237 r=197.22.215.157:7642\n"
          ]
        },
        {
          "output_type": "stream",
          "name": "stdout",
          "text": [
            "\u001b[1;35mt=2024-05-05T01:28:28+0000 lvl=info msg=\"join connections\" obj=join id=ed6fb11f28b8 l=127.0.0.1:8237 r=197.22.215.157:7642\u001b[0m\n",
            "\u001b[32mINFO\u001b[0m:     197.22.215.157:0 - \"\u001b[1mGET /api/v1/info HTTP/1.1\u001b[0m\" \u001b[32m200 OK\u001b[0m\n"
          ]
        },
        {
          "output_type": "stream",
          "name": "stderr",
          "text": [
            "INFO:pyngrok.process.ngrok:t=2024-05-05T01:28:41+0000 lvl=info msg=\"join connections\" obj=join id=cbc81dd1e759 l=127.0.0.1:8237 r=197.22.215.157:7677\n"
          ]
        },
        {
          "output_type": "stream",
          "name": "stdout",
          "text": [
            "\u001b[1;35mt=2024-05-05T01:28:41+0000 lvl=info msg=\"join connections\" obj=join id=cbc81dd1e759 l=127.0.0.1:8237 r=197.22.215.157:7677\u001b[0m\n",
            "\u001b[32mINFO\u001b[0m:     197.22.215.157:0 - \"\u001b[1mPOST /api/v1/login HTTP/1.1\u001b[0m\" \u001b[32m200 OK\u001b[0m\n"
          ]
        },
        {
          "output_type": "stream",
          "name": "stderr",
          "text": [
            "INFO:pyngrok.process.ngrok:t=2024-05-05T01:28:41+0000 lvl=info msg=\"join connections\" obj=join id=5773f831131f l=127.0.0.1:8237 r=197.22.215.157:7677\n"
          ]
        },
        {
          "output_type": "stream",
          "name": "stdout",
          "text": [
            "\u001b[1;35mGot token from cookie\u001b[0m\n",
            "\u001b[32mINFO\u001b[0m:     197.22.215.157:0 - \"\u001b[1mGET /api/v1/current-user HTTP/1.1\u001b[0m\" \u001b[32m200 OK\u001b[0m\n",
            "\u001b[1;35mt=2024-05-05T01:28:41+0000 lvl=info msg=\"join connections\" obj=join id=5773f831131f l=127.0.0.1:8237 r=197.22.215.157:7677\u001b[0m\n",
            "\u001b[1;35mGot token from cookie\u001b[0m\n",
            "\u001b[32mINFO\u001b[0m:     197.22.215.157:0 - \"\u001b[1mGET /api/v1/settings HTTP/1.1\u001b[0m\" \u001b[32m200 OK\u001b[0m\n",
            "\u001b[1;35mGot token from cookie\u001b[0m\n",
            "\u001b[32mINFO\u001b[0m:     197.22.215.157:0 - \"\u001b[1mGET /assets/page-Bc6vv2xS.js HTTP/1.1\u001b[0m\" \u001b[32m200 OK\u001b[0m\n",
            "\u001b[32mINFO\u001b[0m:     197.22.215.157:0 - \"\u001b[1mGET /api/v1/current-user HTTP/1.1\u001b[0m\" \u001b[32m200 OK\u001b[0m\n"
          ]
        },
        {
          "output_type": "stream",
          "name": "stderr",
          "text": [
            "INFO:pyngrok.process.ngrok:t=2024-05-05T01:28:42+0000 lvl=info msg=\"join connections\" obj=join id=86cca122f490 l=127.0.0.1:8237 r=197.22.215.157:7677\n"
          ]
        },
        {
          "output_type": "stream",
          "name": "stdout",
          "text": [
            "\u001b[32mINFO\u001b[0m:     197.22.215.157:0 - \"\u001b[1mGET /assets/AwarenessChannel-Dfkaig3j.js HTTP/1.1\u001b[0m\" \u001b[32m200 OK\u001b[0m\n",
            "\u001b[32mINFO\u001b[0m:     197.22.215.157:0 - \"\u001b[1mGET /assets/SuccessStep-DLO9gQe8.js HTTP/1.1\u001b[0m\" \u001b[32m200 OK\u001b[0m\n",
            "\u001b[1;35mt=2024-05-05T01:28:42+0000 lvl=info msg=\"join connections\" obj=join id=86cca122f490 l=127.0.0.1:8237 r=197.22.215.157:7677\u001b[0m\n"
          ]
        },
        {
          "output_type": "stream",
          "name": "stderr",
          "text": [
            "INFO:pyngrok.process.ngrok:t=2024-05-05T01:28:42+0000 lvl=info msg=\"join connections\" obj=join id=e4379428e4df l=127.0.0.1:8237 r=197.22.215.157:7677\n"
          ]
        },
        {
          "output_type": "stream",
          "name": "stdout",
          "text": [
            "\u001b[1;35mt=2024-05-05T01:28:42+0000 lvl=info msg=\"join connections\" obj=join id=e4379428e4df l=127.0.0.1:8237 r=197.22.215.157:7677\u001b[0m\n"
          ]
        },
        {
          "output_type": "stream",
          "name": "stderr",
          "text": [
            "INFO:pyngrok.process.ngrok:t=2024-05-05T01:28:43+0000 lvl=info msg=\"join connections\" obj=join id=4c8ab4224001 l=127.0.0.1:8237 r=197.22.215.157:7677\n"
          ]
        },
        {
          "output_type": "stream",
          "name": "stdout",
          "text": [
            "\u001b[32mINFO\u001b[0m:     197.22.215.157:0 - \"\u001b[1mGET /assets/UpdatePasswordSchemas-DWVN5Ejn.js HTTP/1.1\u001b[0m\" \u001b[32m200 OK\u001b[0m\n",
            "\u001b[32mINFO\u001b[0m:     197.22.215.157:0 - \"\u001b[1mGET /assets/update-current-user-mutation-BkdKNriO.js HTTP/1.1\u001b[0m\" \u001b[32m200 OK\u001b[0m\n",
            "\u001b[1;35mt=2024-05-05T01:28:43+0000 lvl=info msg=\"join connections\" obj=join id=4c8ab4224001 l=127.0.0.1:8237 r=197.22.215.157:7677\u001b[0m\n"
          ]
        },
        {
          "output_type": "stream",
          "name": "stderr",
          "text": [
            "INFO:pyngrok.process.ngrok:t=2024-05-05T01:28:43+0000 lvl=info msg=\"join connections\" obj=join id=04cc545e3189 l=127.0.0.1:8237 r=197.22.215.157:7677\n"
          ]
        },
        {
          "output_type": "stream",
          "name": "stdout",
          "text": [
            "\u001b[1;35mt=2024-05-05T01:28:43+0000 lvl=info msg=\"join connections\" obj=join id=04cc545e3189 l=127.0.0.1:8237 r=197.22.215.157:7677\u001b[0m\n"
          ]
        },
        {
          "output_type": "stream",
          "name": "stderr",
          "text": [
            "INFO:pyngrok.process.ngrok:t=2024-05-05T01:28:43+0000 lvl=info msg=\"join connections\" obj=join id=db42d18ebcd0 l=127.0.0.1:8237 r=197.22.215.157:7677\n"
          ]
        },
        {
          "output_type": "stream",
          "name": "stdout",
          "text": [
            "\u001b[1;35mt=2024-05-05T01:28:43+0000 lvl=info msg=\"join connections\" obj=join id=db42d18ebcd0 l=127.0.0.1:8237 r=197.22.215.157:7677\u001b[0m\n",
            "\u001b[32mINFO\u001b[0m:     197.22.215.157:0 - \"\u001b[1mGET /assets/check-circle-B_YRDK8p.js HTTP/1.1\u001b[0m\" \u001b[32m200 OK\u001b[0m\n",
            "\u001b[32mINFO\u001b[0m:     197.22.215.157:0 - \"\u001b[1mGET /assets/play-circle-CiCT1iFt.js HTTP/1.1\u001b[0m\" \u001b[32m200 OK\u001b[0m\n",
            "\u001b[32mINFO\u001b[0m:     197.22.215.157:0 - \"\u001b[1mGET /assets/file-text-C_aOBzo7.js HTTP/1.1\u001b[0m\" \u001b[32m200 OK\u001b[0m\n",
            "\u001b[1;35mGot token from cookie\u001b[0m\n",
            "\u001b[32mINFO\u001b[0m:     197.22.215.157:0 - \"\u001b[1mGET /api/v1/current-user HTTP/1.1\u001b[0m\" \u001b[32m200 OK\u001b[0m\n"
          ]
        },
        {
          "output_type": "stream",
          "name": "stderr",
          "text": [
            "INFO:pyngrok.process.ngrok:t=2024-05-05T01:29:47+0000 lvl=info msg=\"join connections\" obj=join id=939397be08c2 l=127.0.0.1:8237 r=197.22.215.157:7937\n"
          ]
        },
        {
          "output_type": "stream",
          "name": "stdout",
          "text": [
            "\u001b[1;35mt=2024-05-05T01:29:47+0000 lvl=info msg=\"join connections\" obj=join id=939397be08c2 l=127.0.0.1:8237 r=197.22.215.157:7937\u001b[0m\n",
            "\u001b[1;35mGot token from cookie\u001b[0m\n",
            "\u001b[32mINFO\u001b[0m:     197.22.215.157:0 - \"\u001b[1mPUT /api/v1/current-user HTTP/1.1\u001b[0m\" \u001b[32m200 OK\u001b[0m\n",
            "\u001b[1;35mGot token from cookie\u001b[0m\n",
            "\u001b[32mINFO\u001b[0m:     197.22.215.157:0 - \"\u001b[1mGET /api/v1/current-user HTTP/1.1\u001b[0m\" \u001b[32m200 OK\u001b[0m\n",
            "\u001b[32mINFO\u001b[0m:     197.22.215.157:0 - \"\u001b[1mGET /assets/CodeSnippet-Bbx6fIb6.css HTTP/1.1\u001b[0m\" \u001b[32m200 OK\u001b[0m\n",
            "\u001b[32mINFO\u001b[0m:     197.22.215.157:0 - \"\u001b[1mGET /assets/page-BWG2W5if.js HTTP/1.1\u001b[0m\" \u001b[32m200 OK\u001b[0m\n"
          ]
        },
        {
          "output_type": "stream",
          "name": "stderr",
          "text": [
            "INFO:pyngrok.process.ngrok:t=2024-05-05T01:29:51+0000 lvl=info msg=\"join connections\" obj=join id=dcd9411af128 l=127.0.0.1:8237 r=197.22.215.157:7937\n"
          ]
        },
        {
          "output_type": "stream",
          "name": "stdout",
          "text": [
            "\u001b[32mINFO\u001b[0m:     197.22.215.157:0 - \"\u001b[1mGET /assets/CodeSnippet-BRHUya0e.js HTTP/1.1\u001b[0m\" \u001b[32m200 OK\u001b[0m\n",
            "\u001b[1;35mt=2024-05-05T01:29:51+0000 lvl=info msg=\"join connections\" obj=join id=dcd9411af128 l=127.0.0.1:8237 r=197.22.215.157:7937\u001b[0m\n",
            "\u001b[32mINFO\u001b[0m:     197.22.215.157:0 - \"\u001b[1mGET /assets/copy-Vxjjuv3p.js HTTP/1.1\u001b[0m\" \u001b[32m200 OK\u001b[0m\n"
          ]
        },
        {
          "output_type": "stream",
          "name": "stderr",
          "text": [
            "INFO:pyngrok.process.ngrok:t=2024-05-05T01:29:52+0000 lvl=info msg=\"join connections\" obj=join id=d8ddd1b3a2f1 l=127.0.0.1:8237 r=197.22.215.157:7937\n"
          ]
        },
        {
          "output_type": "stream",
          "name": "stdout",
          "text": [
            "\u001b[1;35mGot token from cookie\u001b[0m\n",
            "\u001b[1;35mt=2024-05-05T01:29:52+0000 lvl=info msg=\"join connections\" obj=join id=d8ddd1b3a2f1 l=127.0.0.1:8237 r=197.22.215.157:7937\u001b[0m\n"
          ]
        },
        {
          "output_type": "stream",
          "name": "stderr",
          "text": [
            "INFO:pyngrok.process.ngrok:t=2024-05-05T01:29:52+0000 lvl=info msg=\"join connections\" obj=join id=5199e4822382 l=127.0.0.1:8237 r=197.22.215.157:7937\n"
          ]
        },
        {
          "output_type": "stream",
          "name": "stdout",
          "text": [
            "\u001b[1;35mGot token from cookie\u001b[0m\n",
            "\u001b[32mINFO\u001b[0m:     197.22.215.157:0 - \"\u001b[1mGET /api/v1/current-user HTTP/1.1\u001b[0m\" \u001b[32m200 OK\u001b[0m\n",
            "\u001b[32mINFO\u001b[0m:     197.22.215.157:0 - \"\u001b[1mGET /api/v1/settings HTTP/1.1\u001b[0m\" \u001b[32m200 OK\u001b[0m\n",
            "\u001b[1;35mt=2024-05-05T01:29:52+0000 lvl=info msg=\"join connections\" obj=join id=5199e4822382 l=127.0.0.1:8237 r=197.22.215.157:7937\u001b[0m\n",
            "\u001b[32mINFO\u001b[0m:     197.22.215.157:0 - \"\u001b[1mGET /api/v1/info HTTP/1.1\u001b[0m\" \u001b[32m200 OK\u001b[0m\n",
            "\u001b[32mINFO\u001b[0m:     197.22.215.157:0 - \"\u001b[1mGET /assets/cloud-squares-DeRLMopf.svg HTTP/1.1\u001b[0m\" \u001b[32m200 OK\u001b[0m\n"
          ]
        },
        {
          "output_type": "stream",
          "name": "stderr",
          "text": [
            "INFO:pyngrok.process.ngrok:t=2024-05-05T01:29:58+0000 lvl=info msg=\"join connections\" obj=join id=47a641d7bf05 l=127.0.0.1:8237 r=197.22.215.157:7874\n"
          ]
        },
        {
          "output_type": "stream",
          "name": "stdout",
          "text": [
            "\u001b[1;35mt=2024-05-05T01:29:58+0000 lvl=info msg=\"join connections\" obj=join id=47a641d7bf05 l=127.0.0.1:8237 r=197.22.215.157:7874\u001b[0m\n",
            "\u001b[32mINFO\u001b[0m:     197.22.215.157:0 - \"\u001b[1mGET /assets/page-A44mQhzW.js HTTP/1.1\u001b[0m\" \u001b[32m200 OK\u001b[0m\n"
          ]
        },
        {
          "output_type": "stream",
          "name": "stderr",
          "text": [
            "INFO:pyngrok.process.ngrok:t=2024-05-05T01:29:59+0000 lvl=info msg=\"join connections\" obj=join id=4005e33980d5 l=127.0.0.1:8237 r=197.22.215.157:7874\n"
          ]
        },
        {
          "output_type": "stream",
          "name": "stdout",
          "text": [
            "\u001b[32mINFO\u001b[0m:     197.22.215.157:0 - \"\u001b[1mGET /assets/Cards-DKtc8Mmj.js HTTP/1.1\u001b[0m\" \u001b[32m200 OK\u001b[0m\n",
            "\u001b[1;35mt=2024-05-05T01:29:59+0000 lvl=info msg=\"join connections\" obj=join id=4005e33980d5 l=127.0.0.1:8237 r=197.22.215.157:7874\u001b[0m\n"
          ]
        },
        {
          "output_type": "stream",
          "name": "stderr",
          "text": [
            "INFO:pyngrok.process.ngrok:t=2024-05-05T01:29:59+0000 lvl=info msg=\"join connections\" obj=join id=1f60b79c0434 l=127.0.0.1:8237 r=197.22.215.157:7874\n"
          ]
        },
        {
          "output_type": "stream",
          "name": "stdout",
          "text": [
            "\u001b[1;35mt=2024-05-05T01:29:59+0000 lvl=info msg=\"join connections\" obj=join id=1f60b79c0434 l=127.0.0.1:8237 r=197.22.215.157:7874\u001b[0m\n"
          ]
        },
        {
          "output_type": "stream",
          "name": "stderr",
          "text": [
            "INFO:pyngrok.process.ngrok:t=2024-05-05T01:29:59+0000 lvl=info msg=\"join connections\" obj=join id=e38f357049a2 l=127.0.0.1:8237 r=197.22.215.157:7874\n"
          ]
        },
        {
          "output_type": "stream",
          "name": "stdout",
          "text": [
            "\u001b[1;35mt=2024-05-05T01:29:59+0000 lvl=info msg=\"join connections\" obj=join id=e38f357049a2 l=127.0.0.1:8237 r=197.22.215.157:7874\u001b[0m\n"
          ]
        },
        {
          "output_type": "stream",
          "name": "stderr",
          "text": [
            "INFO:pyngrok.process.ngrok:t=2024-05-05T01:29:59+0000 lvl=info msg=\"join connections\" obj=join id=6f9b2664b70f l=127.0.0.1:8237 r=197.22.215.157:7874\n"
          ]
        },
        {
          "output_type": "stream",
          "name": "stdout",
          "text": [
            "\u001b[1;35mt=2024-05-05T01:29:59+0000 lvl=info msg=\"join connections\" obj=join id=6f9b2664b70f l=127.0.0.1:8237 r=197.22.215.157:7874\u001b[0m\n"
          ]
        },
        {
          "output_type": "stream",
          "name": "stderr",
          "text": [
            "INFO:pyngrok.process.ngrok:t=2024-05-05T01:29:59+0000 lvl=info msg=\"join connections\" obj=join id=13440c0d4dae l=127.0.0.1:8237 r=197.22.215.157:7874\n"
          ]
        },
        {
          "output_type": "stream",
          "name": "stdout",
          "text": [
            "\u001b[1;35mt=2024-05-05T01:29:59+0000 lvl=info msg=\"join connections\" obj=join id=13440c0d4dae l=127.0.0.1:8237 r=197.22.215.157:7874\u001b[0m\n"
          ]
        },
        {
          "output_type": "stream",
          "name": "stderr",
          "text": [
            "INFO:pyngrok.process.ngrok:t=2024-05-05T01:29:59+0000 lvl=info msg=\"join connections\" obj=join id=d9f610b8d170 l=127.0.0.1:8237 r=197.22.215.157:7874\n"
          ]
        },
        {
          "output_type": "stream",
          "name": "stdout",
          "text": [
            "\u001b[1;35mt=2024-05-05T01:29:59+0000 lvl=info msg=\"join connections\" obj=join id=d9f610b8d170 l=127.0.0.1:8237 r=197.22.215.157:7874\u001b[0m\n",
            "\u001b[32mINFO\u001b[0m:     197.22.215.157:0 - \"\u001b[1mGET /assets/help-CRVM-AXC.js HTTP/1.1\u001b[0m\" \u001b[32m200 OK\u001b[0m\n",
            "\u001b[32mINFO\u001b[0m:     197.22.215.157:0 - \"\u001b[1mGET /assets/aws-BZyTWiD0.js HTTP/1.1\u001b[0m\" \u001b[32m200 OK\u001b[0m\n",
            "\u001b[32mINFO\u001b[0m:     197.22.215.157:0 - \"\u001b[1mGET /assets/update-server-settings-mutation-BY63tiSL.js HTTP/1.1\u001b[0m\" \u001b[32m200 OK\u001b[0m\n",
            "\u001b[32mINFO\u001b[0m:     197.22.215.157:0 - \"\u001b[1mGET /assets/terminal-C3Pq8EZ0.js HTTP/1.1\u001b[0m\" \u001b[32m200 OK\u001b[0m\n",
            "\u001b[32mINFO\u001b[0m:     197.22.215.157:0 - \"\u001b[1mGET /assets/Helpbox-BhFBV69t.js HTTP/1.1\u001b[0m\" \u001b[32m200 OK\u001b[0m\n",
            "\u001b[32mINFO\u001b[0m:     197.22.215.157:0 - \"\u001b[1mGET /assets/chevron-down-C2EydjPn.js HTTP/1.1\u001b[0m\" \u001b[32m200 OK\u001b[0m\n",
            "\u001b[1;35mGot token from cookie\u001b[0m\n",
            "\u001b[32mINFO\u001b[0m:     197.22.215.157:0 - \"\u001b[1mGET /api/v1/info HTTP/1.1\u001b[0m\" \u001b[32m200 OK\u001b[0m\n",
            "\u001b[32mINFO\u001b[0m:     197.22.215.157:0 - \"\u001b[1mGET /api/v1/settings HTTP/1.1\u001b[0m\" \u001b[32m200 OK\u001b[0m\n"
          ]
        },
        {
          "output_type": "stream",
          "name": "stderr",
          "text": [
            "INFO:pyngrok.process.ngrok:t=2024-05-05T01:30:10+0000 lvl=info msg=\"join connections\" obj=join id=4d546de29e8a l=127.0.0.1:8237 r=197.22.215.157:7699\n"
          ]
        },
        {
          "output_type": "stream",
          "name": "stdout",
          "text": [
            "\u001b[1;35mt=2024-05-05T01:30:10+0000 lvl=info msg=\"join connections\" obj=join id=4d546de29e8a l=127.0.0.1:8237 r=197.22.215.157:7699\u001b[0m\n",
            "\u001b[32mINFO\u001b[0m:     197.22.215.157:0 - \"\u001b[1mGET /assets/page-CcD4dK88.js HTTP/1.1\u001b[0m\" \u001b[32m200 OK\u001b[0m\n"
          ]
        },
        {
          "output_type": "stream",
          "name": "stderr",
          "text": [
            "INFO:pyngrok.process.ngrok:t=2024-05-05T01:30:10+0000 lvl=info msg=\"join connections\" obj=join id=46052dcfadfe l=127.0.0.1:8237 r=197.22.215.157:7699\n"
          ]
        },
        {
          "output_type": "stream",
          "name": "stdout",
          "text": [
            "\u001b[32mINFO\u001b[0m:     197.22.215.157:0 - \"\u001b[1mGET /assets/refresh-Cx_kzUlu.js HTTP/1.1\u001b[0m\" \u001b[32m200 OK\u001b[0m\n",
            "\u001b[1;35mt=2024-05-05T01:30:10+0000 lvl=info msg=\"join connections\" obj=join id=46052dcfadfe l=127.0.0.1:8237 r=197.22.215.157:7699\u001b[0m\n"
          ]
        },
        {
          "output_type": "stream",
          "name": "stderr",
          "text": [
            "INFO:pyngrok.process.ngrok:t=2024-05-05T01:30:11+0000 lvl=info msg=\"join connections\" obj=join id=550bbf12c717 l=127.0.0.1:8237 r=197.22.215.157:7699\n"
          ]
        },
        {
          "output_type": "stream",
          "name": "stdout",
          "text": [
            "\u001b[32mINFO\u001b[0m:     197.22.215.157:0 - \"\u001b[1mGET /assets/Pagination-CPcjsbC9.js HTTP/1.1\u001b[0m\" \u001b[32m200 OK\u001b[0m\n",
            "\u001b[1;35mt=2024-05-05T01:30:11+0000 lvl=info msg=\"join connections\" obj=join id=550bbf12c717 l=127.0.0.1:8237 r=197.22.215.157:7699\u001b[0m\n"
          ]
        },
        {
          "output_type": "stream",
          "name": "stderr",
          "text": [
            "INFO:pyngrok.process.ngrok:t=2024-05-05T01:30:11+0000 lvl=info msg=\"join connections\" obj=join id=30a7fb0142ff l=127.0.0.1:8237 r=197.22.215.157:7699\n"
          ]
        },
        {
          "output_type": "stream",
          "name": "stdout",
          "text": [
            "\u001b[1;35mt=2024-05-05T01:30:11+0000 lvl=info msg=\"join connections\" obj=join id=30a7fb0142ff l=127.0.0.1:8237 r=197.22.215.157:7699\u001b[0m\n"
          ]
        },
        {
          "output_type": "stream",
          "name": "stderr",
          "text": [
            "INFO:pyngrok.process.ngrok:t=2024-05-05T01:30:11+0000 lvl=info msg=\"join connections\" obj=join id=60c666dd504d l=127.0.0.1:8237 r=197.22.215.157:7699\n"
          ]
        },
        {
          "output_type": "stream",
          "name": "stdout",
          "text": [
            "\u001b[1;35mt=2024-05-05T01:30:11+0000 lvl=info msg=\"join connections\" obj=join id=60c666dd504d l=127.0.0.1:8237 r=197.22.215.157:7699\u001b[0m\n"
          ]
        },
        {
          "output_type": "stream",
          "name": "stderr",
          "text": [
            "INFO:pyngrok.process.ngrok:t=2024-05-05T01:30:11+0000 lvl=info msg=\"join connections\" obj=join id=0722e270bdfe l=127.0.0.1:8237 r=197.22.215.157:7699\n"
          ]
        },
        {
          "output_type": "stream",
          "name": "stdout",
          "text": [
            "\u001b[32mINFO\u001b[0m:     197.22.215.157:0 - \"\u001b[1mGET /assets/url-BxOqGmlk.js HTTP/1.1\u001b[0m\" \u001b[32m200 OK\u001b[0m\n",
            "\u001b[32mINFO\u001b[0m:     197.22.215.157:0 - \"\u001b[1mGET /assets/PageHeader-BjHR4E5t.js HTTP/1.1\u001b[0m\" \u001b[32m200 OK\u001b[0m\n",
            "\u001b[32mINFO\u001b[0m:     197.22.215.157:0 - \"\u001b[1mGET /assets/CopyButton-Dr9DC1Vz.js HTTP/1.1\u001b[0m\" \u001b[32m200 OK\u001b[0m\n",
            "\u001b[1;35mt=2024-05-05T01:30:11+0000 lvl=info msg=\"join connections\" obj=join id=0722e270bdfe l=127.0.0.1:8237 r=197.22.215.157:7699\u001b[0m\n",
            "\u001b[32mINFO\u001b[0m:     197.22.215.157:0 - \"\u001b[1mGET /assets/chevron-right-double-BdbmNpRk.js HTTP/1.1\u001b[0m\" \u001b[32m200 OK\u001b[0m\n",
            "\u001b[1;35mGot token from cookie\u001b[0m\n",
            "\u001b[32mINFO\u001b[0m:     197.22.215.157:0 - \"\u001b[1mGET /api/v1/pipeline_namespaces?page=1&sort_by=desc%3Aupdated HTTP/1.1\u001b[0m\" \u001b[32m200 OK\u001b[0m\n"
          ]
        },
        {
          "output_type": "stream",
          "name": "stderr",
          "text": [
            "INFO:pyngrok.process.ngrok:t=2024-05-05T01:30:15+0000 lvl=info msg=\"join connections\" obj=join id=16e5b98e5e9f l=127.0.0.1:8237 r=197.22.215.157:7910\n"
          ]
        },
        {
          "output_type": "stream",
          "name": "stdout",
          "text": [
            "\u001b[1;35mt=2024-05-05T01:30:15+0000 lvl=info msg=\"join connections\" obj=join id=16e5b98e5e9f l=127.0.0.1:8237 r=197.22.215.157:7910\u001b[0m\n",
            "\u001b[32mINFO\u001b[0m:     197.22.215.157:0 - \"\u001b[1mGET /assets/page-lSGgLwNT.js HTTP/1.1\u001b[0m\" \u001b[32m200 OK\u001b[0m\n"
          ]
        },
        {
          "output_type": "stream",
          "name": "stderr",
          "text": [
            "INFO:pyngrok.process.ngrok:t=2024-05-05T01:30:16+0000 lvl=info msg=\"join connections\" obj=join id=80b9e67a60e9 l=127.0.0.1:8237 r=197.22.215.157:7910\n"
          ]
        },
        {
          "output_type": "stream",
          "name": "stdout",
          "text": [
            "\u001b[32mINFO\u001b[0m:     197.22.215.157:0 - \"\u001b[1mGET /assets/DisplayDate-xz7bjv92.js HTTP/1.1\u001b[0m\" \u001b[32m200 OK\u001b[0m\n",
            "\u001b[1;35mt=2024-05-05T01:30:16+0000 lvl=info msg=\"join connections\" obj=join id=80b9e67a60e9 l=127.0.0.1:8237 r=197.22.215.157:7910\u001b[0m\n",
            "\u001b[32mINFO\u001b[0m:     197.22.215.157:0 - \"\u001b[1mGET /assets/InlineAvatar-CkUo9uYr.js HTTP/1.1\u001b[0m\" \u001b[32m200 OK\u001b[0m\n",
            "\u001b[1;35mGot token from cookie\u001b[0m\n",
            "\u001b[32mINFO\u001b[0m:     197.22.215.157:0 - \"\u001b[1mGET /api/v1/runs?pipeline_name=cnn_training_pipeline&page=1&sort_by=desc%3Aupdated HTTP/1.1\u001b[0m\" \u001b[32m200 OK\u001b[0m\n"
          ]
        },
        {
          "output_type": "stream",
          "name": "stderr",
          "text": [
            "INFO:pyngrok.process.ngrok:t=2024-05-05T01:30:26+0000 lvl=info msg=\"join connections\" obj=join id=7bffb56ea3b1 l=127.0.0.1:8237 r=197.22.215.157:7782\n"
          ]
        },
        {
          "output_type": "stream",
          "name": "stdout",
          "text": [
            "\u001b[1;35mt=2024-05-05T01:30:26+0000 lvl=info msg=\"join connections\" obj=join id=7bffb56ea3b1 l=127.0.0.1:8237 r=197.22.215.157:7782\u001b[0m\n",
            "\u001b[32mINFO\u001b[0m:     197.22.215.157:0 - \"\u001b[1mGET /assets/page-Do3x195U.js HTTP/1.1\u001b[0m\" \u001b[32m200 OK\u001b[0m\n"
          ]
        },
        {
          "output_type": "stream",
          "name": "stderr",
          "text": [
            "INFO:pyngrok.process.ngrok:t=2024-05-05T01:30:27+0000 lvl=info msg=\"join connections\" obj=join id=c1188386ca6d l=127.0.0.1:8237 r=197.22.215.157:7782\n"
          ]
        },
        {
          "output_type": "stream",
          "name": "stdout",
          "text": [
            "\u001b[32mINFO\u001b[0m:     197.22.215.157:0 - \"\u001b[1mGET /assets/database-Dj4E8VCy.js HTTP/1.1\u001b[0m\" \u001b[32m200 OK\u001b[0m\n",
            "\u001b[1;35mt=2024-05-05T01:30:27+0000 lvl=info msg=\"join connections\" obj=join id=c1188386ca6d l=127.0.0.1:8237 r=197.22.215.157:7782\u001b[0m\n"
          ]
        },
        {
          "output_type": "stream",
          "name": "stderr",
          "text": [
            "INFO:pyngrok.process.ngrok:t=2024-05-05T01:30:27+0000 lvl=info msg=\"join connections\" obj=join id=77b856199779 l=127.0.0.1:8237 r=197.22.215.157:7782\n"
          ]
        },
        {
          "output_type": "stream",
          "name": "stdout",
          "text": [
            "\u001b[1;35mt=2024-05-05T01:30:27+0000 lvl=info msg=\"join connections\" obj=join id=77b856199779 l=127.0.0.1:8237 r=197.22.215.157:7782\u001b[0m\n"
          ]
        },
        {
          "output_type": "stream",
          "name": "stderr",
          "text": [
            "INFO:pyngrok.process.ngrok:t=2024-05-05T01:30:27+0000 lvl=info msg=\"join connections\" obj=join id=a4184a18e0bc l=127.0.0.1:8237 r=197.22.215.157:7782\n"
          ]
        },
        {
          "output_type": "stream",
          "name": "stdout",
          "text": [
            "\u001b[1;35mt=2024-05-05T01:30:27+0000 lvl=info msg=\"join connections\" obj=join id=a4184a18e0bc l=127.0.0.1:8237 r=197.22.215.157:7782\u001b[0m\n",
            "\u001b[32mINFO\u001b[0m:     197.22.215.157:0 - \"\u001b[1mGET /assets/Error-CEUGb4yn.js HTTP/1.1\u001b[0m\" \u001b[32m200 OK\u001b[0m\n",
            "\u001b[32mINFO\u001b[0m:     197.22.215.157:0 - \"\u001b[1mGET /assets/EmptyState-PtKve-r-.js HTTP/1.1\u001b[0m\" \u001b[32m200 OK\u001b[0m\n",
            "\u001b[32mINFO\u001b[0m:     197.22.215.157:0 - \"\u001b[1mGET /assets/Infobox-KGxvgilj.js HTTP/1.1\u001b[0m\" \u001b[32m200 OK\u001b[0m\n",
            "\u001b[1;35mGot token from cookie\u001b[0m\n",
            "\u001b[1;35mGot token from cookie\u001b[0m\n",
            "\u001b[32mINFO\u001b[0m:     197.22.215.157:0 - \"\u001b[1mGET /api/v1/runs/0f852dd9-223a-4eba-85fa-acb38ce542e2 HTTP/1.1\u001b[0m\" \u001b[32m200 OK\u001b[0m\n",
            "\u001b[32mINFO\u001b[0m:     197.22.215.157:0 - \"\u001b[1mGET /api/v1/runs/0f852dd9-223a-4eba-85fa-acb38ce542e2/graph HTTP/1.1\u001b[0m\" \u001b[32m200 OK\u001b[0m\n",
            "\u001b[1;35mGot token from cookie\u001b[0m\n",
            "\u001b[32mINFO\u001b[0m:     197.22.215.157:0 - \"\u001b[1mGET /api/v1/stacks/97f71ef5-a4c1-4e3a-90cc-ef9432bdfb0b HTTP/1.1\u001b[0m\" \u001b[32m200 OK\u001b[0m\n"
          ]
        },
        {
          "output_type": "stream",
          "name": "stderr",
          "text": [
            "INFO:pyngrok.process.ngrok:t=2024-05-05T01:30:45+0000 lvl=info msg=\"join connections\" obj=join id=a1874cf47299 l=127.0.0.1:8237 r=197.22.215.157:7877\n"
          ]
        },
        {
          "output_type": "stream",
          "name": "stdout",
          "text": [
            "\u001b[1;35mt=2024-05-05T01:30:45+0000 lvl=info msg=\"join connections\" obj=join id=a1874cf47299 l=127.0.0.1:8237 r=197.22.215.157:7877\u001b[0m\n",
            "\u001b[1;35mGot token from cookie\u001b[0m\n",
            "\u001b[32mINFO\u001b[0m:     197.22.215.157:0 - \"\u001b[1mGET /api/v1/runs/0f852dd9-223a-4eba-85fa-acb38ce542e2 HTTP/1.1\u001b[0m\" \u001b[32m200 OK\u001b[0m\n"
          ]
        },
        {
          "output_type": "stream",
          "name": "stderr",
          "text": [
            "INFO:pyngrok.process.ngrok:t=2024-05-05T01:30:52+0000 lvl=info msg=\"join connections\" obj=join id=eaa21b3c75ce l=127.0.0.1:8237 r=197.22.215.157:7877\n"
          ]
        },
        {
          "output_type": "stream",
          "name": "stdout",
          "text": [
            "\u001b[1;35mt=2024-05-05T01:30:52+0000 lvl=info msg=\"join connections\" obj=join id=eaa21b3c75ce l=127.0.0.1:8237 r=197.22.215.157:7877\u001b[0m\n",
            "\u001b[32mINFO\u001b[0m:     197.22.215.157:0 - \"\u001b[1mGET /assets/page-BffaRWF9.js HTTP/1.1\u001b[0m\" \u001b[32m200 OK\u001b[0m\n",
            "\u001b[32mINFO\u001b[0m:     197.22.215.157:0 - \"\u001b[1mGET /assets/cloud-only-D2aanxkD.js HTTP/1.1\u001b[0m\" \u001b[32m200 OK\u001b[0m\n",
            "\u001b[32mINFO\u001b[0m:     197.22.215.157:0 - \"\u001b[1mGET /assets/mcp-ocoXuQwQ.png HTTP/1.1\u001b[0m\" \u001b[32m200 OK\u001b[0m\n"
          ]
        },
        {
          "output_type": "stream",
          "name": "stderr",
          "text": [
            "INFO:pyngrok.process.ngrok:t=2024-05-05T01:32:25+0000 lvl=info msg=\"received stop request\" obj=app stopReq=\"{err:<nil> restart:false}\"\n"
          ]
        },
        {
          "output_type": "stream",
          "name": "stdout",
          "text": [
            "\u001b[1;35mt=2024-05-05T01:32:25+0000 lvl=info msg=\"received stop request\" obj=app stopReq=\"{err:<nil> restart:false}\"\u001b[0m\n"
          ]
        },
        {
          "output_type": "stream",
          "name": "stderr",
          "text": [
            "INFO:pyngrok.process.ngrok:t=2024-05-05T01:32:25+0000 lvl=info msg=\"session closing\" obj=tunnels.session err=nil\n"
          ]
        },
        {
          "output_type": "stream",
          "name": "stdout",
          "text": [
            "\u001b[1;35mt=2024-05-05T01:32:25+0000 lvl=info msg=\"session closing\" obj=tunnels.session err=nil\u001b[0m\n",
            "\u001b[32mINFO\u001b[0m:     Shutting down\n",
            "\u001b[32mINFO\u001b[0m:     Finished server process [\u001b[36m31396\u001b[0m]\n",
            "\u001b[31mERROR\u001b[0m:    Traceback (most recent call last):\n",
            "  File \"/usr/lib/python3.10/asyncio/runners.py\", line 44, in run\n",
            "    return loop.run_until_complete(main)\n",
            "  File \"uvloop/loop.pyx\", line 1511, in uvloop.loop.Loop.run_until_complete\n",
            "  File \"uvloop/loop.pyx\", line 1504, in uvloop.loop.Loop.run_until_complete\n",
            "  File \"uvloop/loop.pyx\", line 1377, in uvloop.loop.Loop.run_forever\n",
            "  File \"uvloop/loop.pyx\", line 555, in uvloop.loop.Loop._run\n",
            "  File \"uvloop/loop.pyx\", line 474, in uvloop.loop.Loop._on_idle\n",
            "  File \"uvloop/cbhandles.pyx\", line 83, in uvloop.loop.Handle._run\n",
            "  File \"uvloop/cbhandles.pyx\", line 63, in uvloop.loop.Handle._run\n",
            "  File \"/usr/local/lib/python3.10/dist-packages/uvicorn/server.py\", line 68, in serve\n",
            "    with self.capture_signals():\n",
            "  File \"/usr/lib/python3.10/contextlib.py\", line 142, in __exit__\n",
            "    next(self.gen)\n",
            "  File \"/usr/local/lib/python3.10/dist-packages/uvicorn/server.py\", line 328, in capture_signals\n",
            "    signal.raise_signal(captured_signal)\n",
            "KeyboardInterrupt\n",
            "\n",
            "During handling of the above exception, another exception occurred:\n",
            "\n",
            "Traceback (most recent call last):\n",
            "  File \"/usr/local/lib/python3.10/dist-packages/starlette/routing.py\", line 741, in lifespan\n",
            "    await receive()\n",
            "  File \"/usr/local/lib/python3.10/dist-packages/uvicorn/lifespan/on.py\", line 137, in receive\n",
            "    return await self.receive_queue.get()\n",
            "  File \"/usr/lib/python3.10/asyncio/queues.py\", line 159, in get\n",
            "    await getter\n",
            "asyncio.exceptions.CancelledError\n",
            "\n",
            "\u001b[1;35mZenML Server stopped. Resuming normal execution.\u001b[0m\n"
          ]
        }
      ]
    },
    {
      "cell_type": "code",
      "source": [],
      "metadata": {
        "id": "HEO5vWw-EC6d"
      },
      "execution_count": null,
      "outputs": []
    }
  ]
}