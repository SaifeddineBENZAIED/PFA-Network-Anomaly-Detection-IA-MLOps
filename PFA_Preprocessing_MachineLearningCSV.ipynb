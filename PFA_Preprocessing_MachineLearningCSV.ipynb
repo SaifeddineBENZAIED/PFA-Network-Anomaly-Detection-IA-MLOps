{
  "nbformat": 4,
  "nbformat_minor": 0,
  "metadata": {
    "colab": {
      "provenance": []
    },
    "kernelspec": {
      "name": "python3",
      "display_name": "Python 3"
    },
    "language_info": {
      "name": "python"
    }
  },
  "cells": [
    {
      "cell_type": "code",
      "execution_count": null,
      "metadata": {
        "colab": {
          "base_uri": "https://localhost:8080/"
        },
        "id": "cne9hvxLToKO",
        "outputId": "ec728f0c-f0ea-4753-d0ad-30969ed99608"
      },
      "outputs": [
        {
          "output_type": "stream",
          "name": "stdout",
          "text": [
            "Drive already mounted at /content/drive; to attempt to forcibly remount, call drive.mount(\"/content/drive\", force_remount=True).\n"
          ]
        }
      ],
      "source": [
        "from google.colab import drive\n",
        "drive.mount(\"/content/drive\")"
      ]
    },
    {
      "cell_type": "code",
      "source": [
        "!unzip -n \"/content/drive/MyDrive/PFA_codes/DataSets/archive.zip\""
      ],
      "metadata": {
        "colab": {
          "base_uri": "https://localhost:8080/"
        },
        "id": "RiMyUicVTsEC",
        "outputId": "6578867a-f2e7-487f-fb6d-c8d93b56c59c"
      },
      "execution_count": null,
      "outputs": [
        {
          "output_type": "stream",
          "name": "stdout",
          "text": [
            "Archive:  /content/drive/MyDrive/PFA_codes/DataSets/archive.zip\n",
            "  inflating: MachineLearningCSV.md5  \n",
            "  inflating: MachineLearningCSV/MachineLearningCVE/Friday-WorkingHours-Afternoon-DDos.pcap_ISCX.csv  \n",
            "  inflating: MachineLearningCSV/MachineLearningCVE/Friday-WorkingHours-Afternoon-PortScan.pcap_ISCX.csv  \n",
            "  inflating: MachineLearningCSV/MachineLearningCVE/Friday-WorkingHours-Morning.pcap_ISCX.csv  \n",
            "  inflating: MachineLearningCSV/MachineLearningCVE/Monday-WorkingHours.pcap_ISCX.csv  \n",
            "  inflating: MachineLearningCSV/MachineLearningCVE/Thursday-WorkingHours-Afternoon-Infilteration.pcap_ISCX.csv  \n",
            "  inflating: MachineLearningCSV/MachineLearningCVE/Thursday-WorkingHours-Morning-WebAttacks.pcap_ISCX.csv  \n",
            "  inflating: MachineLearningCSV/MachineLearningCVE/Tuesday-WorkingHours.pcap_ISCX.csv  \n",
            "  inflating: MachineLearningCSV/MachineLearningCVE/Wednesday-workingHours.pcap_ISCX.csv  \n"
          ]
        }
      ]
    },
    {
      "cell_type": "code",
      "source": [
        "import os\n",
        "import pandas as pd"
      ],
      "metadata": {
        "id": "glsDLZNqT_WA"
      },
      "execution_count": null,
      "outputs": []
    },
    {
      "cell_type": "code",
      "source": [
        "file_name = os.path.join(\"MachineLearningCSV\", \"MachineLearningCVE\", \"Thursday-WorkingHours-Morning-WebAttacks.pcap_ISCX.csv\")\n",
        "\n",
        "# Read dataset\n",
        "df = pd.read_csv(file_name, skipinitialspace=True, error_bad_lines=False)"
      ],
      "metadata": {
        "colab": {
          "base_uri": "https://localhost:8080/"
        },
        "id": "AVZ9gOmHUFI_",
        "outputId": "66c64e26-b6c1-42e2-adcb-ab54ca735cf8"
      },
      "execution_count": null,
      "outputs": [
        {
          "output_type": "stream",
          "name": "stderr",
          "text": [
            "<ipython-input-5-5f5a3b13c0ff>:4: FutureWarning: The error_bad_lines argument has been deprecated and will be removed in a future version. Use on_bad_lines in the future.\n",
            "\n",
            "\n",
            "  df = pd.read_csv(file_name, skipinitialspace=True, error_bad_lines=False)\n"
          ]
        }
      ]
    },
    {
      "cell_type": "code",
      "source": [
        "def _renaming_class_label(df: pd.DataFrame):\n",
        "    labels = {\"Web Attack � Brute Force\": \"Web Attack-Brute Force\",\n",
        "              \"Web Attack � XSS\": \"Web Attack-XSS\",\n",
        "              \"Web Attack � Sql Injection\": \"Web Attack-Sql Injection\"}\n",
        "\n",
        "    for old_label, new_label in labels.items():\n",
        "        df.Label.replace(old_label, new_label, inplace=True)\n",
        "\n",
        "# Renaming labels\n",
        "_renaming_class_label(df)"
      ],
      "metadata": {
        "id": "133I1B-VUFsG"
      },
      "execution_count": null,
      "outputs": []
    },
    {
      "cell_type": "code",
      "source": [
        "# Save to csv\n",
        "df.to_csv(file_name, index=False)"
      ],
      "metadata": {
        "id": "nTMduABoUKDy"
      },
      "execution_count": null,
      "outputs": []
    },
    {
      "cell_type": "code",
      "source": [
        "DIR_PATH = \"MachineLearningCSV/MachineLearningCVE\"\n",
        "\n",
        "FILE_NAMES = [\"Monday-WorkingHours.pcap_ISCX.csv\",\n",
        "              \"Tuesday-WorkingHours.pcap_ISCX.csv\",\n",
        "              \"Wednesday-workingHours.pcap_ISCX.csv\",\n",
        "              \"Thursday-WorkingHours-Morning-WebAttacks.pcap_ISCX.csv\",\n",
        "              \"Thursday-WorkingHours-Afternoon-Infilteration.pcap_ISCX.csv\",\n",
        "              \"Friday-WorkingHours-Morning.pcap_ISCX.csv\",\n",
        "              \"Friday-WorkingHours-Afternoon-PortScan.pcap_ISCX.csv\",\n",
        "              \"Friday-WorkingHours-Afternoon-DDos.pcap_ISCX.csv\"]"
      ],
      "metadata": {
        "id": "UBWL_m_gUPYN"
      },
      "execution_count": null,
      "outputs": []
    },
    {
      "cell_type": "code",
      "source": [
        "df = [pd.read_csv(os.path.join(DIR_PATH, f), skipinitialspace=True) for f in FILE_NAMES]\n",
        "df = pd.concat(df, ignore_index=True)"
      ],
      "metadata": {
        "id": "8FSO3DwyUQRd"
      },
      "execution_count": null,
      "outputs": []
    },
    {
      "cell_type": "code",
      "source": [
        "df.Label.value_counts()"
      ],
      "metadata": {
        "colab": {
          "base_uri": "https://localhost:8080/"
        },
        "id": "rRB_2hvGUSzi",
        "outputId": "eec8bf99-3a15-4455-89a0-45dcfdd6343d"
      },
      "execution_count": null,
      "outputs": [
        {
          "output_type": "execute_result",
          "data": {
            "text/plain": [
              "BENIGN                      2273097\n",
              "DoS Hulk                     231073\n",
              "PortScan                     158930\n",
              "DDoS                         128027\n",
              "DoS GoldenEye                 10293\n",
              "FTP-Patator                    7938\n",
              "SSH-Patator                    5897\n",
              "DoS slowloris                  5796\n",
              "DoS Slowhttptest               5499\n",
              "Bot                            1966\n",
              "Web Attack-Brute Force         1507\n",
              "Web Attack-XSS                  652\n",
              "Infiltration                     36\n",
              "Web Attack-Sql Injection         21\n",
              "Heartbleed                       11\n",
              "Name: Label, dtype: int64"
            ]
          },
          "metadata": {},
          "execution_count": 12
        }
      ]
    },
    {
      "cell_type": "code",
      "source": [
        "df.to_csv(os.path.join(DIR_PATH, \"MachineLearningCVE.csv\"), index=False)"
      ],
      "metadata": {
        "id": "e1IA9jtsUYJp"
      },
      "execution_count": null,
      "outputs": []
    },
    {
      "cell_type": "code",
      "source": [
        "!cp -r \"MachineLearningCSV/MachineLearningCVE/\" \"/content/drive/MyDrive/PFA_codes/DataSets/CICIDS2017/\""
      ],
      "metadata": {
        "id": "kXeXRghKUbWa"
      },
      "execution_count": null,
      "outputs": []
    }
  ]
}