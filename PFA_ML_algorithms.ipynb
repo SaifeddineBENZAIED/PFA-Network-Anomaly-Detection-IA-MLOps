{
 "cells": [
  {
   "cell_type": "code",
   "execution_count": 2,
   "id": "71f1ee22",
   "metadata": {},
   "outputs": [
    {
     "name": "stdout",
     "output_type": "stream",
     "text": [
      "Please visit this URL to authorize this application: https://accounts.google.com/o/oauth2/auth?response_type=code&client_id=1048289826887-9kdehkbecc9otgj98jg0jjvo8nrgvbm3.apps.googleusercontent.com&redirect_uri=http%3A%2F%2Flocalhost%3A50323%2F&scope=https%3A%2F%2Fwww.googleapis.com%2Fauth%2Fdrive&state=FlddEN5MeqJG7hnpvN0vT8R6jvOVgH&access_type=offline\n"
     ]
    }
   ],
   "source": [
    "from google_auth_oauthlib.flow import InstalledAppFlow\n",
    "from googleapiclient.discovery import build\n",
    "from google.auth.transport.requests import Request\n",
    "import os\n",
    "import pickle\n",
    "\n",
    "# Scope defines the level of access you need\n",
    "SCOPES = ['https://www.googleapis.com/auth/drive']\n",
    "\n",
    "creds = None\n",
    "# The file token.pickle stores the user's access and refresh tokens, and is\n",
    "# created automatically when the authorization flow completes for the first\n",
    "# time.\n",
    "if os.path.exists('token.pickle'):\n",
    "    with open('token.pickle', 'rb') as token:\n",
    "        creds = pickle.load(token)\n",
    "# If there are no (valid) credentials available, let the user log in.\n",
    "if not creds or not creds.valid:\n",
    "    if creds and creds.expired and creds.refresh_token:\n",
    "        creds.refresh(Request())\n",
    "    else:\n",
    "        flow = InstalledAppFlow.from_client_secrets_file(\n",
    "            'credentials.json', SCOPES)\n",
    "        creds = flow.run_local_server(port=0)\n",
    "    # Save the credentials for the next run\n",
    "    with open('token.pickle', 'wb') as token:\n",
    "        pickle.dump(creds, token)\n",
    "\n",
    "service = build('drive', 'v3', credentials=creds)"
   ]
  },
  {
   "cell_type": "code",
   "execution_count": 3,
   "id": "1b9aa1b0",
   "metadata": {},
   "outputs": [
    {
     "name": "stdout",
     "output_type": "stream",
     "text": [
      "Files:\n",
      "DataSets (1R5KKeNFyJGT1qUn-r-gSHAhrCS1m_t66)\n"
     ]
    }
   ],
   "source": [
    "def list_files_in_folder(folder_id):\n",
    "    query = f\"'{folder_id}' in parents\"\n",
    "    results = service.files().list(q=query, fields=\"files(id, name)\").execute()\n",
    "    items = results.get('files', [])\n",
    "    if not items:\n",
    "        print('No files found.')\n",
    "    else:\n",
    "        print('Files:')\n",
    "        for item in items:\n",
    "            print(u'{0} ({1})'.format(item['name'], item['id']))\n",
    "\n",
    "# Replace YOUR_FOLDER_ID with your actual folder ID\n",
    "list_files_in_folder('1Ap_ZH6vhoRpRxzu1eTdrpithBZKmBGE9')"
   ]
  },
  {
   "cell_type": "code",
   "execution_count": 4,
   "id": "68afc280",
   "metadata": {},
   "outputs": [],
   "source": [
    "def find_file_id_by_path(service, path, parent_id='root'):\n",
    "    \"\"\"\n",
    "    Find a file ID by its path.\n",
    "    \"\"\"\n",
    "    parts = path.strip('/').split('/')\n",
    "    file_id = parent_id\n",
    "    for part in parts:\n",
    "        # Search for the file by name and parent ID\n",
    "        query = f\"'{file_id}' in parents and name = '{part}' and trashed = false\"\n",
    "        response = service.files().list(q=query, spaces='drive', fields='files(id, name)').execute()\n",
    "        files = response.get('files', [])\n",
    "        if not files:\n",
    "            print(f\"No file found for part '{part}'.\")\n",
    "            return None\n",
    "        file_id = files[0]['id']\n",
    "    return file_id\n"
   ]
  },
  {
   "cell_type": "code",
   "execution_count": 5,
   "id": "4b090390",
   "metadata": {},
   "outputs": [],
   "source": [
    "def download_file_by_id(service, file_id):\n",
    "    \"\"\"\n",
    "    Download a file's content by its file ID.\n",
    "    \"\"\"\n",
    "    request = service.files().get_media(fileId=file_id)\n",
    "    fh = io.BytesIO()\n",
    "    downloader = MediaIoBaseDownload(fh, request)\n",
    "    done = False\n",
    "    while done is False:\n",
    "        status, done = downloader.next_chunk()\n",
    "        print(\"Download %d%%.\" % int(status.progress() * 100))\n",
    "    fh.seek(0)\n",
    "    return fh.read()\n"
   ]
  },
  {
   "cell_type": "code",
   "execution_count": 6,
   "id": "a58c28dc",
   "metadata": {},
   "outputs": [],
   "source": [
    "from googleapiclient.discovery import build\n",
    "from google_auth_oauthlib.flow import InstalledAppFlow\n",
    "from google.auth.transport.requests import Request\n",
    "import io\n",
    "from googleapiclient.http import MediaIoBaseDownload\n",
    "import pickle\n",
    "\n",
    "def download_file(service, file_id):\n",
    "    \"\"\"\n",
    "    Download a file from Google Drive specified by file_id.\n",
    "    \"\"\"\n",
    "    request = service.files().get_media(fileId=file_id)\n",
    "    fh = io.BytesIO()\n",
    "    downloader = MediaIoBaseDownload(fh, request)\n",
    "    done = False\n",
    "    while not done:\n",
    "        _, done = downloader.next_chunk()\n",
    "\n",
    "    fh.seek(0)\n",
    "    return fh.getvalue()\n"
   ]
  },
  {
   "cell_type": "code",
   "execution_count": 7,
   "id": "27a3872c",
   "metadata": {},
   "outputs": [],
   "source": [
    "import pandas as pd\n",
    "\n",
    "def download_file_as_dataframe(service, file_id):\n",
    "    file_content = download_file(service, file_id)\n",
    "    return pd.read_csv(io.BytesIO(file_content))\n"
   ]
  },
  {
   "cell_type": "code",
   "execution_count": 10,
   "id": "b250713d",
   "metadata": {},
   "outputs": [],
   "source": [
    "import numpy as np\n",
    "import tensorflow as tf\n",
    "import matplotlib.pyplot as plt\n",
    "\n",
    "from sklearn.metrics import classification_report\n",
    "from sklearn.preprocessing import MinMaxScaler\n",
    "\n",
    "import pandas as pd\n",
    "import tensorflow.keras as keras\n",
    "\n",
    "\n",
    "def preprocessing(df: pd.DataFrame) -> (np.ndarray, np.ndarray):\n",
    "    # Shuffle the dataset\n",
    "    df = df.sample(frac=1)\n",
    "\n",
    "    # Split features and labels\n",
    "    x = df.iloc[:, df.columns != 'Label']\n",
    "    y = df[['Label']].to_numpy()\n",
    "\n",
    "    # Scale the features between 0 ~ 1\n",
    "    scaler = MinMaxScaler()\n",
    "    x = scaler.fit_transform(x)\n",
    "\n",
    "    return x, y\n",
    "\n",
    "def plot_history(history: tf.keras.callbacks.History, ii: str):\n",
    "    # summarize history for accuracy\n",
    "    plt.plot(history.history['sparse_categorical_accuracy'])\n",
    "    plt.plot(history.history['val_sparse_categorical_accuracy'])\n",
    "    plt.title('model '+str(ii)+' accuracy')\n",
    "    plt.ylabel('accuracy')\n",
    "    plt.xlabel('epoch')\n",
    "    plt.legend(['train', 'test'], loc='upper left')\n",
    "    plt.show()\n",
    "\n",
    "    # summarize history for loss\n",
    "    plt.plot(history.history['loss'])\n",
    "    plt.plot(history.history['val_loss'])\n",
    "    plt.title('model '+str(ii)+' loss')\n",
    "    plt.ylabel('loss')\n",
    "    plt.xlabel('epoch')\n",
    "    plt.legend(['train', 'test'], loc='upper left')\n",
    "    plt.show()\n",
    "\n",
    "def evaluation(model: keras.Model, x_test: np.ndarray, y_test: np.ndarray):\n",
    "    score = model.evaluate(x_test, y_test, verbose=False)\n",
    "    print('Evaluation:\\nLoss: {}\\nAccuracy : {}\\n'.format(score[0], score[1]))\n",
    "\n",
    "    # F1 score\n",
    "    #y_pred = model.predict(x_test, batch_size=1024, verbose=False)\n",
    "    y_pred = model.predict(x_test, batch_size=512, verbose=False)\n",
    "    y_pred = np.argmax(y_pred, axis=1)\n",
    "\n",
    "    print(\"\\n{}\".format(classification_report(y_test, y_pred)))"
   ]
  },
  {
   "cell_type": "code",
   "execution_count": 11,
   "id": "ee1bef4d",
   "metadata": {},
   "outputs": [],
   "source": [
    "def upload_model_to_drive(service, file_name, folder_id, mime_type='application/octet-stream'):\n",
    "    file_metadata = {'name': os.path.basename(file_name), 'parents': [folder_id]}\n",
    "    media = MediaFileUpload(file_name, mimetype=mime_type)\n",
    "    file = service.files().create(body=file_metadata, media_body=media, fields='id').execute()\n",
    "    print('Uploaded File ID: %s' % file.get('id'))"
   ]
  },
  {
   "cell_type": "code",
   "execution_count": 12,
   "id": "948fc84a",
   "metadata": {},
   "outputs": [
    {
     "name": "stdout",
     "output_type": "stream",
     "text": [
      "   Destination Port  Flow Duration  Total Fwd Packets  Total Backward Packets  \\\n",
      "0              80.0      5237610.0                4.0                     4.0   \n",
      "1              53.0       333394.0                1.0                     1.0   \n",
      "2             443.0       103990.0               10.0                     5.0   \n",
      "3              53.0        23559.0                1.0                     1.0   \n",
      "4              80.0     97934363.0               18.0                    16.0   \n",
      "\n",
      "   Total Length of Fwd Packets  Total Length of Bwd Packets  \\\n",
      "0                       1178.0                        354.0   \n",
      "1                         46.0                         62.0   \n",
      "2                        966.0                       1631.0   \n",
      "3                         43.0                         59.0   \n",
      "4                        868.0                       3925.0   \n",
      "\n",
      "   Fwd Packet Length Max  Fwd Packet Length Min  Fwd Packet Length Mean  \\\n",
      "0                 1178.0                    0.0              294.500000   \n",
      "1                   46.0                   46.0               46.000000   \n",
      "2                  725.0                    0.0               96.600000   \n",
      "3                   43.0                   43.0               43.000000   \n",
      "4                  434.0                    0.0               48.222222   \n",
      "\n",
      "   Fwd Packet Length Std  ...  min_seg_size_forward    Active Mean  \\\n",
      "0             589.000000  ...                  32.0       0.000000   \n",
      "1               0.000000  ...                  20.0       0.000000   \n",
      "2             225.474413  ...                  32.0       0.000000   \n",
      "3               0.000000  ...                  32.0       0.000000   \n",
      "4             140.347282  ...                  32.0  672497.444444   \n",
      "\n",
      "     Active Std  Active Max  Active Min     Idle Mean      Idle Std  \\\n",
      "0  0.000000e+00         0.0         0.0  0.000000e+00      0.000000   \n",
      "1  0.000000e+00         0.0         0.0  0.000000e+00      0.000000   \n",
      "2  0.000000e+00         0.0         0.0  0.000000e+00      0.000000   \n",
      "3  0.000000e+00         0.0         0.0  0.000000e+00      0.000000   \n",
      "4  1.598872e+06   4839370.0     22943.0  1.019392e+07  67335.731202   \n",
      "\n",
      "     Idle Max    Idle Min  Label  \n",
      "0         0.0         0.0    0.0  \n",
      "1         0.0         0.0    0.0  \n",
      "2         0.0         0.0    0.0  \n",
      "3         0.0         0.0    0.0  \n",
      "4  10217054.0  10014386.0    0.0  \n",
      "\n",
      "[5 rows x 79 columns]\n"
     ]
    }
   ],
   "source": [
    "from sklearn import metrics\n",
    "from sklearn.discriminant_analysis import QuadraticDiscriminantAnalysis as QDA\n",
    "from sklearn.ensemble import ExtraTreesClassifier\n",
    "from sklearn.ensemble import RandomForestClassifier, AdaBoostClassifier\n",
    "from sklearn.metrics import average_precision_score\n",
    "from sklearn.metrics import confusion_matrix\n",
    "from sklearn.model_selection import train_test_split\n",
    "from sklearn.naive_bayes import GaussianNB\n",
    "from sklearn.neighbors import KNeighborsClassifier\n",
    "from sklearn.neural_network import MLPClassifier\n",
    "from sklearn.tree import DecisionTreeClassifier\n",
    "\n",
    "from sklearn.metrics import f1_score\n",
    "from sklearn.metrics import recall_score\n",
    "from sklearn.metrics import precision_score\n",
    "\n",
    "\n",
    "\n",
    "            \n",
    "import matplotlib.pyplot as plt\n",
    "import numpy as np\n",
    "%matplotlib inline\n",
    "import os\n",
    "import pandas as pd\n",
    "import csv\n",
    "import time\n",
    "import warnings\n",
    "import math\n",
    "warnings.filterwarnings(\"ignore\")\n",
    "\n",
    "\n",
    "result=\"C:/Users/benzaied saif/Desktop/model/ML_algos/results_for_ml_algo.csv\" #a CSV file is named in which the results are saved.\n",
    "# Replace 'YOUR_FILE_ID' with the actual file ID\n",
    "file_id = '1ZLpmbcBSIfyKlZGHO2tuVk3xGK8J_cBy'\n",
    "df = download_file_as_dataframe(service, file_id)\n",
    "print(df.head())\n",
    "\n",
    "path=\"\"\n",
    "repetition=10\n",
    "\n",
    "\n",
    "def folder(f_name): #this function creates a folder named \"results\" and \"result_graph_1\" in the program directory.\n",
    "    try:\n",
    "        if not os.path.exists(f_name):\n",
    "            os.makedirs(f_name)\n",
    "    except OSError:\n",
    "        print (\"The folder could not be created!\")\n",
    "\n",
    "folder_name=\"C:/Users/benzaied saif/Desktop/model/ML_algos/\"\n",
    "folder(folder_name)\n",
    "folder_name=\"C:/Users/benzaied saif/Desktop/model/ML_algos/result_graph_ML_algos/\"\n",
    "folder(folder_name)\n",
    "\n",
    "\n",
    "#The machine learning algorithms to be used are defined in a dictionary (ml_list).\n",
    "ml_list={\n",
    "\"Naive Bayes\":GaussianNB(),\n",
    "\"QDA\":QDA(),\n",
    "\"Random Forest\":RandomForestClassifier(max_depth=5, n_estimators=10, max_features=1),\n",
    "\"ID3\" :DecisionTreeClassifier(max_depth=5,criterion=\"entropy\"),\n",
    "\"AdaBoost\":AdaBoostClassifier(),\n",
    "\"MLP\":MLPClassifier(hidden_layer_sizes=(13,13,13),max_iter=500),\n",
    "\"Nearest Neighbors\":KNeighborsClassifier(3)}\n",
    "\n",
    "\n",
    "seconds=time.time()#time stamp for all processing time\n",
    "\n",
    "\n",
    "\n",
    "\n",
    "\n",
    "\n",
    "with open(result, \"w\", newline=\"\",encoding=\"utf-8\") as f:#a CSV file is created to save the results obtained.\n",
    "    wrt = csv.writer(f)\n",
    "    wrt.writerow([\"ML algorithm\",\"accuracy\",\"Precision\", \"Recall\" , \"F1-score\",\"Time\"])\n",
    "\n",
    "\n"
   ]
  },
  {
   "cell_type": "code",
   "execution_count": 13,
   "id": "351fb94b",
   "metadata": {},
   "outputs": [],
   "source": [
    "X, Y = preprocessing(df)\n",
    "del df"
   ]
  },
  {
   "cell_type": "code",
   "execution_count": 18,
   "id": "98263943",
   "metadata": {},
   "outputs": [
    {
     "name": "stdout",
     "output_type": "stream",
     "text": [
      "ML algorithm       accuracy        Precision       Recall          F1-score        Time           \n",
      "Naive Bayes        0.71            0.44            0.78            0.47            11.4892        \n"
     ]
    },
    {
     "data": {
      "image/png": "[encoded data removed]",
      "text/plain": [
       "<Figure size 432x288 with 1 Axes>"
      ]
     },
     "metadata": {
      "needs_background": "light"
     },
     "output_type": "display_data"
    },
    {
     "name": "stdout",
     "output_type": "stream",
     "text": [
      "QDA                0.96            0.59            0.72            0.61            128.7366       \n"
     ]
    },
    {
     "data": {
      "image/png": "[encoded data removed]",
      "text/plain": [
       "<Figure size 432x288 with 1 Axes>"
      ]
     },
     "metadata": {
      "needs_background": "light"
     },
     "output_type": "display_data"
    },
    {
     "name": "stdout",
     "output_type": "stream",
     "text": [
      "Random Forest      0.91            0.25            0.17            0.19            11.1978        \n"
     ]
    },
    {
     "data": {
      "image/png": "[encoded data removed]",
      "text/plain": [
       "<Figure size 432x288 with 1 Axes>"
      ]
     },
     "metadata": {
      "needs_background": "light"
     },
     "output_type": "display_data"
    },
    {
     "name": "stdout",
     "output_type": "stream",
     "text": [
      "ID3                0.97            0.57            0.48            0.51            25.3901        \n"
     ]
    },
    {
     "data": {
      "image/png": "[encoded data removed]",
      "text/plain": [
       "<Figure size 432x288 with 1 Axes>"
      ]
     },
     "metadata": {
      "needs_background": "light"
     },
     "output_type": "display_data"
    },
    {
     "name": "stdout",
     "output_type": "stream",
     "text": [
      "AdaBoost           0.87            0.1             0.11            0.11            293.5021       \n"
     ]
    },
    {
     "data": {
      "image/png": "[encoded data removed]",
      "text/plain": [
       "<Figure size 432x288 with 1 Axes>"
      ]
     },
     "metadata": {
      "needs_background": "light"
     },
     "output_type": "display_data"
    },
    {
     "name": "stdout",
     "output_type": "stream",
     "text": [
      "MLP                0.99            0.73            0.64            0.65            936.2211       \n"
     ]
    },
    {
     "data": {
      "image/png": "[encoded data removed]",
      "text/plain": [
       "<Figure size 432x288 with 1 Axes>"
      ]
     },
     "metadata": {
      "needs_background": "light"
     },
     "output_type": "display_data"
    },
    {
     "name": "stdout",
     "output_type": "stream",
     "text": [
      "Nearest Neighbors  0.99            0.79            0.78            0.79            11383.7676     \n"
     ]
    },
    {
     "data": {
      "image/png": "[encoded data removed]",
      "text/plain": [
       "<Figure size 432x288 with 1 Axes>"
      ]
     },
     "metadata": {
      "needs_background": "light"
     },
     "output_type": "display_data"
    },
    {
     "name": "stdout",
     "output_type": "stream",
     "text": [
      "*** TRAINING FINISH ***\n",
      "Total operation time: =  128669.90987038612 seconds\n"
     ]
    }
   ],
   "source": [
    "print ('%-17s  %-15s %-15s %-15s %-15s %-15s' % (\"ML algorithm\",\"accuracy\",\"Precision\", \"Recall\" , \"F1-score\",\"Time\"))# print output header \n",
    "\n",
    "for ii in ml_list: #this loop runs on the list containing the machine learning algorithm names. Operations are repeated for all the 7 algorithm\n",
    "        precision=[]\n",
    "        recall=[]\n",
    "        f1=[]\n",
    "        accuracy=[]\n",
    "        t_time=[]\n",
    "        for i in range(repetition): # This loop allows cross-validation and machine learning algorithm to be repeated 10 times\n",
    "            second=time.time()#time stamp for processing time\n",
    "\n",
    "            # cross-validation\n",
    "            X_train, X_test, y_train, y_test = train_test_split(X, Y,#  data (X) and labels (y) are divided into 2 parts to be sent to the machine learning algorithm (80% train,%20 test). \n",
    "                test_size = 0.20, random_state = repetition)#  So, in total there are 4 tracks: training data(X_train), training tag (y_train), test data(X_test) and test tag(y_test).\n",
    "\n",
    "\n",
    "            #machine learning algorithm is applied in this section\n",
    "            model = ml_list[ii]#choose algorithm from ml_list dictionary                                                                          \n",
    "            model.fit(X_train, y_train)\n",
    "            predict =model.predict(X_test)\n",
    "            \n",
    "            \"\"\"# Save the full model\n",
    "            model.save(os.path.join(r\"C:/Users/benzaied saif/Desktop/model/ML_algos/\", str(ii)+\"_full_model.h5\"))\n",
    "            \n",
    "            upload_model_to_drive(service, os.path.join(r\"C:/Users/benzaied saif/Desktop/model/ML_algos/\", str(ii)+\"_full_model.h5\"), '1mIKKTtCuPqWAjmoBAHeCfdnZBAp1QiKj')\n",
    "            \"\"\"\n",
    "        \n",
    "            #makes \"classification report\" and assigns the precision, f-measure, and recall values.s.    \n",
    "            \n",
    "\n",
    "            f_1=f1_score(y_test, predict, average='macro')\n",
    "            pr=precision_score(y_test, predict, average='macro')\n",
    "            rc=recall_score(y_test, predict, average='macro')\n",
    "            \n",
    "            \n",
    "            precision.append(float(pr))\n",
    "            recall.append(float(rc))\n",
    "            f1.append(float(f_1))\n",
    "            accuracy.append(model.score(X_test, y_test))\n",
    "            t_time.append(float((time.time()-second)) )\n",
    "\n",
    "\n",
    "\n",
    "            \n",
    "        print ('%-17s  %-15s %-15s %-15s %-15s %-15s' % (ii,str(round(np.mean(accuracy),2)),str(round(np.mean(precision),2)), \n",
    "            str(round(np.mean(recall),2)),str(round(np.mean(f1),2)),str(round(np.mean(t_time),4))))#the result of the ten repetitions is printed on the screen.\n",
    "\n",
    "        with open(result, \"a\", newline=\"\",encoding=\"utf-8\") as f: # all the values found are saved in the opened file.\n",
    "            wrt = csv.writer(f)\n",
    "            for i in range(0,len(t_time)):\n",
    "                wrt.writerow([ii,accuracy[i],precision[i],recall[i],f1[i],t_time[i]])#file name, algorithm name, precision, recall and f-measure are writed in CSV file\n",
    "   \n",
    "     # In this section, Box graphics are created for the results of machine learning algorithms and saved in the feaure_graph folder.\n",
    "        plt.boxplot(f1)\n",
    "        plt.title(\"All Dataset - \" +str(ii))\n",
    "        plt.ylabel('F-measure')\n",
    "        plt.savefig(folder_name+str(ii)+\".pdf\",bbox_inches='tight', papertype = 'a4', orientation = 'portrait', format = 'pdf')\n",
    "        plt.show()# you can remove the # sign if you want to see the graphics simultaneously\n",
    "\n",
    "print(\"*** TRAINING FINISH ***\")\n",
    "print(\"Total operation time: = \",time.time()- seconds ,\"seconds\")\n",
    "del X, Y"
   ]
  },
  {
   "cell_type": "code",
   "execution_count": null,
   "id": "84ef33da",
   "metadata": {},
   "outputs": [],
   "source": []
  }
 ],
 "metadata": {
  "kernelspec": {
   "display_name": "Python 3 (ipykernel)",
   "language": "python",
   "name": "python3"
  },
  "language_info": {
   "codemirror_mode": {
    "name": "ipython",
    "version": 3
   },
   "file_extension": ".py",
   "mimetype": "text/x-python",
   "name": "python",
   "nbconvert_exporter": "python",
   "pygments_lexer": "ipython3",
   "version": "3.9.7"
  }
 },
 "nbformat": 4,
 "nbformat_minor": 5
}
